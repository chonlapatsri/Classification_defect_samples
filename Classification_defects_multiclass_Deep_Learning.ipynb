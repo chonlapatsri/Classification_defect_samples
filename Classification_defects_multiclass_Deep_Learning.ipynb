{
 "cells": [
  {
   "cell_type": "markdown",
   "metadata": {},
   "source": [
    "#### This jupyter notebook contains a sample code that represents my work on classification machine learning model to predict Labels\n",
    "\n",
    "**caveat: the performance of the model given the dummy dataset is terrible. It was much better with a dataset for the problem that it meant to solve. This highlights the importance of the quality of data for machine learning.\n",
    "\n",
    "\n",
    "This the Deep Learning neural network for multiclass classification. In order to improve the overall performance of the model, hyperparameter tuning was carried out and at the same time earlystopping and callback were used to prevent overfitting and minimise training time. One Cycle learning rate scheduler technique was also used to get as close to the global optimal as possible.  "
   ]
  },
  {
   "cell_type": "code",
   "execution_count": 1,
   "metadata": {},
   "outputs": [],
   "source": [
    "import sys\n",
    "\n",
    "import pandas as pd\n",
    "import numpy as np\n",
    "import matplotlib as mpl\n",
    "import matplotlib.pyplot as plt\n",
    "import seaborn as sns\n",
    "import math"
   ]
  },
  {
   "cell_type": "markdown",
   "metadata": {},
   "source": [
    "### 1. Dataset Preparation steps"
   ]
  },
  {
   "cell_type": "code",
   "execution_count": 2,
   "metadata": {},
   "outputs": [
    {
     "data": {
      "text/html": [
       "<div>\n",
       "<style scoped>\n",
       "    .dataframe tbody tr th:only-of-type {\n",
       "        vertical-align: middle;\n",
       "    }\n",
       "\n",
       "    .dataframe tbody tr th {\n",
       "        vertical-align: top;\n",
       "    }\n",
       "\n",
       "    .dataframe thead th {\n",
       "        text-align: right;\n",
       "    }\n",
       "</style>\n",
       "<table border=\"1\" class=\"dataframe\">\n",
       "  <thead>\n",
       "    <tr style=\"text-align: right;\">\n",
       "      <th></th>\n",
       "      <th>defect_1</th>\n",
       "      <th>defect_2</th>\n",
       "      <th>defect_3</th>\n",
       "      <th>defect_4</th>\n",
       "      <th>defect_5</th>\n",
       "      <th>defect_1_Type</th>\n",
       "      <th>defect_2_Type</th>\n",
       "      <th>defect_3_Type</th>\n",
       "      <th>defect_4_Type</th>\n",
       "      <th>defect_5_Type</th>\n",
       "      <th>...</th>\n",
       "      <th>Recall</th>\n",
       "      <th>TPR</th>\n",
       "      <th>FPR</th>\n",
       "      <th>TNR</th>\n",
       "      <th>FNR</th>\n",
       "      <th>Youden</th>\n",
       "      <th>Balanced_Accuracy</th>\n",
       "      <th>ROC_Curve</th>\n",
       "      <th>PR_Curve</th>\n",
       "      <th>AP</th>\n",
       "    </tr>\n",
       "  </thead>\n",
       "  <tbody>\n",
       "    <tr>\n",
       "      <th>0</th>\n",
       "      <td>1</td>\n",
       "      <td>0</td>\n",
       "      <td>0</td>\n",
       "      <td>1</td>\n",
       "      <td>0</td>\n",
       "      <td>C</td>\n",
       "      <td>D</td>\n",
       "      <td>D</td>\n",
       "      <td>C</td>\n",
       "      <td>A</td>\n",
       "      <td>...</td>\n",
       "      <td>0.072661</td>\n",
       "      <td>0.634846</td>\n",
       "      <td>0.115643</td>\n",
       "      <td>0.398134</td>\n",
       "      <td>0.059515</td>\n",
       "      <td>0.617526</td>\n",
       "      <td>0.010808</td>\n",
       "      <td>0.918326</td>\n",
       "      <td>0.287030</td>\n",
       "      <td>0.848672</td>\n",
       "    </tr>\n",
       "    <tr>\n",
       "      <th>1</th>\n",
       "      <td>1</td>\n",
       "      <td>0</td>\n",
       "      <td>0</td>\n",
       "      <td>0</td>\n",
       "      <td>0</td>\n",
       "      <td>B</td>\n",
       "      <td>A</td>\n",
       "      <td>A</td>\n",
       "      <td>A</td>\n",
       "      <td>A</td>\n",
       "      <td>...</td>\n",
       "      <td>0.883966</td>\n",
       "      <td>0.755261</td>\n",
       "      <td>0.967374</td>\n",
       "      <td>0.432881</td>\n",
       "      <td>0.448161</td>\n",
       "      <td>0.617098</td>\n",
       "      <td>0.358556</td>\n",
       "      <td>0.150785</td>\n",
       "      <td>0.284107</td>\n",
       "      <td>0.336113</td>\n",
       "    </tr>\n",
       "    <tr>\n",
       "      <th>2</th>\n",
       "      <td>1</td>\n",
       "      <td>0</td>\n",
       "      <td>0</td>\n",
       "      <td>0</td>\n",
       "      <td>1</td>\n",
       "      <td>B</td>\n",
       "      <td>A</td>\n",
       "      <td>B</td>\n",
       "      <td>A</td>\n",
       "      <td>A</td>\n",
       "      <td>...</td>\n",
       "      <td>0.616377</td>\n",
       "      <td>0.157210</td>\n",
       "      <td>0.635268</td>\n",
       "      <td>0.879132</td>\n",
       "      <td>0.050182</td>\n",
       "      <td>0.322761</td>\n",
       "      <td>0.656259</td>\n",
       "      <td>0.377684</td>\n",
       "      <td>0.441350</td>\n",
       "      <td>0.407003</td>\n",
       "    </tr>\n",
       "    <tr>\n",
       "      <th>3</th>\n",
       "      <td>0</td>\n",
       "      <td>1</td>\n",
       "      <td>0</td>\n",
       "      <td>0</td>\n",
       "      <td>1</td>\n",
       "      <td>A</td>\n",
       "      <td>C</td>\n",
       "      <td>A</td>\n",
       "      <td>A</td>\n",
       "      <td>A</td>\n",
       "      <td>...</td>\n",
       "      <td>0.898903</td>\n",
       "      <td>0.170384</td>\n",
       "      <td>0.872083</td>\n",
       "      <td>0.923067</td>\n",
       "      <td>0.658688</td>\n",
       "      <td>0.135539</td>\n",
       "      <td>0.033005</td>\n",
       "      <td>0.557535</td>\n",
       "      <td>0.706936</td>\n",
       "      <td>0.357118</td>\n",
       "    </tr>\n",
       "    <tr>\n",
       "      <th>4</th>\n",
       "      <td>1</td>\n",
       "      <td>1</td>\n",
       "      <td>0</td>\n",
       "      <td>0</td>\n",
       "      <td>1</td>\n",
       "      <td>B</td>\n",
       "      <td>C</td>\n",
       "      <td>B</td>\n",
       "      <td>A</td>\n",
       "      <td>C</td>\n",
       "      <td>...</td>\n",
       "      <td>0.128717</td>\n",
       "      <td>0.467506</td>\n",
       "      <td>0.548964</td>\n",
       "      <td>0.685815</td>\n",
       "      <td>0.757171</td>\n",
       "      <td>0.375626</td>\n",
       "      <td>0.139362</td>\n",
       "      <td>0.862527</td>\n",
       "      <td>0.617446</td>\n",
       "      <td>0.223739</td>\n",
       "    </tr>\n",
       "  </tbody>\n",
       "</table>\n",
       "<p>5 rows × 62 columns</p>\n",
       "</div>"
      ],
      "text/plain": [
       "   defect_1  defect_2  defect_3  defect_4  defect_5 defect_1_Type  \\\n",
       "0         1         0         0         1         0             C   \n",
       "1         1         0         0         0         0             B   \n",
       "2         1         0         0         0         1             B   \n",
       "3         0         1         0         0         1             A   \n",
       "4         1         1         0         0         1             B   \n",
       "\n",
       "  defect_2_Type defect_3_Type defect_4_Type defect_5_Type  ...    Recall  \\\n",
       "0             D             D             C             A  ...  0.072661   \n",
       "1             A             A             A             A  ...  0.883966   \n",
       "2             A             B             A             A  ...  0.616377   \n",
       "3             C             A             A             A  ...  0.898903   \n",
       "4             C             B             A             C  ...  0.128717   \n",
       "\n",
       "        TPR       FPR       TNR       FNR    Youden Balanced_Accuracy  \\\n",
       "0  0.634846  0.115643  0.398134  0.059515  0.617526          0.010808   \n",
       "1  0.755261  0.967374  0.432881  0.448161  0.617098          0.358556   \n",
       "2  0.157210  0.635268  0.879132  0.050182  0.322761          0.656259   \n",
       "3  0.170384  0.872083  0.923067  0.658688  0.135539          0.033005   \n",
       "4  0.467506  0.548964  0.685815  0.757171  0.375626          0.139362   \n",
       "\n",
       "   ROC_Curve  PR_Curve        AP  \n",
       "0   0.918326  0.287030  0.848672  \n",
       "1   0.150785  0.284107  0.336113  \n",
       "2   0.377684  0.441350  0.407003  \n",
       "3   0.557535  0.706936  0.357118  \n",
       "4   0.862527  0.617446  0.223739  \n",
       "\n",
       "[5 rows x 62 columns]"
      ]
     },
     "execution_count": 2,
     "metadata": {},
     "output_type": "execute_result"
    }
   ],
   "source": [
    "# Create a dummy dataset of 100,000 rows in total that fit the problem\n",
    "# Define the number of rows for each dataframe\n",
    "num_rows = 100000\n",
    "\n",
    "df = pd.DataFrame({\n",
    "    'defect_1': np.random.randint(0, 2, size=num_rows),\n",
    "    'defect_2': np.random.randint(0, 2, size=num_rows),\n",
    "    'defect_3': np.random.randint(0, 2, size=num_rows),\n",
    "    'defect_4': np.random.randint(0, 2, size=num_rows),\n",
    "    'defect_5': np.random.randint(0, 2, size=num_rows),\n",
    "    'defect_1_Type': np.random.choice(['A', 'B', 'C', 'D'], size=num_rows),\n",
    "    'defect_2_Type': np.random.choice(['A', 'B', 'C', 'D'], size=num_rows),\n",
    "    'defect_3_Type': np.random.choice(['A', 'B', 'C', 'D'], size=num_rows),\n",
    "    'defect_4_Type': np.random.choice(['A', 'B', 'C', 'D'], size=num_rows),\n",
    "    'defect_5_Type': np.random.choice(['A', 'B', 'C', 'D'], size=num_rows),\n",
    "    'Reference': np.random.randint(0, 10, size=num_rows),\n",
    "    'Lane': np.random.choice(['V1', 'V2'], size=num_rows),\n",
    "    'TailleZone': np.random.randint(0, 100, size=num_rows),\n",
    "    'Courbure': np.random.uniform(0, 1, size=num_rows),\n",
    "    'CourbureVert': np.random.uniform(0, 1, size=num_rows),\n",
    "    'Vitesse': np.random.uniform(0, 100, size=num_rows),\n",
    "    'SensMarche': np.random.choice(['Forward', 'Backward'], size=num_rows),\n",
    "    'Lat_acc_tete_Max': np.random.uniform(0, 1, size=num_rows),\n",
    "    'Lat_acc_tete_Max_Pos': np.random.uniform(0, 100, size=num_rows),\n",
    "    'Lat_acc_tete_Max_Pos_Moy': np.random.uniform(0, 100, size=num_rows),\n",
    "    'Lat_acc_tete_Avg': np.random.uniform(0, 1, size=num_rows),\n",
    "    'Lat_acc_tete_P2Avg': np.random.uniform(0, 1, size=num_rows),\n",
    "    'Lat_acc_milieu_Max': np.random.uniform(0, 1, size=num_rows),\n",
    "    'Lat_acc_milieu_Max_Pos': np.random.uniform(0, 100, size=num_rows),\n",
    "    'Lat_acc_milieu_Max_Pos_Moy': np.random.uniform(0, 100, size=num_rows),\n",
    "    'Lat_acc_milieu_Avg': np.random.uniform(0, 1, size=num_rows),\n",
    "    'Lat_acc_milieu_P2Avg': np.random.uniform(0, 1, size=num_rows),\n",
    "    'Lat_acc_queue_Max': np.random.uniform(0, 1, size=num_rows),\n",
    "    'Lat_acc_queue_Max_Pos': np.random.uniform(0, 100, size=num_rows),\n",
    "    'Lat_acc_queue_Max_Pos_Moy': np.random.uniform(0, 100, size=num_rows),\n",
    "    'Lat_acc_queue_Avg': np.random.uniform(0, 1, size=num_rows),\n",
    "    'Lat_acc_queue_P2Avg': np.random.uniform(0, 1, size=num_rows),\n",
    "    'Vert_acc_tete_Max': np.random.uniform(0, 100, size=num_rows),\n",
    "    'Vert_acc_tete_Max_Pos': np.random.uniform(0, 100, size=num_rows),\n",
    "    'Vert_acc_tete_Max_Pos_Moy': np.random.uniform(0, 100, size=num_rows),\n",
    "    'Vert_acc_tete_Avg': np.random.uniform(0, 1, size=num_rows),\n",
    "    'Vert_acc_tete_P2Avg': np.random.uniform(0, 1, size=num_rows),\n",
    "    'Vert_acc_milieu_Max': np.random.uniform(0, 1, size=num_rows),\n",
    "    'Vert_acc_milieu_Max_Pos': np.random.uniform(0, 100, size=num_rows),\n",
    "    'Vert_acc_milieu_Max_Pos_Moy': np.random.uniform(0, 100, size=num_rows),\n",
    "    'Vert_acc_milieu_Avg': np.random.uniform(0, 1, size=num_rows),\n",
    "    'Vert_acc_milieu_P2Avg': np.random.uniform(0, 1, size=num_rows),\n",
    "    'Vert_acc_queue_Max': np.random.uniform(0, 1, size=num_rows),\n",
    "    'Vert_acc_queue_Max_Pos': np.random.uniform(0, 100, size=num_rows),\n",
    "    'Vert_acc_queue_Max_Pos_Moy': np.random.uniform(0, 100, size=num_rows),\n",
    "    'Vert_acc_queue_Avg': np.random.uniform(0, 1, size=num_rows),\n",
    "    'Vert_acc_queue_P2Avg': np.random.uniform(0, 1, size=num_rows),\n",
    "    'G_Mean': np.random.uniform(0, 1, size=num_rows),\n",
    "    'AUC': np.random.uniform(0, 1, size=num_rows),\n",
    "    'F-Measure': np.random.uniform(0, 1, size=num_rows),\n",
    "    'Specificity': np.random.uniform(0, 1, size=num_rows),\n",
    "    'Precision': np.random.uniform(0, 1, size=num_rows),\n",
    "    'Recall': np.random.uniform(0, 1, size=num_rows),\n",
    "    'TPR': np.random.uniform(0, 1, size=num_rows),\n",
    "    'FPR': np.random.uniform(0, 1, size=num_rows),\n",
    "    'TNR': np.random.uniform(0, 1, size=num_rows),\n",
    "    'FNR': np.random.uniform(0, 1, size=num_rows),\n",
    "    'Youden': np.random.uniform(0, 1, size=num_rows),\n",
    "    'Balanced_Accuracy': np.random.uniform(0, 1, size=num_rows),\n",
    "    'ROC_Curve': np.random.uniform(0, 1, size=num_rows),\n",
    "    'PR_Curve': np.random.uniform(0, 1, size=num_rows),\n",
    "    'AP': np.random.uniform(0, 1, size=num_rows)\n",
    "})\n",
    "\n",
    "# Display the DataFrame\n",
    "df.head()"
   ]
  },
  {
   "cell_type": "code",
   "execution_count": 3,
   "metadata": {},
   "outputs": [],
   "source": [
    "# Remove unwanted columns\n",
    "geo_param_to_remove = ['defect_1', 'defect_2', 'defect_3', 'defect_4', 'defect_5']\n",
    "for col in df.columns.tolist():\n",
    "    if 'PR' in col or 'NR' in col:\n",
    "        geo_param_to_remove.append(col)\n",
    "\n",
    "zone_info_to_remove = ['G_Mean', 'AUC', 'F-Measure', 'Specificity', 'Precision', 'Recall' \n",
    "                       , 'Youden', 'Balanced_Accuracy', 'ROC_Curve', 'PR_Curve', 'AP']\n",
    "\n",
    "remove_list = geo_param_to_remove + zone_info_to_remove"
   ]
  },
  {
   "cell_type": "code",
   "execution_count": 4,
   "metadata": {},
   "outputs": [
    {
     "name": "stdout",
     "output_type": "stream",
     "text": [
      "['defect_1_Type', 'defect_2_Type', 'defect_3_Type', 'defect_4_Type', 'defect_5_Type', 'Reference', 'Lane', 'TailleZone', 'Courbure', 'CourbureVert', 'Vitesse', 'SensMarche', 'Lat_acc_tete_Max', 'Lat_acc_tete_Max_Pos', 'Lat_acc_tete_Max_Pos_Moy', 'Lat_acc_tete_Avg', 'Lat_acc_tete_P2Avg', 'Lat_acc_milieu_Max', 'Lat_acc_milieu_Max_Pos', 'Lat_acc_milieu_Max_Pos_Moy', 'Lat_acc_milieu_Avg', 'Lat_acc_milieu_P2Avg', 'Lat_acc_queue_Max', 'Lat_acc_queue_Max_Pos', 'Lat_acc_queue_Max_Pos_Moy', 'Lat_acc_queue_Avg', 'Lat_acc_queue_P2Avg', 'Vert_acc_tete_Max', 'Vert_acc_tete_Max_Pos', 'Vert_acc_tete_Max_Pos_Moy', 'Vert_acc_tete_Avg', 'Vert_acc_tete_P2Avg', 'Vert_acc_milieu_Max', 'Vert_acc_milieu_Max_Pos', 'Vert_acc_milieu_Max_Pos_Moy', 'Vert_acc_milieu_Avg', 'Vert_acc_milieu_P2Avg', 'Vert_acc_queue_Max', 'Vert_acc_queue_Max_Pos', 'Vert_acc_queue_Max_Pos_Moy', 'Vert_acc_queue_Avg', 'Vert_acc_queue_P2Avg']\n"
     ]
    }
   ],
   "source": [
    "df.drop(remove_list, axis=1, inplace=True)\n",
    "print(df.columns.tolist())"
   ]
  },
  {
   "cell_type": "code",
   "execution_count": 5,
   "metadata": {
    "scrolled": true
   },
   "outputs": [
    {
     "data": {
      "text/plain": [
       "(100000, 42)"
      ]
     },
     "execution_count": 5,
     "metadata": {},
     "output_type": "execute_result"
    }
   ],
   "source": [
    "df.shape"
   ]
  },
  {
   "cell_type": "code",
   "execution_count": 6,
   "metadata": {},
   "outputs": [],
   "source": [
    "# More columns and rows filtering can be done here, in the original data there are others\n",
    "df[\"Lane\"] = df.apply(lambda x: 'V1' if 'V1' in x[\"Lane\"] else 'V2', axis=1)"
   ]
  },
  {
   "cell_type": "code",
   "execution_count": 7,
   "metadata": {
    "scrolled": false
   },
   "outputs": [
    {
     "name": "stdout",
     "output_type": "stream",
     "text": [
      "Index([], dtype='object')\n"
     ]
    }
   ],
   "source": [
    "# check for null values, in this case there isn't any because it's a dummy dataset\n",
    "print(df.columns[df.isnull().any()])"
   ]
  },
  {
   "cell_type": "code",
   "execution_count": 8,
   "metadata": {},
   "outputs": [],
   "source": [
    "# Create a 'long_cat' column: 0 for without Niv or Nall, 1 for with only Niv, Nall, or Both, and 2 for Niv,Nall + others \n",
    "df[\"long_cat\"] = df.apply(lambda x: 0 if \n",
    "                          x['defect_4_Type'] == 'A' and x['defect_5_Type'] == 'A'\n",
    "                          else 1 if\n",
    "                          (x['defect_1_Type'] != 'A' or x['defect_5_Type'] != 'A') and\n",
    "                          x['defect_2_Type'] == 'A' and \n",
    "                          x['defect_3_Type'] == 'A'\n",
    "                          else 2, axis=1)"
   ]
  },
  {
   "cell_type": "code",
   "execution_count": 9,
   "metadata": {},
   "outputs": [],
   "source": [
    "#Create a new column that collects every defect types that exist in the zone which will be used for stratification\n",
    "Defect_types = ['defect_1_Type', 'defect_2_Type', 'defect_3_Type', 'defect_4_Type', 'defect_5_Type']\n",
    "df[\"labels\"] = df.apply(lambda x: ','.join(x[x.index.isin(Defect_types)].index\n",
    "                                           [x[x.index.isin(Defect_types)] != 'A' ]), axis=1)"
   ]
  },
  {
   "cell_type": "markdown",
   "metadata": {},
   "source": [
    "#### Split the df into final_test_set and global_train_set using defect combination"
   ]
  },
  {
   "cell_type": "code",
   "execution_count": 10,
   "metadata": {},
   "outputs": [
    {
     "data": {
      "text/plain": [
       "Series([], Name: labels, dtype: int64)"
      ]
     },
     "execution_count": 10,
     "metadata": {},
     "output_type": "execute_result"
    }
   ],
   "source": [
    "# Find row with a unique combination of types that only have one sample which will create problem during split\n",
    "df[\"labels\"].value_counts().loc[lambda x: x<2]"
   ]
  },
  {
   "cell_type": "code",
   "execution_count": 11,
   "metadata": {},
   "outputs": [],
   "source": [
    "# Get the row that have unique combination (we will add them to the test set), before dropping them from the main df\n",
    "unique_combination_ind = df[\"labels\"].value_counts().loc[lambda x: x<2].index\n",
    "unique_combination_df = df[df[\"labels\"].isin(unique_combination_ind)]\n",
    "\n",
    "#print(unique_combination_df)\n",
    "\n",
    "# drop rows with unique_combination\n",
    "#print(\"before drop: \", df.shape)\n",
    "df = df.drop(df[df[\"labels\"].isin(unique_combination_ind)].index).reset_index(drop=True)\n",
    "#print(\"after drop: \", df.shape)"
   ]
  },
  {
   "cell_type": "code",
   "execution_count": 12,
   "metadata": {},
   "outputs": [],
   "source": [
    "from sklearn.model_selection import StratifiedShuffleSplit"
   ]
  },
  {
   "cell_type": "code",
   "execution_count": 13,
   "metadata": {},
   "outputs": [],
   "source": [
    "split = StratifiedShuffleSplit(n_splits=1, test_size=0.2, random_state=42)\n",
    "# Defect_cat is 0 for without Niv or Nall, 1 for with Niv, Nall, or Both \n",
    "for train_index, test_index in split.split(df, df[\"labels\"]):\n",
    "    Global_train_set = df.loc[train_index]\n",
    "    Final_test_set_original = df.loc[test_index]"
   ]
  },
  {
   "cell_type": "code",
   "execution_count": 14,
   "metadata": {
    "scrolled": true
   },
   "outputs": [
    {
     "data": {
      "text/plain": [
       "defect_1_Type,defect_2_Type,defect_3_Type,defect_4_Type,defect_5_Type    4719\n",
       "defect_1_Type,defect_3_Type,defect_4_Type,defect_5_Type                  1607\n",
       "defect_1_Type,defect_2_Type,defect_3_Type,defect_4_Type                  1595\n",
       "defect_1_Type,defect_2_Type,defect_3_Type,defect_5_Type                  1572\n",
       "defect_1_Type,defect_2_Type,defect_4_Type,defect_5_Type                  1566\n",
       "defect_2_Type,defect_3_Type,defect_4_Type,defect_5_Type                  1560\n",
       "defect_1_Type,defect_3_Type,defect_5_Type                                 549\n",
       "defect_1_Type,defect_2_Type,defect_4_Type                                 538\n",
       "defect_1_Type,defect_2_Type,defect_3_Type                                 535\n",
       "defect_1_Type,defect_4_Type,defect_5_Type                                 531\n",
       "defect_2_Type,defect_3_Type,defect_4_Type                                 530\n",
       "defect_1_Type,defect_2_Type,defect_5_Type                                 530\n",
       "defect_2_Type,defect_3_Type,defect_5_Type                                 529\n",
       "defect_2_Type,defect_4_Type,defect_5_Type                                 523\n",
       "defect_3_Type,defect_4_Type,defect_5_Type                                 519\n",
       "defect_1_Type,defect_3_Type,defect_4_Type                                 516\n",
       "defect_1_Type,defect_4_Type                                               190\n",
       "defect_1_Type,defect_2_Type                                               186\n",
       "defect_1_Type,defect_3_Type                                               183\n",
       "defect_3_Type,defect_5_Type                                               180\n",
       "defect_4_Type,defect_5_Type                                               177\n",
       "defect_2_Type,defect_3_Type                                               173\n",
       "defect_2_Type,defect_5_Type                                               170\n",
       "defect_2_Type,defect_4_Type                                               170\n",
       "defect_3_Type,defect_4_Type                                               169\n",
       "defect_1_Type,defect_5_Type                                               164\n",
       "defect_5_Type                                                              61\n",
       "defect_1_Type                                                              61\n",
       "defect_4_Type                                                              60\n",
       "defect_3_Type                                                              58\n",
       "defect_2_Type                                                              57\n",
       "                                                                           22\n",
       "Name: labels, dtype: int64"
      ]
     },
     "execution_count": 14,
     "metadata": {},
     "output_type": "execute_result"
    }
   ],
   "source": [
    "# Add the unique combination rows to the Final_test_set\n",
    "Final_test_set_original = pd.concat([Final_test_set_original, unique_combination_df], ignore_index=True)\n",
    "\n",
    "Final_test_set_original[\"labels\"].value_counts()"
   ]
  },
  {
   "cell_type": "code",
   "execution_count": 15,
   "metadata": {},
   "outputs": [],
   "source": [
    "# Drop the labels colmun from test and train sets\n",
    "Global_train_set = Global_train_set.drop(\"labels\", axis=1)\n",
    "Final_test_set_original = Final_test_set_original.drop(\"labels\", axis=1)"
   ]
  },
  {
   "cell_type": "code",
   "execution_count": 16,
   "metadata": {},
   "outputs": [],
   "source": [
    "# Drop all '_type' columns and AB_tete and AC_tete\n",
    "Global_train_set.drop(['defect_1_Type', 'defect_2_Type', 'defect_3_Type', 'defect_4_Type', 'defect_5_Type']\n",
    "        , axis=1, inplace=True)\n",
    "\n",
    "Final_test_set_original.drop(['defect_1_Type', 'defect_2_Type', 'defect_3_Type', 'defect_4_Type', 'defect_5_Type']\n",
    "        , axis=1, inplace=True)"
   ]
  },
  {
   "cell_type": "code",
   "execution_count": 17,
   "metadata": {},
   "outputs": [
    {
     "data": {
      "text/html": [
       "<div>\n",
       "<style scoped>\n",
       "    .dataframe tbody tr th:only-of-type {\n",
       "        vertical-align: middle;\n",
       "    }\n",
       "\n",
       "    .dataframe tbody tr th {\n",
       "        vertical-align: top;\n",
       "    }\n",
       "\n",
       "    .dataframe thead th {\n",
       "        text-align: right;\n",
       "    }\n",
       "</style>\n",
       "<table border=\"1\" class=\"dataframe\">\n",
       "  <thead>\n",
       "    <tr style=\"text-align: right;\">\n",
       "      <th></th>\n",
       "      <th>Reference</th>\n",
       "      <th>Lane</th>\n",
       "      <th>TailleZone</th>\n",
       "      <th>Courbure</th>\n",
       "      <th>CourbureVert</th>\n",
       "      <th>Vitesse</th>\n",
       "      <th>SensMarche</th>\n",
       "      <th>Lat_acc_tete_Max</th>\n",
       "      <th>Lat_acc_tete_Max_Pos</th>\n",
       "      <th>Lat_acc_tete_Max_Pos_Moy</th>\n",
       "      <th>...</th>\n",
       "      <th>Vert_acc_milieu_Max_Pos</th>\n",
       "      <th>Vert_acc_milieu_Max_Pos_Moy</th>\n",
       "      <th>Vert_acc_milieu_Avg</th>\n",
       "      <th>Vert_acc_milieu_P2Avg</th>\n",
       "      <th>Vert_acc_queue_Max</th>\n",
       "      <th>Vert_acc_queue_Max_Pos</th>\n",
       "      <th>Vert_acc_queue_Max_Pos_Moy</th>\n",
       "      <th>Vert_acc_queue_Avg</th>\n",
       "      <th>Vert_acc_queue_P2Avg</th>\n",
       "      <th>long_cat</th>\n",
       "    </tr>\n",
       "  </thead>\n",
       "  <tbody>\n",
       "    <tr>\n",
       "      <th>9405</th>\n",
       "      <td>7</td>\n",
       "      <td>V2</td>\n",
       "      <td>58</td>\n",
       "      <td>0.881104</td>\n",
       "      <td>0.527673</td>\n",
       "      <td>48.220777</td>\n",
       "      <td>Backward</td>\n",
       "      <td>0.033470</td>\n",
       "      <td>81.135083</td>\n",
       "      <td>79.572213</td>\n",
       "      <td>...</td>\n",
       "      <td>1.376675</td>\n",
       "      <td>20.211125</td>\n",
       "      <td>0.939444</td>\n",
       "      <td>0.602548</td>\n",
       "      <td>0.487120</td>\n",
       "      <td>15.429305</td>\n",
       "      <td>36.877844</td>\n",
       "      <td>0.864419</td>\n",
       "      <td>0.878651</td>\n",
       "      <td>2</td>\n",
       "    </tr>\n",
       "    <tr>\n",
       "      <th>10208</th>\n",
       "      <td>7</td>\n",
       "      <td>V1</td>\n",
       "      <td>13</td>\n",
       "      <td>0.403671</td>\n",
       "      <td>0.532949</td>\n",
       "      <td>60.970528</td>\n",
       "      <td>Backward</td>\n",
       "      <td>0.305302</td>\n",
       "      <td>6.165945</td>\n",
       "      <td>41.626500</td>\n",
       "      <td>...</td>\n",
       "      <td>62.127977</td>\n",
       "      <td>40.876672</td>\n",
       "      <td>0.832609</td>\n",
       "      <td>0.264256</td>\n",
       "      <td>0.927546</td>\n",
       "      <td>43.432629</td>\n",
       "      <td>33.818752</td>\n",
       "      <td>0.519203</td>\n",
       "      <td>0.030213</td>\n",
       "      <td>2</td>\n",
       "    </tr>\n",
       "    <tr>\n",
       "      <th>47254</th>\n",
       "      <td>7</td>\n",
       "      <td>V2</td>\n",
       "      <td>68</td>\n",
       "      <td>0.671967</td>\n",
       "      <td>0.769912</td>\n",
       "      <td>95.245923</td>\n",
       "      <td>Backward</td>\n",
       "      <td>0.327161</td>\n",
       "      <td>3.992533</td>\n",
       "      <td>25.744161</td>\n",
       "      <td>...</td>\n",
       "      <td>25.170132</td>\n",
       "      <td>18.210034</td>\n",
       "      <td>0.469598</td>\n",
       "      <td>0.943490</td>\n",
       "      <td>0.686136</td>\n",
       "      <td>18.317202</td>\n",
       "      <td>60.898217</td>\n",
       "      <td>0.734331</td>\n",
       "      <td>0.992658</td>\n",
       "      <td>2</td>\n",
       "    </tr>\n",
       "    <tr>\n",
       "      <th>22811</th>\n",
       "      <td>2</td>\n",
       "      <td>V2</td>\n",
       "      <td>86</td>\n",
       "      <td>0.049655</td>\n",
       "      <td>0.457658</td>\n",
       "      <td>31.134670</td>\n",
       "      <td>Forward</td>\n",
       "      <td>0.738360</td>\n",
       "      <td>68.491125</td>\n",
       "      <td>5.413170</td>\n",
       "      <td>...</td>\n",
       "      <td>51.056772</td>\n",
       "      <td>85.533911</td>\n",
       "      <td>0.429563</td>\n",
       "      <td>0.717762</td>\n",
       "      <td>0.651091</td>\n",
       "      <td>61.021200</td>\n",
       "      <td>92.340238</td>\n",
       "      <td>0.259048</td>\n",
       "      <td>0.016967</td>\n",
       "      <td>2</td>\n",
       "    </tr>\n",
       "    <tr>\n",
       "      <th>13790</th>\n",
       "      <td>5</td>\n",
       "      <td>V1</td>\n",
       "      <td>21</td>\n",
       "      <td>0.309491</td>\n",
       "      <td>0.195125</td>\n",
       "      <td>96.631197</td>\n",
       "      <td>Backward</td>\n",
       "      <td>0.773160</td>\n",
       "      <td>0.381197</td>\n",
       "      <td>27.266241</td>\n",
       "      <td>...</td>\n",
       "      <td>51.785907</td>\n",
       "      <td>1.383321</td>\n",
       "      <td>0.277815</td>\n",
       "      <td>0.768091</td>\n",
       "      <td>0.558751</td>\n",
       "      <td>52.700810</td>\n",
       "      <td>57.950195</td>\n",
       "      <td>0.164057</td>\n",
       "      <td>0.981256</td>\n",
       "      <td>2</td>\n",
       "    </tr>\n",
       "  </tbody>\n",
       "</table>\n",
       "<p>5 rows × 38 columns</p>\n",
       "</div>"
      ],
      "text/plain": [
       "       Reference Lane  TailleZone  Courbure  CourbureVert    Vitesse  \\\n",
       "9405           7   V2          58  0.881104      0.527673  48.220777   \n",
       "10208          7   V1          13  0.403671      0.532949  60.970528   \n",
       "47254          7   V2          68  0.671967      0.769912  95.245923   \n",
       "22811          2   V2          86  0.049655      0.457658  31.134670   \n",
       "13790          5   V1          21  0.309491      0.195125  96.631197   \n",
       "\n",
       "      SensMarche  Lat_acc_tete_Max  Lat_acc_tete_Max_Pos  \\\n",
       "9405    Backward          0.033470             81.135083   \n",
       "10208   Backward          0.305302              6.165945   \n",
       "47254   Backward          0.327161              3.992533   \n",
       "22811    Forward          0.738360             68.491125   \n",
       "13790   Backward          0.773160              0.381197   \n",
       "\n",
       "       Lat_acc_tete_Max_Pos_Moy  ...  Vert_acc_milieu_Max_Pos  \\\n",
       "9405                  79.572213  ...                 1.376675   \n",
       "10208                 41.626500  ...                62.127977   \n",
       "47254                 25.744161  ...                25.170132   \n",
       "22811                  5.413170  ...                51.056772   \n",
       "13790                 27.266241  ...                51.785907   \n",
       "\n",
       "       Vert_acc_milieu_Max_Pos_Moy  Vert_acc_milieu_Avg  \\\n",
       "9405                     20.211125             0.939444   \n",
       "10208                    40.876672             0.832609   \n",
       "47254                    18.210034             0.469598   \n",
       "22811                    85.533911             0.429563   \n",
       "13790                     1.383321             0.277815   \n",
       "\n",
       "       Vert_acc_milieu_P2Avg  Vert_acc_queue_Max  Vert_acc_queue_Max_Pos  \\\n",
       "9405                0.602548            0.487120               15.429305   \n",
       "10208               0.264256            0.927546               43.432629   \n",
       "47254               0.943490            0.686136               18.317202   \n",
       "22811               0.717762            0.651091               61.021200   \n",
       "13790               0.768091            0.558751               52.700810   \n",
       "\n",
       "       Vert_acc_queue_Max_Pos_Moy  Vert_acc_queue_Avg  Vert_acc_queue_P2Avg  \\\n",
       "9405                    36.877844            0.864419              0.878651   \n",
       "10208                   33.818752            0.519203              0.030213   \n",
       "47254                   60.898217            0.734331              0.992658   \n",
       "22811                   92.340238            0.259048              0.016967   \n",
       "13790                   57.950195            0.164057              0.981256   \n",
       "\n",
       "       long_cat  \n",
       "9405          2  \n",
       "10208         2  \n",
       "47254         2  \n",
       "22811         2  \n",
       "13790         2  \n",
       "\n",
       "[5 rows x 38 columns]"
      ]
     },
     "execution_count": 17,
     "metadata": {},
     "output_type": "execute_result"
    }
   ],
   "source": [
    "Global_train_set.head()"
   ]
  },
  {
   "cell_type": "markdown",
   "metadata": {},
   "source": [
    "#### End final test set split"
   ]
  },
  {
   "cell_type": "markdown",
   "metadata": {},
   "source": [
    "# Classifier Multiclass training"
   ]
  },
  {
   "cell_type": "code",
   "execution_count": 18,
   "metadata": {},
   "outputs": [],
   "source": [
    "df = Global_train_set.copy()"
   ]
  },
  {
   "cell_type": "code",
   "execution_count": 19,
   "metadata": {},
   "outputs": [],
   "source": [
    "# Find if there is any column that is not numeric \n",
    "df_cat = df.select_dtypes(exclude=[np.number])\n",
    "#df_cat.head()\n",
    "\n",
    "# Add categorical columns that are number manually can convert them to categorical type\n",
    "other_cat_col = ['Reference']\n",
    "df[other_cat_col] = df[other_cat_col].astype(\"category\")\n",
    "#df[other_cat_col].dtypes"
   ]
  },
  {
   "cell_type": "code",
   "execution_count": 20,
   "metadata": {},
   "outputs": [],
   "source": [
    "from sklearn.preprocessing import OrdinalEncoder\n",
    "ordinal_encoder = OrdinalEncoder()"
   ]
  },
  {
   "cell_type": "code",
   "execution_count": 21,
   "metadata": {},
   "outputs": [],
   "source": [
    "df_cat_encoded = ordinal_encoder.fit_transform(df_cat)\n",
    "#print(df_cat_encoded)\n",
    "\n",
    "df[df_cat.columns.tolist()] = df_cat_encoded\n",
    "df[df_cat.columns.tolist()] = df[df_cat.columns.tolist()].astype(\"category\")\n",
    "#df[df_cat.columns.tolist()].value_counts()"
   ]
  },
  {
   "cell_type": "markdown",
   "metadata": {},
   "source": [
    "end of step 1."
   ]
  },
  {
   "cell_type": "markdown",
   "metadata": {},
   "source": [
    "### 2. Train/Val split (normal split here)"
   ]
  },
  {
   "cell_type": "code",
   "execution_count": 22,
   "metadata": {},
   "outputs": [],
   "source": [
    "y_train = df[\"long_cat\"]\n",
    "X_train = df.drop(\"long_cat\", axis=1)"
   ]
  },
  {
   "cell_type": "code",
   "execution_count": 23,
   "metadata": {},
   "outputs": [],
   "source": [
    "from sklearn.model_selection import train_test_split\n",
    "# Split the data into training and validation sets\n",
    "X_train, X_val, y_train, y_val = train_test_split(X_train, y_train, test_size=0.2, random_state=42)"
   ]
  },
  {
   "cell_type": "markdown",
   "metadata": {},
   "source": [
    "end of step 2."
   ]
  },
  {
   "cell_type": "markdown",
   "metadata": {},
   "source": [
    "### 3. Data Visualisation on train set"
   ]
  },
  {
   "cell_type": "markdown",
   "metadata": {},
   "source": [
    "### 4. Oversampling the train set"
   ]
  },
  {
   "cell_type": "code",
   "execution_count": 24,
   "metadata": {},
   "outputs": [
    {
     "data": {
      "text/plain": [
       "2    56411\n",
       "0     4061\n",
       "1     3528\n",
       "Name: long_cat, dtype: int64"
      ]
     },
     "execution_count": 24,
     "metadata": {},
     "output_type": "execute_result"
    }
   ],
   "source": [
    "y_train.value_counts()"
   ]
  },
  {
   "cell_type": "code",
   "execution_count": 25,
   "metadata": {},
   "outputs": [
    {
     "data": {
      "text/plain": [
       "2    0.881422\n",
       "0    0.063453\n",
       "1    0.055125\n",
       "Name: long_cat, dtype: float64"
      ]
     },
     "execution_count": 25,
     "metadata": {},
     "output_type": "execute_result"
    }
   ],
   "source": [
    "#We check the ratio of the labels\n",
    "y_train.value_counts() / len(y_train)"
   ]
  },
  {
   "cell_type": "markdown",
   "metadata": {},
   "source": [
    "If the size of class is too different, we can use oversampling below"
   ]
  },
  {
   "cell_type": "code",
   "execution_count": 26,
   "metadata": {},
   "outputs": [
    {
     "name": "stdout",
     "output_type": "stream",
     "text": [
      "Before oversampling Counter({2: 56411, 0: 4061, 1: 3528})\n"
     ]
    }
   ],
   "source": [
    "from collections import Counter\n",
    "counter = Counter(y_train)\n",
    "print('Before oversampling', counter)"
   ]
  },
  {
   "cell_type": "code",
   "execution_count": 27,
   "metadata": {},
   "outputs": [],
   "source": [
    "oversampling = False"
   ]
  },
  {
   "cell_type": "code",
   "execution_count": 28,
   "metadata": {},
   "outputs": [],
   "source": [
    "if oversampling:\n",
    "    from imblearn.over_sampling import ADASYN\n",
    "    ada = ADASYN(sampling_strategy='not majority', random_state = 42) # sampling_strategy = float only works for Binary \n",
    "    \n",
    "    X_train_pre_transf, y_train_pre_transf = ada.fit_resample(X_train, y_train)\n",
    "    counter = Counter(y_train_pre_transf)\n",
    "    print('After', counter)\n",
    "else:\n",
    "    X_train_pre_transf = X_train\n",
    "    y_train_pre_transf = y_train"
   ]
  },
  {
   "cell_type": "code",
   "execution_count": 29,
   "metadata": {},
   "outputs": [
    {
     "data": {
      "text/html": [
       "<div>\n",
       "<style scoped>\n",
       "    .dataframe tbody tr th:only-of-type {\n",
       "        vertical-align: middle;\n",
       "    }\n",
       "\n",
       "    .dataframe tbody tr th {\n",
       "        vertical-align: top;\n",
       "    }\n",
       "\n",
       "    .dataframe thead th {\n",
       "        text-align: right;\n",
       "    }\n",
       "</style>\n",
       "<table border=\"1\" class=\"dataframe\">\n",
       "  <thead>\n",
       "    <tr style=\"text-align: right;\">\n",
       "      <th></th>\n",
       "      <th>Reference</th>\n",
       "      <th>Lane</th>\n",
       "      <th>TailleZone</th>\n",
       "      <th>Courbure</th>\n",
       "      <th>CourbureVert</th>\n",
       "      <th>Vitesse</th>\n",
       "      <th>SensMarche</th>\n",
       "      <th>Lat_acc_tete_Max</th>\n",
       "      <th>Lat_acc_tete_Max_Pos</th>\n",
       "      <th>Lat_acc_tete_Max_Pos_Moy</th>\n",
       "      <th>...</th>\n",
       "      <th>Vert_acc_milieu_Max</th>\n",
       "      <th>Vert_acc_milieu_Max_Pos</th>\n",
       "      <th>Vert_acc_milieu_Max_Pos_Moy</th>\n",
       "      <th>Vert_acc_milieu_Avg</th>\n",
       "      <th>Vert_acc_milieu_P2Avg</th>\n",
       "      <th>Vert_acc_queue_Max</th>\n",
       "      <th>Vert_acc_queue_Max_Pos</th>\n",
       "      <th>Vert_acc_queue_Max_Pos_Moy</th>\n",
       "      <th>Vert_acc_queue_Avg</th>\n",
       "      <th>Vert_acc_queue_P2Avg</th>\n",
       "    </tr>\n",
       "  </thead>\n",
       "  <tbody>\n",
       "    <tr>\n",
       "      <th>903</th>\n",
       "      <td>8</td>\n",
       "      <td>1.0</td>\n",
       "      <td>66</td>\n",
       "      <td>0.499106</td>\n",
       "      <td>0.244612</td>\n",
       "      <td>39.925707</td>\n",
       "      <td>0.0</td>\n",
       "      <td>0.291860</td>\n",
       "      <td>35.723838</td>\n",
       "      <td>85.499205</td>\n",
       "      <td>...</td>\n",
       "      <td>0.097648</td>\n",
       "      <td>16.837990</td>\n",
       "      <td>60.620811</td>\n",
       "      <td>0.599558</td>\n",
       "      <td>0.250094</td>\n",
       "      <td>0.894533</td>\n",
       "      <td>67.725041</td>\n",
       "      <td>34.905820</td>\n",
       "      <td>0.844467</td>\n",
       "      <td>0.031398</td>\n",
       "    </tr>\n",
       "    <tr>\n",
       "      <th>35842</th>\n",
       "      <td>4</td>\n",
       "      <td>1.0</td>\n",
       "      <td>20</td>\n",
       "      <td>0.725760</td>\n",
       "      <td>0.691894</td>\n",
       "      <td>44.674473</td>\n",
       "      <td>0.0</td>\n",
       "      <td>0.320000</td>\n",
       "      <td>21.778280</td>\n",
       "      <td>1.738820</td>\n",
       "      <td>...</td>\n",
       "      <td>0.006997</td>\n",
       "      <td>79.361037</td>\n",
       "      <td>13.579726</td>\n",
       "      <td>0.392136</td>\n",
       "      <td>0.347430</td>\n",
       "      <td>0.587862</td>\n",
       "      <td>1.490930</td>\n",
       "      <td>69.230094</td>\n",
       "      <td>0.188361</td>\n",
       "      <td>0.319472</td>\n",
       "    </tr>\n",
       "    <tr>\n",
       "      <th>38545</th>\n",
       "      <td>3</td>\n",
       "      <td>0.0</td>\n",
       "      <td>65</td>\n",
       "      <td>0.742265</td>\n",
       "      <td>0.838446</td>\n",
       "      <td>15.414567</td>\n",
       "      <td>0.0</td>\n",
       "      <td>0.484615</td>\n",
       "      <td>88.916865</td>\n",
       "      <td>92.594416</td>\n",
       "      <td>...</td>\n",
       "      <td>0.665293</td>\n",
       "      <td>9.354827</td>\n",
       "      <td>24.655410</td>\n",
       "      <td>0.563046</td>\n",
       "      <td>0.316150</td>\n",
       "      <td>0.316740</td>\n",
       "      <td>12.796499</td>\n",
       "      <td>88.944949</td>\n",
       "      <td>0.324153</td>\n",
       "      <td>0.168004</td>\n",
       "    </tr>\n",
       "    <tr>\n",
       "      <th>31251</th>\n",
       "      <td>2</td>\n",
       "      <td>0.0</td>\n",
       "      <td>19</td>\n",
       "      <td>0.294038</td>\n",
       "      <td>0.489740</td>\n",
       "      <td>45.589103</td>\n",
       "      <td>1.0</td>\n",
       "      <td>0.917617</td>\n",
       "      <td>78.658462</td>\n",
       "      <td>50.068398</td>\n",
       "      <td>...</td>\n",
       "      <td>0.600076</td>\n",
       "      <td>1.252158</td>\n",
       "      <td>8.669731</td>\n",
       "      <td>0.636126</td>\n",
       "      <td>0.166239</td>\n",
       "      <td>0.166691</td>\n",
       "      <td>99.187985</td>\n",
       "      <td>51.446011</td>\n",
       "      <td>0.264077</td>\n",
       "      <td>0.613679</td>\n",
       "    </tr>\n",
       "    <tr>\n",
       "      <th>38325</th>\n",
       "      <td>9</td>\n",
       "      <td>1.0</td>\n",
       "      <td>98</td>\n",
       "      <td>0.421437</td>\n",
       "      <td>0.061025</td>\n",
       "      <td>49.673856</td>\n",
       "      <td>1.0</td>\n",
       "      <td>0.496108</td>\n",
       "      <td>43.575751</td>\n",
       "      <td>87.937882</td>\n",
       "      <td>...</td>\n",
       "      <td>0.425411</td>\n",
       "      <td>98.457244</td>\n",
       "      <td>4.172702</td>\n",
       "      <td>0.411641</td>\n",
       "      <td>0.159732</td>\n",
       "      <td>0.154835</td>\n",
       "      <td>20.071033</td>\n",
       "      <td>34.334495</td>\n",
       "      <td>0.018326</td>\n",
       "      <td>0.043580</td>\n",
       "    </tr>\n",
       "  </tbody>\n",
       "</table>\n",
       "<p>5 rows × 37 columns</p>\n",
       "</div>"
      ],
      "text/plain": [
       "      Reference Lane  TailleZone  Courbure  CourbureVert    Vitesse  \\\n",
       "903           8  1.0          66  0.499106      0.244612  39.925707   \n",
       "35842         4  1.0          20  0.725760      0.691894  44.674473   \n",
       "38545         3  0.0          65  0.742265      0.838446  15.414567   \n",
       "31251         2  0.0          19  0.294038      0.489740  45.589103   \n",
       "38325         9  1.0          98  0.421437      0.061025  49.673856   \n",
       "\n",
       "      SensMarche  Lat_acc_tete_Max  Lat_acc_tete_Max_Pos  \\\n",
       "903          0.0          0.291860             35.723838   \n",
       "35842        0.0          0.320000             21.778280   \n",
       "38545        0.0          0.484615             88.916865   \n",
       "31251        1.0          0.917617             78.658462   \n",
       "38325        1.0          0.496108             43.575751   \n",
       "\n",
       "       Lat_acc_tete_Max_Pos_Moy  ...  Vert_acc_milieu_Max  \\\n",
       "903                   85.499205  ...             0.097648   \n",
       "35842                  1.738820  ...             0.006997   \n",
       "38545                 92.594416  ...             0.665293   \n",
       "31251                 50.068398  ...             0.600076   \n",
       "38325                 87.937882  ...             0.425411   \n",
       "\n",
       "       Vert_acc_milieu_Max_Pos  Vert_acc_milieu_Max_Pos_Moy  \\\n",
       "903                  16.837990                    60.620811   \n",
       "35842                79.361037                    13.579726   \n",
       "38545                 9.354827                    24.655410   \n",
       "31251                 1.252158                     8.669731   \n",
       "38325                98.457244                     4.172702   \n",
       "\n",
       "       Vert_acc_milieu_Avg  Vert_acc_milieu_P2Avg  Vert_acc_queue_Max  \\\n",
       "903               0.599558               0.250094            0.894533   \n",
       "35842             0.392136               0.347430            0.587862   \n",
       "38545             0.563046               0.316150            0.316740   \n",
       "31251             0.636126               0.166239            0.166691   \n",
       "38325             0.411641               0.159732            0.154835   \n",
       "\n",
       "       Vert_acc_queue_Max_Pos  Vert_acc_queue_Max_Pos_Moy  Vert_acc_queue_Avg  \\\n",
       "903                 67.725041                   34.905820            0.844467   \n",
       "35842                1.490930                   69.230094            0.188361   \n",
       "38545               12.796499                   88.944949            0.324153   \n",
       "31251               99.187985                   51.446011            0.264077   \n",
       "38325               20.071033                   34.334495            0.018326   \n",
       "\n",
       "       Vert_acc_queue_P2Avg  \n",
       "903                0.031398  \n",
       "35842              0.319472  \n",
       "38545              0.168004  \n",
       "31251              0.613679  \n",
       "38325              0.043580  \n",
       "\n",
       "[5 rows x 37 columns]"
      ]
     },
     "execution_count": 29,
     "metadata": {},
     "output_type": "execute_result"
    }
   ],
   "source": [
    "#print(X_train_pre_transf[df_cat.columns.tolist()].value_counts())\n",
    "X_train_pre_transf.head()"
   ]
  },
  {
   "cell_type": "markdown",
   "metadata": {},
   "source": [
    "end of step 4."
   ]
  },
  {
   "cell_type": "markdown",
   "metadata": {},
   "source": [
    "### 5. Transformation"
   ]
  },
  {
   "cell_type": "code",
   "execution_count": 30,
   "metadata": {},
   "outputs": [],
   "source": [
    "from sklearn.pipeline import Pipeline\n",
    "from sklearn.base import BaseEstimator, TransformerMixin\n",
    "from sklearn.preprocessing import StandardScaler\n",
    "from sklearn.preprocessing import OneHotEncoder\n",
    "from sklearn.compose import ColumnTransformer\n",
    "# from sklearn.impute import SimpleImputer"
   ]
  },
  {
   "cell_type": "code",
   "execution_count": 31,
   "metadata": {},
   "outputs": [],
   "source": [
    "X_train_set = X_train_pre_transf.copy()"
   ]
  },
  {
   "cell_type": "code",
   "execution_count": 32,
   "metadata": {},
   "outputs": [],
   "source": [
    "cat_attribs = X_train_set.select_dtypes(include='category').columns.tolist()\n",
    "#print(cat_attribs)\n",
    "\n",
    "X_train_num_lst = X_train_set.drop(cat_attribs, axis=1).columns.tolist()\n",
    "X_train_cat_lst = X_train_set[cat_attribs].columns.tolist()\n",
    "\n",
    "#print(X_train_num_lst)\n",
    "#print(X_train_cat_lst)"
   ]
  },
  {
   "cell_type": "code",
   "execution_count": 33,
   "metadata": {},
   "outputs": [],
   "source": [
    "# Create a transforamtion class to add, combine, fuse, extract features for the numeric PL\n",
    "# stat_feature_head_to_tail is to use only the absolute 'ab_maximum' or 'average' value of each statistical feature from head, middle, or tail measurement (and None means to keep all of them)  \n",
    "class Attrib_transformer(BaseEstimator, TransformerMixin):\n",
    "    def __init__(self, stat_feature_head_to_tail = 'ab_maximum'):\n",
    "        self.stat_feature_head_to_tail = stat_feature_head_to_tail\n",
    "    def fit(self, X, y=None):\n",
    "        return self\n",
    "    def transform(self, X, y=None):\n",
    "        if self.stat_feature_head_to_tail is not None:\n",
    "            stat_feature = ['Max', 'Max_Pos', 'Max_Pos_Moy', 'Avg', 'P2Avg']\n",
    "            acc_measurement = ['Lat_acc', 'Vert_acc']\n",
    "            \n",
    "            new_X = X.copy() # so the original df is not changed\n",
    "            # See the commnad line argument and match it to pre-defined case \n",
    "            match self.stat_feature_head_to_tail:\n",
    "                case 'ab_maximum':\n",
    "                    for stat in stat_feature:\n",
    "                        for acc in acc_measurement:\n",
    "                            # get a new column name\n",
    "                            col_name = acc + '_' + stat\n",
    "                            \n",
    "                            # create a list of all measurement location of the acceleration stat of interest\n",
    "                            acc_tete = acc + '_tete_' + stat\n",
    "                            acc_milieu = acc + '_milieu_' + stat\n",
    "                            acc_queue = acc + '_queue_' + stat\n",
    "                            all_location_list = [acc_tete, acc_milieu, acc_queue]\n",
    "                            \n",
    "                            # Get the absolute maximum value of each row, keep the sign, and put them in a new colmun \n",
    "                            row_max = X[all_location_list].abs().max(axis=1)\n",
    "                            new_X[col_name] = X[all_location_list].max(axis=1).mask(lambda x: x < row_max, -row_max)\n",
    "                            new_X = new_X.drop(all_location_list, axis=1)\n",
    "                \n",
    "                case 'average':\n",
    "                    for stat in stat_feature:\n",
    "                        for acc in acc_measurement:\n",
    "                            # get a new column name\n",
    "                            col_name = acc + '_' + stat\n",
    "                            \n",
    "                            # create a list of all measurement location of the acceleration stat of interest\n",
    "                            acc_tete = acc + '_tete_' + stat\n",
    "                            acc_milieu = acc + '_milieu_' + stat\n",
    "                            acc_queue = acc + '_queue_' + stat\n",
    "                            all_location_list = [acc_tete, acc_milieu, acc_queue]\n",
    "                            \n",
    "                            # Get the mean value of each row and put them in a new colmun \n",
    "                            new_X[col_name] = X[all_location_list].mean(axis=1)\n",
    "                            new_X = new_X.drop(all_location_list, axis=1)\n",
    "                    \n",
    "                case _:   # 'case _' is for any other input that does not match None or the above\n",
    "                    sys.exit(\"please choose from 'ab_maximum', 'average', or \\\n",
    "                    'None' for stat_feature_head_to_tail in Attrib_transformer\")\n",
    "                \n",
    "            #print(list(new_X.columns))\n",
    "            return new_X\n",
    "            \n",
    "        else:\n",
    "            return X\n"
   ]
  },
  {
   "cell_type": "code",
   "execution_count": 34,
   "metadata": {},
   "outputs": [],
   "source": [
    "# Create a transforamtion class to drop unwanted features\n",
    "class Attrib_drop(BaseEstimator, TransformerMixin):\n",
    "    def __init__(self, d_list=[], keep_only_AV=False):\n",
    "        self.d_list = d_list\n",
    "        self.keep_only_AV = keep_only_AV\n",
    "    def fit(self, X, y=None):\n",
    "        return self\n",
    "    def transform(self, X, y=None):\n",
    "        if self.keep_only_AV:\n",
    "            AV_indices = []\n",
    "            for i, col in enumerate(X.columns):\n",
    "                if 'AVB' in col or 'AVC' in col:\n",
    "                    AV_indices.append(i)\n",
    "            return X.iloc[:,AV_indices]\n",
    "        elif self.d_list:\n",
    "            keep_indices = []\n",
    "            for i, col in enumerate(X.columns):\n",
    "                if col not in self.d_list:\n",
    "                    keep_indices.append(i)\n",
    "            return X.iloc[:,keep_indices]\n",
    "        else:\n",
    "            return X"
   ]
  },
  {
   "cell_type": "code",
   "execution_count": 35,
   "metadata": {},
   "outputs": [],
   "source": [
    "# List of the nulerical features to be dropped to manually drop columns from the df\n",
    "drop_list_num = []\n",
    "\n",
    "num_pl = Pipeline([\n",
    "    #('imputer', SimpleImputer(strategy=\"median\")),\n",
    "    ('attrib_transform', Attrib_transformer(stat_feature_head_to_tail='average')),\n",
    "    ('attrib_drop', Attrib_drop(keep_only_AV=False, d_list=drop_list_num)),\n",
    "    ('std_scaler', StandardScaler()),\n",
    "])\n",
    "\n",
    "#For testing num_pl\n",
    "#num_prep = num_pl.fit_transform(X_train_set[X_train_num_lst])\n",
    "#print('shape after transformation: ', num_prep.shape)\n",
    "#num_prep"
   ]
  },
  {
   "cell_type": "code",
   "execution_count": 36,
   "metadata": {},
   "outputs": [],
   "source": [
    "# List of the categorical features to be dropped to manually drop columns from the df\n",
    "drop_list_cat = ['Lane']\n",
    "\n",
    "cat_pl = Pipeline([\n",
    "    #('imputer', SimpleImputer(strategy='most_frequent')),\n",
    "    ('attrib_drop', Attrib_drop(d_list=drop_list_cat)),\n",
    "    ('One_Hot', OneHotEncoder(sparse=False)),\n",
    "])\n",
    "\n",
    "# For testing cat_pl\n",
    "#cat_prep = cat_pl.fit_transform(X_train_set[X_train_cat_lst])\n",
    "#cat_prep"
   ]
  },
  {
   "cell_type": "code",
   "execution_count": 37,
   "metadata": {
    "scrolled": false
   },
   "outputs": [
    {
     "name": "stderr",
     "output_type": "stream",
     "text": [
      "C:\\Users\\9112325B\\Anaconda3\\lib\\site-packages\\sklearn\\preprocessing\\_encoders.py:828: FutureWarning: `sparse` was renamed to `sparse_output` in version 1.2 and will be removed in 1.4. `sparse_output` is ignored unless you leave `sparse` to its default value.\n",
      "  warnings.warn(\n"
     ]
    }
   ],
   "source": [
    "full_pl = ColumnTransformer([\n",
    "    (\"num\", num_pl, X_train_num_lst),\n",
    "    (\"cat\", cat_pl, X_train_cat_lst),\n",
    "])\n",
    "\n",
    "X_train_prep = full_pl.fit_transform(X_train_set)"
   ]
  },
  {
   "cell_type": "code",
   "execution_count": 38,
   "metadata": {},
   "outputs": [
    {
     "name": "stdout",
     "output_type": "stream",
     "text": [
      "shape after transformation:  (64000, 26)\n"
     ]
    },
    {
     "data": {
      "text/plain": [
       "array([[ 5.65783127e-01, -3.46027708e-04, -8.80424390e-01, ...,\n",
       "         0.00000000e+00,  1.00000000e+00,  0.00000000e+00],\n",
       "       [-1.02380928e+00,  7.83250226e-01,  6.63462673e-01, ...,\n",
       "         0.00000000e+00,  1.00000000e+00,  0.00000000e+00],\n",
       "       [ 5.31226771e-01,  8.40309981e-01,  1.16931983e+00, ...,\n",
       "         0.00000000e+00,  1.00000000e+00,  0.00000000e+00],\n",
       "       ...,\n",
       "       [ 1.56791747e+00, -6.26209289e-01, -1.17634256e+00, ...,\n",
       "         0.00000000e+00,  0.00000000e+00,  1.00000000e+00],\n",
       "       [ 1.53336111e+00,  4.56480846e-01,  1.39991367e+00, ...,\n",
       "         0.00000000e+00,  0.00000000e+00,  1.00000000e+00],\n",
       "       [-1.36937284e+00,  6.57210545e-01,  1.66368397e+00, ...,\n",
       "         0.00000000e+00,  0.00000000e+00,  1.00000000e+00]])"
      ]
     },
     "execution_count": 38,
     "metadata": {},
     "output_type": "execute_result"
    }
   ],
   "source": [
    "print('shape after transformation: ', X_train_prep.shape)\n",
    "X_train_prep"
   ]
  },
  {
   "cell_type": "markdown",
   "metadata": {},
   "source": [
    "#### 5.1 OPTIONAL: PCA for unsupervised feature selectiion"
   ]
  },
  {
   "cell_type": "code",
   "execution_count": 39,
   "metadata": {},
   "outputs": [],
   "source": [
    "use_PCA = False\n",
    "\n",
    "if use_PCA:\n",
    "    from sklearn.decomposition import PCA\n",
    "    pca = PCA(copy=True, iterated_power='auto', n_components=0.9, random_state=None,\n",
    "              svd_solver='auto', tol=0.0, whiten=False)\n",
    "    \n",
    "    X_train_prep = pca.fit_transform(X_train_prep)\n",
    "    print('number of components: ', pca.n_components_)"
   ]
  },
  {
   "cell_type": "code",
   "execution_count": 40,
   "metadata": {
    "scrolled": true
   },
   "outputs": [
    {
     "name": "stdout",
     "output_type": "stream",
     "text": [
      "shape after transformation:  (64000, 26)\n"
     ]
    },
    {
     "data": {
      "text/plain": [
       "array([[ 5.65783127e-01, -3.46027708e-04, -8.80424390e-01, ...,\n",
       "         0.00000000e+00,  1.00000000e+00,  0.00000000e+00],\n",
       "       [-1.02380928e+00,  7.83250226e-01,  6.63462673e-01, ...,\n",
       "         0.00000000e+00,  1.00000000e+00,  0.00000000e+00],\n",
       "       [ 5.31226771e-01,  8.40309981e-01,  1.16931983e+00, ...,\n",
       "         0.00000000e+00,  1.00000000e+00,  0.00000000e+00],\n",
       "       ...,\n",
       "       [ 1.56791747e+00, -6.26209289e-01, -1.17634256e+00, ...,\n",
       "         0.00000000e+00,  0.00000000e+00,  1.00000000e+00],\n",
       "       [ 1.53336111e+00,  4.56480846e-01,  1.39991367e+00, ...,\n",
       "         0.00000000e+00,  0.00000000e+00,  1.00000000e+00],\n",
       "       [-1.36937284e+00,  6.57210545e-01,  1.66368397e+00, ...,\n",
       "         0.00000000e+00,  0.00000000e+00,  1.00000000e+00]])"
      ]
     },
     "execution_count": 40,
     "metadata": {},
     "output_type": "execute_result"
    }
   ],
   "source": [
    "print('shape after transformation: ', X_train_prep.shape)\n",
    "X_train_prep"
   ]
  },
  {
   "cell_type": "markdown",
   "metadata": {},
   "source": [
    "#### 5.2 Transform X_val as well using the pipeline that has been fitted "
   ]
  },
  {
   "cell_type": "code",
   "execution_count": 41,
   "metadata": {},
   "outputs": [
    {
     "name": "stdout",
     "output_type": "stream",
     "text": [
      "shape after transformation:  (16000, 26)\n"
     ]
    }
   ],
   "source": [
    "#Transform the X_test as the train set has been transformed\n",
    "X_val_prep = full_pl.transform(X_val)\n",
    "#print('shape before PCA: ', X_train_prep.shape)\n",
    "\n",
    "if use_PCA:\n",
    "    X_val_prep = pca.transform(X_val_prep)\n",
    "    print('number of components: ', pca.n_components_)\n",
    "\n",
    "print('shape after transformation: ', X_val_prep.shape)"
   ]
  },
  {
   "cell_type": "markdown",
   "metadata": {},
   "source": [
    "### 6. Train NN"
   ]
  },
  {
   "cell_type": "code",
   "execution_count": 42,
   "metadata": {},
   "outputs": [],
   "source": [
    "import tensorflow as tf\n",
    "from tensorflow import keras\n",
    "from hyperopt import hp, tpe, fmin, STATUS_OK, Trials, space_eval\n",
    "from hyperopt.early_stop import no_progress_loss\n",
    "from keras.callbacks import EarlyStopping, ModelCheckpoint\n",
    "from keras.utils import to_categorical"
   ]
  },
  {
   "cell_type": "code",
   "execution_count": 43,
   "metadata": {},
   "outputs": [],
   "source": [
    "# Create a class for onecycle learning rate rescheduler\n",
    "K = keras.backend\n",
    "\n",
    "class OneCycleScheduler(keras.callbacks.Callback):\n",
    "    def __init__(self, iterations, max_rate, start_rate=None,\n",
    "                 last_iterations=None, last_rate=None):\n",
    "        self.iterations = iterations\n",
    "        self.max_rate = max_rate\n",
    "        self.start_rate = start_rate or max_rate / 10\n",
    "        self.last_iterations = last_iterations or iterations // 10 + 1\n",
    "        self.half_iteration = (iterations - self.last_iterations) // 2\n",
    "        self.last_rate = last_rate or self.start_rate / 1000\n",
    "        self.iteration = 0\n",
    "    def _interpolate(self, iter1, iter2, rate1, rate2):\n",
    "        return ((rate2 - rate1) * (self.iteration - iter1)\n",
    "                / (iter2 - iter1) + rate1)\n",
    "    def on_batch_begin(self, batch, logs):\n",
    "        if self.iteration < self.half_iteration:\n",
    "            rate = self._interpolate(0, self.half_iteration, self.start_rate, self.max_rate)\n",
    "        elif self.iteration < 2 * self.half_iteration:\n",
    "            rate = self._interpolate(self.half_iteration, 2 * self.half_iteration,\n",
    "                                     self.max_rate, self.start_rate)\n",
    "        else:\n",
    "            rate = self._interpolate(2 * self.half_iteration, self.iterations,\n",
    "                                     self.start_rate, self.last_rate)\n",
    "        self.iteration += 1\n",
    "        K.set_value(self.model.optimizer.learning_rate, rate)"
   ]
  },
  {
   "cell_type": "code",
   "execution_count": 44,
   "metadata": {},
   "outputs": [],
   "source": [
    "input_size = X_train_prep.shape[1]"
   ]
  },
  {
   "cell_type": "code",
   "execution_count": 45,
   "metadata": {},
   "outputs": [],
   "source": [
    "def build_model(n_hidden, n_neurons, rho, dropout_rate, inputshape=input_size):\n",
    "    \"\"\"\n",
    "    Function to build the neural network model based on the provided hyperparameters.\n",
    "    \n",
    "    Args:\n",
    "        params (dict): Dictionary containing the hyperparameters.\n",
    "        inputshape (int): Number of input features.\n",
    "    \n",
    "    Returns:\n",
    "        model (Sequential): Compiled Keras model.\n",
    "    \"\"\"\n",
    "    #print(n_hidden, n_neurons, rho, dropout_rate)\n",
    "    \n",
    "    model = keras.Sequential([\n",
    "        keras.layers.Dense(n_neurons, activation=\"selu\", kernel_initializer=\"lecun_normal\", input_shape=(inputshape,))\n",
    "    ])\n",
    "\n",
    "    for _ in range(n_hidden):\n",
    "        model.add(keras.layers.Dense(n_neurons, activation=\"selu\", kernel_initializer=\"lecun_normal\"))\n",
    "        model.add(keras.layers.AlphaDropout(rate=dropout_rate))  # Add AlphaDropout layer with specified dropout rate\n",
    "\n",
    "    model.add(keras.layers.Dense(3, activation=\"softmax\"))\n",
    "    optimizer = keras.optimizers.RMSprop(rho=rho)\n",
    "\n",
    "    model.compile(optimizer=\"adam\", loss=\"sparse_categorical_crossentropy\", metrics=[\"accuracy\"])\n",
    "    return model"
   ]
  },
  {
   "cell_type": "code",
   "execution_count": 46,
   "metadata": {},
   "outputs": [],
   "source": [
    "def objective(params):\n",
    "    \"\"\"\n",
    "    Objective function for hyperparameter optimization. Calculates the loss value (1 - accuracy) based on cross-validation.\n",
    "    \n",
    "    Args:\n",
    "        params (dict): Dictionary containing the hyperparameters.\n",
    "    \n",
    "    Returns:\n",
    "        dict: Dictionary containing the loss value, status, and cross-validation score.\n",
    "    \"\"\" \n",
    "    mod_params = params.copy()\n",
    "    mod_params.pop('max_lr')\n",
    "    mod_params.pop('batch_size')\n",
    "    n_epochs = 12\n",
    "    model = build_model(**mod_params)\n",
    "    \n",
    "    #print(\"params['batch_size']: \", params['batch_size'])\n",
    "    #print(\"params['max_lr']: \", params['max_lr'])\n",
    "    print(params)\n",
    "    early_stop = EarlyStopping(monitor='val_loss', mode='min', verbose=0, patience=3, \n",
    "                               restore_best_weights = False)  # Define early stopping callback\n",
    "    \n",
    "    onecycle = OneCycleScheduler(math.ceil(len(X_train) / params['batch_size']) * n_epochs, max_rate=params['max_lr'])\n",
    "    \n",
    "    model_file = \"best_weights.h5\" # File to save the best weights\n",
    "    checkpoint = tf.keras.callbacks.ModelCheckpoint(model_file, monitor=\"val_loss\", mode=\"min\", \n",
    "                                                    save_best_only=True, verbose=1) # Define checkpoint to save best weights\n",
    "    \n",
    "    history = model.fit(X_train_prep, y_train_pre_transf, callbacks=[early_stop, checkpoint, onecycle], \n",
    "                        validation_data=(X_val_prep, y_val), epochs=n_epochs, batch_size=params['batch_size'], verbose=0)\n",
    "    \n",
    "    model.load_weights(model_file) # reload the best weights saved by checkpoint\n",
    "    \n",
    "    loss = history.history['loss'][-1]\n",
    "    val_loss = history.history['val_loss'][-1]\n",
    "    \n",
    "    return {'loss': val_loss, 'train_loss': loss, 'status': STATUS_OK, 'model': model, 'history': history} \n",
    "    # switch places of the loss varaible so that hyperopt select the best yperparameter based on val_loss instead of loss"
   ]
  },
  {
   "cell_type": "code",
   "execution_count": 47,
   "metadata": {
    "scrolled": true
   },
   "outputs": [
    {
     "name": "stdout",
     "output_type": "stream",
     "text": [
      "{'batch_size': 64, 'dropout_rate': 0.24839055845221328, 'max_lr': 0.039018057397411626, 'n_hidden': 9, 'n_neurons': 32, 'rho': 0.9573870675758572}\n",
      "                                                                                                                       \n",
      "Epoch 1: val_loss improved from inf to 0.55021, saving model to best_weights.h5\n",
      "\n",
      "                                                                                                                       \n",
      "Epoch 2: val_loss improved from 0.55021 to 0.51095, saving model to best_weights.h5\n",
      "\n",
      "                                                                                                                       \n",
      "Epoch 3: val_loss did not improve from 0.51095\n",
      "\n",
      "                                                                                                                       \n",
      "Epoch 4: val_loss did not improve from 0.51095\n",
      "\n",
      "                                                                                                                       \n",
      "Epoch 5: val_loss did not improve from 0.51095\n",
      "\n",
      "{'batch_size': 32, 'dropout_rate': 0.37184500535486775, 'max_lr': 0.030290353174957433, 'n_hidden': 4, 'n_neurons': 64, 'rho': 0.735755392710319}\n",
      "                                                                                                                       \n",
      "Epoch 1: val_loss improved from inf to 0.86703, saving model to best_weights.h5\n",
      "\n",
      "                                                                                                                       \n",
      "Epoch 2: val_loss improved from 0.86703 to 0.59940, saving model to best_weights.h5\n",
      "\n",
      "                                                                                                                       \n",
      "Epoch 3: val_loss improved from 0.59940 to 0.50210, saving model to best_weights.h5\n",
      "\n",
      "                                                                                                                       \n",
      "Epoch 4: val_loss did not improve from 0.50210\n",
      "\n",
      "                                                                                                                       \n",
      "Epoch 5: val_loss did not improve from 0.50210\n",
      "\n",
      "                                                                                                                       \n",
      "Epoch 6: val_loss did not improve from 0.50210\n",
      "\n",
      "{'batch_size': 32, 'dropout_rate': 0.3078137315407987, 'max_lr': 0.04911640238483544, 'n_hidden': 4, 'n_neurons': 64, 'rho': 0.8959604576854063}\n",
      "                                                                                                                       \n",
      "Epoch 1: val_loss improved from inf to 0.53001, saving model to best_weights.h5\n",
      "\n",
      "                                                                                                                       \n",
      "Epoch 2: val_loss did not improve from 0.53001\n",
      "\n",
      "                                                                                                                       \n",
      "Epoch 3: val_loss did not improve from 0.53001\n",
      "\n",
      "                                                                                                                       \n",
      "Epoch 4: val_loss did not improve from 0.53001\n",
      "\n",
      "{'batch_size': 32, 'dropout_rate': 0.3616521208197757, 'max_lr': 0.03149247851829506, 'n_hidden': 4, 'n_neurons': 32, 'rho': 0.8063911492671366}\n",
      "                                                                                                                       \n",
      "Epoch 1: val_loss improved from inf to 0.56035, saving model to best_weights.h5\n",
      "\n",
      "                                                                                                                       \n",
      "Epoch 2: val_loss improved from 0.56035 to 0.53076, saving model to best_weights.h5\n",
      "\n",
      "                                                                                                                       \n",
      "Epoch 3: val_loss did not improve from 0.53076\n",
      "\n",
      "                                                                                                                       \n",
      "Epoch 4: val_loss improved from 0.53076 to 0.47328, saving model to best_weights.h5\n",
      "\n",
      "                                                                                                                       \n",
      "Epoch 5: val_loss did not improve from 0.47328\n",
      "\n",
      "                                                                                                                       \n",
      "Epoch 6: val_loss did not improve from 0.47328\n",
      "\n",
      "                                                                                                                       \n",
      "Epoch 7: val_loss did not improve from 0.47328\n",
      "\n",
      "{'batch_size': 48, 'dropout_rate': 0.14326946415579278, 'max_lr': 0.03630624193758443, 'n_hidden': 9, 'n_neurons': 64, 'rho': 0.9079779923591965}\n",
      "                                                                                                                       \n",
      "Epoch 1: val_loss improved from inf to 0.58592, saving model to best_weights.h5\n",
      "\n",
      "                                                                                                                       \n",
      "Epoch 2: val_loss did not improve from 0.58592\n",
      "\n",
      "                                                                                                                       \n",
      "Epoch 3: val_loss did not improve from 0.58592\n",
      "\n",
      "                                                                                                                       \n",
      "Epoch 4: val_loss improved from 0.58592 to 0.54260, saving model to best_weights.h5\n",
      "\n",
      "                                                                                                                       \n",
      "Epoch 5: val_loss improved from 0.54260 to 0.48153, saving model to best_weights.h5\n",
      "\n",
      "                                                                                                                       \n",
      "Epoch 6: val_loss did not improve from 0.48153\n",
      "\n",
      "                                                                                                                       \n",
      "Epoch 7: val_loss did not improve from 0.48153\n",
      "\n",
      "                                                                                                                       \n",
      "Epoch 8: val_loss did not improve from 0.48153\n",
      "\n",
      "{'batch_size': 64, 'dropout_rate': 0.23022027914037457, 'max_lr': 0.0325066974476358, 'n_hidden': 4, 'n_neurons': 64, 'rho': 0.9563871137431158}\n",
      "                                                                                                                       \n",
      "Epoch 1: val_loss improved from inf to 0.49365, saving model to best_weights.h5\n",
      "\n",
      "                                                                                                                       \n",
      "Epoch 2: val_loss did not improve from 0.49365\n",
      "\n",
      "                                                                                                                       \n",
      "Epoch 3: val_loss improved from 0.49365 to 0.46436, saving model to best_weights.h5\n",
      "\n",
      "                                                                                                                       \n",
      "Epoch 4: val_loss did not improve from 0.46436\n",
      "\n",
      "                                                                                                                       \n",
      "Epoch 5: val_loss did not improve from 0.46436\n",
      "\n",
      "                                                                                                                       \n",
      "Epoch 6: val_loss did not improve from 0.46436\n",
      "\n",
      "{'batch_size': 48, 'dropout_rate': 0.11667957738356932, 'max_lr': 0.045193775954552984, 'n_hidden': 14, 'n_neurons': 64, 'rho': 0.9720529715754542}\n",
      "                                                                                                                       \n",
      "Epoch 1: val_loss improved from inf to 0.55518, saving model to best_weights.h5\n",
      "\n",
      "                                                                                                                       \n",
      "Epoch 2: val_loss improved from 0.55518 to 0.50989, saving model to best_weights.h5\n",
      "\n",
      "                                                                                                                       \n",
      "Epoch 3: val_loss did not improve from 0.50989\n",
      "\n",
      "                                                                                                                       \n",
      "Epoch 4: val_loss improved from 0.50989 to 0.47492, saving model to best_weights.h5\n",
      "\n",
      "                                                                                                                       \n",
      "Epoch 5: val_loss did not improve from 0.47492\n",
      "\n",
      "                                                                                                                       \n",
      "Epoch 6: val_loss did not improve from 0.47492\n",
      "\n",
      "                                                                                                                       \n",
      "Epoch 7: val_loss did not improve from 0.47492\n",
      "\n",
      "{'batch_size': 32, 'dropout_rate': 0.38110450525469663, 'max_lr': 0.04050265197467073, 'n_hidden': 14, 'n_neurons': 32, 'rho': 0.794711481769035}\n",
      "                                                                                                                       \n",
      "Epoch 1: val_loss improved from inf to 2.12051, saving model to best_weights.h5\n",
      "\n",
      "                                                                                                                       \n",
      "Epoch 2: val_loss improved from 2.12051 to 0.83036, saving model to best_weights.h5\n",
      "\n",
      "                                                                                                                       \n",
      "Epoch 3: val_loss did not improve from 0.83036\n",
      "\n",
      "                                                                                                                       \n",
      "Epoch 4: val_loss did not improve from 0.83036\n",
      "\n",
      "                                                                                                                       \n",
      "Epoch 5: val_loss did not improve from 0.83036\n",
      "\n",
      "{'batch_size': 32, 'dropout_rate': 0.33560418530458336, 'max_lr': 0.030075441707519447, 'n_hidden': 14, 'n_neurons': 128, 'rho': 0.720503686409925}\n",
      "                                                                                                                       \n",
      "Epoch 1: val_loss improved from inf to 0.61070, saving model to best_weights.h5\n",
      "\n",
      "                                                                                                                       \n",
      "Epoch 2: val_loss did not improve from 0.61070\n",
      "\n",
      "                                                                                                                       \n",
      "Epoch 3: val_loss improved from 0.61070 to 0.56000, saving model to best_weights.h5\n",
      "\n",
      "                                                                                                                       \n",
      "Epoch 4: val_loss did not improve from 0.56000\n",
      "\n",
      "                                                                                                                       \n",
      "Epoch 5: val_loss did not improve from 0.56000\n",
      "\n",
      "                                                                                                                       \n",
      "Epoch 6: val_loss did not improve from 0.56000\n",
      "\n",
      "{'batch_size': 48, 'dropout_rate': 0.18704270486826874, 'max_lr': 0.03148565760792328, 'n_hidden': 4, 'n_neurons': 32, 'rho': 0.9383783578764477}\n",
      " 20%|█████████▍                                      | 9/46 [12:30<55:39, 90.25s/trial, best loss: 0.47869792580604553]WARNING:tensorflow:Callback method `on_train_batch_begin` is slow compared to the batch time (batch time: 0.0005s vs `on_train_batch_begin` time: 0.0016s). Check your callbacks.\n",
      "WARNING:tensorflow:Callback method `on_train_batch_end` is slow compared to the batch time (batch time: 0.0005s vs `on_train_batch_end` time: 0.0010s). Check your callbacks.\n",
      "                                                                                                                       \n",
      "Epoch 1: val_loss improved from inf to 0.58107, saving model to best_weights.h5\n",
      "\n",
      "                                                                                                                       \n",
      "Epoch 2: val_loss improved from 0.58107 to 0.54411, saving model to best_weights.h5\n",
      "\n",
      "                                                                                                                       \n",
      "Epoch 3: val_loss improved from 0.54411 to 0.50108, saving model to best_weights.h5\n",
      "\n",
      "                                                                                                                       \n",
      "Epoch 4: val_loss improved from 0.50108 to 0.47113, saving model to best_weights.h5\n",
      "\n",
      "                                                                                                                       \n",
      "Epoch 5: val_loss improved from 0.47113 to 0.46992, saving model to best_weights.h5\n",
      "\n",
      "                                                                                                                       \n",
      "Epoch 6: val_loss did not improve from 0.46992\n",
      "\n",
      "                                                                                                                       \n",
      "Epoch 7: val_loss did not improve from 0.46992\n",
      "\n",
      "                                                                                                                       \n",
      "Epoch 8: val_loss did not improve from 0.46992\n",
      "\n",
      "{'batch_size': 48, 'dropout_rate': 0.20551389945823928, 'max_lr': 0.03015586802694858, 'n_hidden': 14, 'n_neurons': 32, 'rho': 0.9181322051621476}\n",
      "                                                                                                                       \n",
      "Epoch 1: val_loss improved from inf to 0.48727, saving model to best_weights.h5\n",
      "\n",
      "                                                                                                                       \n",
      "Epoch 2: val_loss did not improve from 0.48727\n",
      "\n",
      "                                                                                                                       \n",
      "Epoch 3: val_loss did not improve from 0.48727\n",
      "\n",
      "                                                                                                                       \n",
      "Epoch 4: val_loss did not improve from 0.48727\n",
      "\n",
      "{'batch_size': 64, 'dropout_rate': 0.37303237077536966, 'max_lr': 0.031082469356275833, 'n_hidden': 14, 'n_neurons': 64, 'rho': 0.9203029809983719}\n",
      "                                                                                                                       \n",
      "Epoch 1: val_loss improved from inf to 0.67282, saving model to best_weights.h5\n",
      "\n",
      "                                                                                                                       \n",
      "Epoch 2: val_loss did not improve from 0.67282\n",
      "\n",
      "                                                                                                                       \n",
      "Epoch 3: val_loss did not improve from 0.67282\n",
      "\n",
      "                                                                                                                       \n",
      "Epoch 4: val_loss did not improve from 0.67282\n",
      "\n",
      "{'batch_size': 64, 'dropout_rate': 0.27091772609149717, 'max_lr': 0.03956531595155353, 'n_hidden': 9, 'n_neurons': 128, 'rho': 0.701048267501123}\n",
      "                                                                                                                       \n",
      "Epoch 1: val_loss improved from inf to 0.63729, saving model to best_weights.h5\n",
      "\n",
      "                                                                                                                       \n",
      "Epoch 2: val_loss improved from 0.63729 to 0.62299, saving model to best_weights.h5\n",
      "\n",
      "                                                                                                                       \n",
      "Epoch 3: val_loss improved from 0.62299 to 0.55758, saving model to best_weights.h5\n",
      "\n",
      "                                                                                                                       \n",
      "Epoch 4: val_loss did not improve from 0.55758\n",
      "\n",
      "                                                                                                                       \n",
      "Epoch 5: val_loss improved from 0.55758 to 0.52139, saving model to best_weights.h5\n",
      "\n",
      "                                                                                                                       \n",
      "Epoch 6: val_loss did not improve from 0.52139\n",
      "\n"
     ]
    },
    {
     "name": "stdout",
     "output_type": "stream",
     "text": [
      "                                                                                                                       \n",
      "Epoch 7: val_loss did not improve from 0.52139\n",
      "\n",
      "                                                                                                                       \n",
      "Epoch 8: val_loss did not improve from 0.52139\n",
      "\n",
      "{'batch_size': 48, 'dropout_rate': 0.15142342612401463, 'max_lr': 0.04016455251752981, 'n_hidden': 9, 'n_neurons': 32, 'rho': 0.8884977961340516}\n",
      "                                                                                                                       \n",
      "Epoch 1: val_loss improved from inf to 0.50525, saving model to best_weights.h5\n",
      "\n",
      "                                                                                                                       \n",
      "Epoch 2: val_loss improved from 0.50525 to 0.49046, saving model to best_weights.h5\n",
      "\n",
      "                                                                                                                       \n",
      "Epoch 3: val_loss improved from 0.49046 to 0.46874, saving model to best_weights.h5\n",
      "\n",
      "                                                                                                                       \n",
      "Epoch 4: val_loss did not improve from 0.46874\n",
      "\n",
      "                                                                                                                       \n",
      "Epoch 5: val_loss did not improve from 0.46874\n",
      "\n",
      "                                                                                                                       \n",
      "Epoch 6: val_loss did not improve from 0.46874\n",
      "\n",
      " 30%|██████████████▎                                | 14/46 [17:44<40:32, 76.00s/trial, best loss: 0.47409430146217346]\n"
     ]
    }
   ],
   "source": [
    "search_space = {\n",
    "    'n_hidden': hp.choice('n_hidden', [4, 9, 14]),  # Hyperparameter space for the number of hidden layers\n",
    "    'n_neurons': hp.choice('n_neurons', [32, 64, 128]),  # Hyperparameter space for the number of neurons per layer\n",
    "    'max_lr': hp.loguniform('max_lr', np.log(0.03), np.log(0.05)),  # Hyperparameter space for the max learning rate (1cycle)\n",
    "    'rho': hp.loguniform('rho', np.log(0.7), np.log(0.99)),  # Hyperparameter space for the momentum\n",
    "    'dropout_rate': hp.uniform('dropout_rate', 0.1, 0.4),  # Hyperparameter space for the dropout rate\n",
    "    'batch_size': hp.choice('batch_size', [32, 48, 64])  # Hyperparameter space for the batch size\n",
    "}\n",
    "\n",
    "trials = Trials()\n",
    "best = fmin(fn=objective, space=search_space, algo=tpe.suggest, max_evals=46, \n",
    "            early_stop_fn=no_progress_loss(4), trials=trials)"
   ]
  },
  {
   "cell_type": "code",
   "execution_count": 48,
   "metadata": {},
   "outputs": [
    {
     "name": "stdout",
     "output_type": "stream",
     "text": [
      "Best Hyperparameters: {'batch_size': [1], 'dropout_rate': [0.18704270486826874], 'max_lr': [0.03148565760792328], 'n_hidden': [0], 'n_neurons': [0], 'rho': [0.9383783578764477]}\n",
      "Best Loss: 0.47409430146217346\n"
     ]
    }
   ],
   "source": [
    "best_trial = trials.best_trial\n",
    "best_params = best_trial[\"misc\"][\"vals\"]\n",
    "best_loss = best_trial[\"result\"][\"loss\"]\n",
    "\n",
    "\n",
    "print(\"Best Hyperparameters:\", best_params)\n",
    "print(\"Best Loss:\", best_loss)"
   ]
  },
  {
   "cell_type": "code",
   "execution_count": 49,
   "metadata": {},
   "outputs": [
    {
     "data": {
      "text/plain": [
       "{'batch_size': 48,\n",
       " 'dropout_rate': 0.18704270486826874,\n",
       " 'max_lr': 0.03148565760792328,\n",
       " 'n_hidden': 4,\n",
       " 'n_neurons': 32,\n",
       " 'rho': 0.9383783578764477}"
      ]
     },
     "execution_count": 49,
     "metadata": {},
     "output_type": "execute_result"
    }
   ],
   "source": [
    "final_best_params = space_eval(search_space, best)\n",
    "final_best_params"
   ]
  },
  {
   "cell_type": "code",
   "execution_count": 50,
   "metadata": {
    "scrolled": true
   },
   "outputs": [
    {
     "data": {
      "text/plain": [
       "{'loss': 0.47409430146217346,\n",
       " 'train_loss': 0.4674908518791199,\n",
       " 'status': 'ok',\n",
       " 'model': <keras.engine.sequential.Sequential at 0x1f849606260>,\n",
       " 'history': <keras.callbacks.History at 0x1f854486b90>}"
      ]
     },
     "execution_count": 50,
     "metadata": {},
     "output_type": "execute_result"
    }
   ],
   "source": [
    "best_trial[\"result\"]"
   ]
  },
  {
   "cell_type": "code",
   "execution_count": 51,
   "metadata": {
    "scrolled": true
   },
   "outputs": [
    {
     "data": {
      "text/plain": [
       "{'loss': [0.4681738018989563,\n",
       "  0.45710426568984985,\n",
       "  0.4616430699825287,\n",
       "  0.46793755888938904,\n",
       "  1.5785553455352783,\n",
       "  0.45847088098526,\n",
       "  0.502875804901123,\n",
       "  0.4674908518791199],\n",
       " 'accuracy': [0.8752655982971191,\n",
       "  0.8812812566757202,\n",
       "  0.8814218640327454,\n",
       "  0.8814218640327454,\n",
       "  0.8753281235694885,\n",
       "  0.8813281059265137,\n",
       "  0.8812812566757202,\n",
       "  0.8814218640327454],\n",
       " 'val_loss': [0.5810679793357849,\n",
       "  0.5441117882728577,\n",
       "  0.5010806322097778,\n",
       "  0.4711282551288605,\n",
       "  0.46992096304893494,\n",
       "  0.47864943742752075,\n",
       "  0.476701021194458,\n",
       "  0.47409430146217346],\n",
       " 'val_accuracy': [0.874875009059906,\n",
       "  0.874875009059906,\n",
       "  0.874875009059906,\n",
       "  0.874875009059906,\n",
       "  0.874875009059906,\n",
       "  0.874875009059906,\n",
       "  0.874875009059906,\n",
       "  0.874875009059906]}"
      ]
     },
     "execution_count": 51,
     "metadata": {},
     "output_type": "execute_result"
    }
   ],
   "source": [
    "best_trial[\"result\"]['history'].history"
   ]
  },
  {
   "cell_type": "code",
   "execution_count": 52,
   "metadata": {},
   "outputs": [
    {
     "data": {
      "text/plain": [
       "1"
      ]
     },
     "execution_count": 52,
     "metadata": {},
     "output_type": "execute_result"
    }
   ],
   "source": [
    "n_epoch_best = np.argmax(best_trial[\"result\"]['history'].history['val_accuracy']) + 1\n",
    "n_epoch_best"
   ]
  },
  {
   "cell_type": "code",
   "execution_count": 53,
   "metadata": {
    "scrolled": true
   },
   "outputs": [
    {
     "data": {
      "text/plain": [
       "{'dropout_rate': 0.18704270486826874,\n",
       " 'n_hidden': 4,\n",
       " 'n_neurons': 32,\n",
       " 'rho': 0.9383783578764477}"
      ]
     },
     "execution_count": 53,
     "metadata": {},
     "output_type": "execute_result"
    }
   ],
   "source": [
    "mod_final_best_params = final_best_params.copy()\n",
    "mod_final_best_params.pop('max_lr')\n",
    "mod_final_best_params.pop('batch_size')\n",
    "mod_final_best_params"
   ]
  },
  {
   "cell_type": "code",
   "execution_count": 54,
   "metadata": {
    "scrolled": true
   },
   "outputs": [
    {
     "name": "stdout",
     "output_type": "stream",
     "text": [
      "Epoch 1/12\n",
      "1326/1334 [============================>.] - ETA: 0s - loss: 0.4702 - accuracy: 0.8748\n",
      "Epoch 1: val_loss improved from inf to 0.49489, saving model to best_model_weights.h5\n",
      "1334/1334 [==============================] - 12s 6ms/step - loss: 0.4703 - accuracy: 0.8748 - val_loss: 0.4949 - val_accuracy: 0.8749\n",
      "Epoch 2/12\n",
      "1330/1334 [============================>.] - ETA: 0s - loss: 0.4577 - accuracy: 0.8812\n",
      "Epoch 2: val_loss improved from 0.49489 to 0.48859, saving model to best_model_weights.h5\n",
      "1334/1334 [==============================] - 7s 5ms/step - loss: 0.4576 - accuracy: 0.8813 - val_loss: 0.4886 - val_accuracy: 0.8749\n",
      "Epoch 3/12\n",
      "1332/1334 [============================>.] - ETA: 0s - loss: 0.4615 - accuracy: 0.8813\n",
      "Epoch 3: val_loss improved from 0.48859 to 0.47147, saving model to best_model_weights.h5\n",
      "1334/1334 [==============================] - 7s 5ms/step - loss: 0.4614 - accuracy: 0.8814 - val_loss: 0.4715 - val_accuracy: 0.8749\n",
      "Epoch 4/12\n",
      "1330/1334 [============================>.] - ETA: 0s - loss: 0.4663 - accuracy: 0.8814\n",
      "Epoch 4: val_loss did not improve from 0.47147\n",
      "1334/1334 [==============================] - 7s 5ms/step - loss: 0.4663 - accuracy: 0.8814 - val_loss: 0.5425 - val_accuracy: 0.8749\n",
      "Epoch 5/12\n",
      "1330/1334 [============================>.] - ETA: 0s - loss: 0.7843 - accuracy: 0.8798\n",
      "Epoch 5: val_loss improved from 0.47147 to 0.46458, saving model to best_model_weights.h5\n",
      "1334/1334 [==============================] - 7s 5ms/step - loss: 0.7834 - accuracy: 0.8798 - val_loss: 0.4646 - val_accuracy: 0.8749\n",
      "Epoch 6/12\n",
      "1325/1334 [============================>.] - ETA: 0s - loss: 0.4741 - accuracy: 0.8812\n",
      "Epoch 6: val_loss did not improve from 0.46458\n",
      "1334/1334 [==============================] - 8s 6ms/step - loss: 0.4735 - accuracy: 0.8813 - val_loss: 0.4923 - val_accuracy: 0.8749\n",
      "Epoch 7/12\n",
      "1333/1334 [============================>.] - ETA: 0s - loss: 0.4614 - accuracy: 0.8814\n",
      "Epoch 7: val_loss did not improve from 0.46458\n",
      "1334/1334 [==============================] - 8s 6ms/step - loss: 0.4614 - accuracy: 0.8814 - val_loss: 0.5450 - val_accuracy: 0.8749\n",
      "Epoch 8/12\n",
      "1325/1334 [============================>.] - ETA: 0s - loss: 0.4619 - accuracy: 0.8815\n",
      "Epoch 8: val_loss did not improve from 0.46458\n",
      "1334/1334 [==============================] - 8s 6ms/step - loss: 0.4620 - accuracy: 0.8814 - val_loss: 0.4764 - val_accuracy: 0.8749\n"
     ]
    }
   ],
   "source": [
    "# Train a model with the best hyperparameters\n",
    "n_epochs=12\n",
    "\n",
    "early_stop = EarlyStopping(monitor='val_loss', mode='min', verbose=0, patience=3, \n",
    "                               restore_best_weights = False)  # Define early stopping callback\n",
    "    \n",
    "onecycle = OneCycleScheduler(math.ceil(len(X_train) / final_best_params['batch_size']) * n_epochs, \n",
    "                             max_rate=final_best_params['max_lr'])\n",
    "    \n",
    "best_model_file = \"best_model_weights.h5\" # File to save the best weights\n",
    "\n",
    "checkpoint = tf.keras.callbacks.ModelCheckpoint(best_model_file, monitor=\"val_loss\", mode=\"min\", \n",
    "                                                    save_best_only=True, verbose=1) # Define checkpoint to save best weights\n",
    "\n",
    "\n",
    "best_model_use_val = build_model(**mod_final_best_params)\n",
    "history__use_val = best_model_use_val.fit(X_train_prep, y_train_pre_transf, epochs=n_epochs, batch_size=final_best_params['batch_size'], \n",
    "                         callbacks=[early_stop, checkpoint, onecycle], validation_data=(X_val_prep, y_val), verbose=1)\n",
    "\n",
    "best_model_use_val.load_weights(best_model_file) # reload the best weights saved by checkpoint"
   ]
  },
  {
   "cell_type": "code",
   "execution_count": 55,
   "metadata": {},
   "outputs": [
    {
     "name": "stdout",
     "output_type": "stream",
     "text": [
      "1334/1334 [==============================] - 10s 4ms/step - loss: 0.4686 - accuracy: 0.8752\n"
     ]
    }
   ],
   "source": [
    "# Train another model with a full train set (train+val) using n_epoch_best instead of validation and early_stop\n",
    "\n",
    "X_train_full = np.concatenate((X_train_prep, X_val_prep), axis=0)\n",
    "y_train_full = np.concatenate((y_train_pre_transf, y_val), axis=0)\n",
    "\n",
    "onecycle = OneCycleScheduler(math.ceil(len(X_train) / final_best_params['batch_size']) * n_epochs, \n",
    "                             max_rate=final_best_params['max_lr'])\n",
    "\n",
    "best_model_epoch = build_model(**mod_final_best_params)\n",
    "history_epoch = best_model_epoch.fit(X_train_prep, y_train_pre_transf, epochs=n_epoch_best, \n",
    "                                     batch_size=final_best_params['batch_size'], callbacks=[onecycle], verbose=1)"
   ]
  },
  {
   "cell_type": "code",
   "execution_count": 56,
   "metadata": {},
   "outputs": [],
   "source": [
    "# Use model saved from hyperopt direcly\n",
    "\n",
    "best_model_saved = best_trial[\"result\"]['model']"
   ]
  },
  {
   "cell_type": "markdown",
   "metadata": {},
   "source": [
    "# Final evalution using Final_test_set"
   ]
  },
  {
   "cell_type": "markdown",
   "metadata": {},
   "source": [
    "### 1. Prepare Final_test_set"
   ]
  },
  {
   "cell_type": "code",
   "execution_count": 57,
   "metadata": {},
   "outputs": [],
   "source": [
    "Final_test_set = Final_test_set_original.copy()"
   ]
  },
  {
   "cell_type": "code",
   "execution_count": 58,
   "metadata": {},
   "outputs": [
    {
     "data": {
      "text/html": [
       "<div>\n",
       "<style scoped>\n",
       "    .dataframe tbody tr th:only-of-type {\n",
       "        vertical-align: middle;\n",
       "    }\n",
       "\n",
       "    .dataframe tbody tr th {\n",
       "        vertical-align: top;\n",
       "    }\n",
       "\n",
       "    .dataframe thead th {\n",
       "        text-align: right;\n",
       "    }\n",
       "</style>\n",
       "<table border=\"1\" class=\"dataframe\">\n",
       "  <thead>\n",
       "    <tr style=\"text-align: right;\">\n",
       "      <th></th>\n",
       "      <th>Reference</th>\n",
       "      <th>Lane</th>\n",
       "      <th>TailleZone</th>\n",
       "      <th>Courbure</th>\n",
       "      <th>CourbureVert</th>\n",
       "      <th>Vitesse</th>\n",
       "      <th>SensMarche</th>\n",
       "      <th>Lat_acc_tete_Max</th>\n",
       "      <th>Lat_acc_tete_Max_Pos</th>\n",
       "      <th>Lat_acc_tete_Max_Pos_Moy</th>\n",
       "      <th>...</th>\n",
       "      <th>Vert_acc_milieu_Max_Pos</th>\n",
       "      <th>Vert_acc_milieu_Max_Pos_Moy</th>\n",
       "      <th>Vert_acc_milieu_Avg</th>\n",
       "      <th>Vert_acc_milieu_P2Avg</th>\n",
       "      <th>Vert_acc_queue_Max</th>\n",
       "      <th>Vert_acc_queue_Max_Pos</th>\n",
       "      <th>Vert_acc_queue_Max_Pos_Moy</th>\n",
       "      <th>Vert_acc_queue_Avg</th>\n",
       "      <th>Vert_acc_queue_P2Avg</th>\n",
       "      <th>long_cat</th>\n",
       "    </tr>\n",
       "  </thead>\n",
       "  <tbody>\n",
       "    <tr>\n",
       "      <th>19985</th>\n",
       "      <td>4</td>\n",
       "      <td>V2</td>\n",
       "      <td>97</td>\n",
       "      <td>0.248856</td>\n",
       "      <td>0.811299</td>\n",
       "      <td>74.571267</td>\n",
       "      <td>Forward</td>\n",
       "      <td>0.752781</td>\n",
       "      <td>93.585508</td>\n",
       "      <td>54.424371</td>\n",
       "      <td>...</td>\n",
       "      <td>22.987785</td>\n",
       "      <td>7.141788</td>\n",
       "      <td>0.589260</td>\n",
       "      <td>0.007383</td>\n",
       "      <td>0.230361</td>\n",
       "      <td>67.410379</td>\n",
       "      <td>86.348173</td>\n",
       "      <td>0.181084</td>\n",
       "      <td>0.946456</td>\n",
       "      <td>2</td>\n",
       "    </tr>\n",
       "    <tr>\n",
       "      <th>19986</th>\n",
       "      <td>3</td>\n",
       "      <td>V1</td>\n",
       "      <td>17</td>\n",
       "      <td>0.505766</td>\n",
       "      <td>0.014886</td>\n",
       "      <td>37.428501</td>\n",
       "      <td>Backward</td>\n",
       "      <td>0.836663</td>\n",
       "      <td>14.892470</td>\n",
       "      <td>12.683041</td>\n",
       "      <td>...</td>\n",
       "      <td>56.374095</td>\n",
       "      <td>83.546111</td>\n",
       "      <td>0.844365</td>\n",
       "      <td>0.490782</td>\n",
       "      <td>0.582472</td>\n",
       "      <td>66.954615</td>\n",
       "      <td>26.670707</td>\n",
       "      <td>0.388776</td>\n",
       "      <td>0.111867</td>\n",
       "      <td>2</td>\n",
       "    </tr>\n",
       "    <tr>\n",
       "      <th>19987</th>\n",
       "      <td>7</td>\n",
       "      <td>V1</td>\n",
       "      <td>44</td>\n",
       "      <td>0.523861</td>\n",
       "      <td>0.798937</td>\n",
       "      <td>1.847553</td>\n",
       "      <td>Backward</td>\n",
       "      <td>0.334562</td>\n",
       "      <td>97.347031</td>\n",
       "      <td>60.977658</td>\n",
       "      <td>...</td>\n",
       "      <td>75.836442</td>\n",
       "      <td>60.095216</td>\n",
       "      <td>0.363194</td>\n",
       "      <td>0.023944</td>\n",
       "      <td>0.030404</td>\n",
       "      <td>48.961864</td>\n",
       "      <td>31.945800</td>\n",
       "      <td>0.963232</td>\n",
       "      <td>0.444202</td>\n",
       "      <td>2</td>\n",
       "    </tr>\n",
       "    <tr>\n",
       "      <th>19988</th>\n",
       "      <td>9</td>\n",
       "      <td>V2</td>\n",
       "      <td>43</td>\n",
       "      <td>0.206711</td>\n",
       "      <td>0.566057</td>\n",
       "      <td>44.418406</td>\n",
       "      <td>Forward</td>\n",
       "      <td>0.734586</td>\n",
       "      <td>39.680662</td>\n",
       "      <td>91.292757</td>\n",
       "      <td>...</td>\n",
       "      <td>86.520653</td>\n",
       "      <td>89.771954</td>\n",
       "      <td>0.637351</td>\n",
       "      <td>0.659116</td>\n",
       "      <td>0.325615</td>\n",
       "      <td>36.350467</td>\n",
       "      <td>44.709167</td>\n",
       "      <td>0.080363</td>\n",
       "      <td>0.320863</td>\n",
       "      <td>2</td>\n",
       "    </tr>\n",
       "    <tr>\n",
       "      <th>19989</th>\n",
       "      <td>8</td>\n",
       "      <td>V2</td>\n",
       "      <td>69</td>\n",
       "      <td>0.270948</td>\n",
       "      <td>0.002880</td>\n",
       "      <td>77.905207</td>\n",
       "      <td>Backward</td>\n",
       "      <td>0.535146</td>\n",
       "      <td>49.318462</td>\n",
       "      <td>1.634149</td>\n",
       "      <td>...</td>\n",
       "      <td>94.614352</td>\n",
       "      <td>68.889789</td>\n",
       "      <td>0.271212</td>\n",
       "      <td>0.096657</td>\n",
       "      <td>0.462147</td>\n",
       "      <td>61.944299</td>\n",
       "      <td>64.052392</td>\n",
       "      <td>0.034402</td>\n",
       "      <td>0.829404</td>\n",
       "      <td>2</td>\n",
       "    </tr>\n",
       "    <tr>\n",
       "      <th>19990</th>\n",
       "      <td>2</td>\n",
       "      <td>V1</td>\n",
       "      <td>85</td>\n",
       "      <td>0.096822</td>\n",
       "      <td>0.933810</td>\n",
       "      <td>93.600719</td>\n",
       "      <td>Forward</td>\n",
       "      <td>0.828022</td>\n",
       "      <td>23.384283</td>\n",
       "      <td>17.759940</td>\n",
       "      <td>...</td>\n",
       "      <td>47.923994</td>\n",
       "      <td>34.593595</td>\n",
       "      <td>0.192235</td>\n",
       "      <td>0.695820</td>\n",
       "      <td>0.911089</td>\n",
       "      <td>48.549142</td>\n",
       "      <td>74.058173</td>\n",
       "      <td>0.238302</td>\n",
       "      <td>0.689883</td>\n",
       "      <td>1</td>\n",
       "    </tr>\n",
       "    <tr>\n",
       "      <th>19991</th>\n",
       "      <td>1</td>\n",
       "      <td>V2</td>\n",
       "      <td>90</td>\n",
       "      <td>0.649466</td>\n",
       "      <td>0.899831</td>\n",
       "      <td>13.573825</td>\n",
       "      <td>Backward</td>\n",
       "      <td>0.369352</td>\n",
       "      <td>71.956242</td>\n",
       "      <td>41.975837</td>\n",
       "      <td>...</td>\n",
       "      <td>67.514767</td>\n",
       "      <td>4.051355</td>\n",
       "      <td>0.258579</td>\n",
       "      <td>0.914593</td>\n",
       "      <td>0.269741</td>\n",
       "      <td>49.498160</td>\n",
       "      <td>6.709154</td>\n",
       "      <td>0.782068</td>\n",
       "      <td>0.323404</td>\n",
       "      <td>2</td>\n",
       "    </tr>\n",
       "    <tr>\n",
       "      <th>19992</th>\n",
       "      <td>0</td>\n",
       "      <td>V2</td>\n",
       "      <td>46</td>\n",
       "      <td>0.255543</td>\n",
       "      <td>0.056493</td>\n",
       "      <td>62.808265</td>\n",
       "      <td>Forward</td>\n",
       "      <td>0.779608</td>\n",
       "      <td>57.339122</td>\n",
       "      <td>85.740536</td>\n",
       "      <td>...</td>\n",
       "      <td>38.199478</td>\n",
       "      <td>65.322573</td>\n",
       "      <td>0.136757</td>\n",
       "      <td>0.564691</td>\n",
       "      <td>0.645442</td>\n",
       "      <td>13.527891</td>\n",
       "      <td>48.211922</td>\n",
       "      <td>0.201073</td>\n",
       "      <td>0.488778</td>\n",
       "      <td>2</td>\n",
       "    </tr>\n",
       "    <tr>\n",
       "      <th>19993</th>\n",
       "      <td>1</td>\n",
       "      <td>V2</td>\n",
       "      <td>22</td>\n",
       "      <td>0.788189</td>\n",
       "      <td>0.330568</td>\n",
       "      <td>73.326768</td>\n",
       "      <td>Forward</td>\n",
       "      <td>0.022644</td>\n",
       "      <td>84.787100</td>\n",
       "      <td>47.242534</td>\n",
       "      <td>...</td>\n",
       "      <td>31.184726</td>\n",
       "      <td>32.213175</td>\n",
       "      <td>0.393806</td>\n",
       "      <td>0.625484</td>\n",
       "      <td>0.697336</td>\n",
       "      <td>60.673910</td>\n",
       "      <td>31.408992</td>\n",
       "      <td>0.290108</td>\n",
       "      <td>0.499644</td>\n",
       "      <td>2</td>\n",
       "    </tr>\n",
       "    <tr>\n",
       "      <th>19994</th>\n",
       "      <td>3</td>\n",
       "      <td>V1</td>\n",
       "      <td>5</td>\n",
       "      <td>0.221636</td>\n",
       "      <td>0.605395</td>\n",
       "      <td>61.802903</td>\n",
       "      <td>Backward</td>\n",
       "      <td>0.990956</td>\n",
       "      <td>32.714374</td>\n",
       "      <td>0.241393</td>\n",
       "      <td>...</td>\n",
       "      <td>33.350917</td>\n",
       "      <td>55.998403</td>\n",
       "      <td>0.893564</td>\n",
       "      <td>0.474300</td>\n",
       "      <td>0.558117</td>\n",
       "      <td>60.549575</td>\n",
       "      <td>59.781571</td>\n",
       "      <td>0.080486</td>\n",
       "      <td>0.140001</td>\n",
       "      <td>2</td>\n",
       "    </tr>\n",
       "    <tr>\n",
       "      <th>19995</th>\n",
       "      <td>0</td>\n",
       "      <td>V1</td>\n",
       "      <td>14</td>\n",
       "      <td>0.940800</td>\n",
       "      <td>0.684304</td>\n",
       "      <td>49.659833</td>\n",
       "      <td>Forward</td>\n",
       "      <td>0.053548</td>\n",
       "      <td>52.350822</td>\n",
       "      <td>79.293780</td>\n",
       "      <td>...</td>\n",
       "      <td>47.962073</td>\n",
       "      <td>53.128725</td>\n",
       "      <td>0.100804</td>\n",
       "      <td>0.411748</td>\n",
       "      <td>0.581664</td>\n",
       "      <td>28.049010</td>\n",
       "      <td>29.394012</td>\n",
       "      <td>0.011606</td>\n",
       "      <td>0.619174</td>\n",
       "      <td>0</td>\n",
       "    </tr>\n",
       "    <tr>\n",
       "      <th>19996</th>\n",
       "      <td>2</td>\n",
       "      <td>V1</td>\n",
       "      <td>98</td>\n",
       "      <td>0.100181</td>\n",
       "      <td>0.426336</td>\n",
       "      <td>75.619507</td>\n",
       "      <td>Backward</td>\n",
       "      <td>0.134392</td>\n",
       "      <td>91.984905</td>\n",
       "      <td>35.471746</td>\n",
       "      <td>...</td>\n",
       "      <td>62.372748</td>\n",
       "      <td>16.585608</td>\n",
       "      <td>0.601263</td>\n",
       "      <td>0.206010</td>\n",
       "      <td>0.448358</td>\n",
       "      <td>52.677330</td>\n",
       "      <td>48.989485</td>\n",
       "      <td>0.970779</td>\n",
       "      <td>0.018717</td>\n",
       "      <td>2</td>\n",
       "    </tr>\n",
       "    <tr>\n",
       "      <th>19997</th>\n",
       "      <td>4</td>\n",
       "      <td>V2</td>\n",
       "      <td>12</td>\n",
       "      <td>0.690590</td>\n",
       "      <td>0.490860</td>\n",
       "      <td>98.397386</td>\n",
       "      <td>Backward</td>\n",
       "      <td>0.387607</td>\n",
       "      <td>79.657044</td>\n",
       "      <td>34.010599</td>\n",
       "      <td>...</td>\n",
       "      <td>35.280957</td>\n",
       "      <td>52.960203</td>\n",
       "      <td>0.195770</td>\n",
       "      <td>0.450892</td>\n",
       "      <td>0.755311</td>\n",
       "      <td>37.911776</td>\n",
       "      <td>9.049751</td>\n",
       "      <td>0.390639</td>\n",
       "      <td>0.874315</td>\n",
       "      <td>2</td>\n",
       "    </tr>\n",
       "    <tr>\n",
       "      <th>19998</th>\n",
       "      <td>3</td>\n",
       "      <td>V1</td>\n",
       "      <td>12</td>\n",
       "      <td>0.659393</td>\n",
       "      <td>0.690065</td>\n",
       "      <td>58.972061</td>\n",
       "      <td>Forward</td>\n",
       "      <td>0.650331</td>\n",
       "      <td>61.043277</td>\n",
       "      <td>0.380515</td>\n",
       "      <td>...</td>\n",
       "      <td>65.372287</td>\n",
       "      <td>86.501950</td>\n",
       "      <td>0.520677</td>\n",
       "      <td>0.957782</td>\n",
       "      <td>0.568741</td>\n",
       "      <td>70.079965</td>\n",
       "      <td>89.684959</td>\n",
       "      <td>0.633737</td>\n",
       "      <td>0.494658</td>\n",
       "      <td>2</td>\n",
       "    </tr>\n",
       "    <tr>\n",
       "      <th>19999</th>\n",
       "      <td>7</td>\n",
       "      <td>V1</td>\n",
       "      <td>26</td>\n",
       "      <td>0.647651</td>\n",
       "      <td>0.865273</td>\n",
       "      <td>94.570605</td>\n",
       "      <td>Backward</td>\n",
       "      <td>0.514491</td>\n",
       "      <td>70.458400</td>\n",
       "      <td>66.805675</td>\n",
       "      <td>...</td>\n",
       "      <td>60.540073</td>\n",
       "      <td>6.173236</td>\n",
       "      <td>0.858309</td>\n",
       "      <td>0.423575</td>\n",
       "      <td>0.170322</td>\n",
       "      <td>78.019618</td>\n",
       "      <td>72.531757</td>\n",
       "      <td>0.403685</td>\n",
       "      <td>0.998203</td>\n",
       "      <td>2</td>\n",
       "    </tr>\n",
       "  </tbody>\n",
       "</table>\n",
       "<p>15 rows × 38 columns</p>\n",
       "</div>"
      ],
      "text/plain": [
       "       Reference Lane  TailleZone  Courbure  CourbureVert    Vitesse  \\\n",
       "19985          4   V2          97  0.248856      0.811299  74.571267   \n",
       "19986          3   V1          17  0.505766      0.014886  37.428501   \n",
       "19987          7   V1          44  0.523861      0.798937   1.847553   \n",
       "19988          9   V2          43  0.206711      0.566057  44.418406   \n",
       "19989          8   V2          69  0.270948      0.002880  77.905207   \n",
       "19990          2   V1          85  0.096822      0.933810  93.600719   \n",
       "19991          1   V2          90  0.649466      0.899831  13.573825   \n",
       "19992          0   V2          46  0.255543      0.056493  62.808265   \n",
       "19993          1   V2          22  0.788189      0.330568  73.326768   \n",
       "19994          3   V1           5  0.221636      0.605395  61.802903   \n",
       "19995          0   V1          14  0.940800      0.684304  49.659833   \n",
       "19996          2   V1          98  0.100181      0.426336  75.619507   \n",
       "19997          4   V2          12  0.690590      0.490860  98.397386   \n",
       "19998          3   V1          12  0.659393      0.690065  58.972061   \n",
       "19999          7   V1          26  0.647651      0.865273  94.570605   \n",
       "\n",
       "      SensMarche  Lat_acc_tete_Max  Lat_acc_tete_Max_Pos  \\\n",
       "19985    Forward          0.752781             93.585508   \n",
       "19986   Backward          0.836663             14.892470   \n",
       "19987   Backward          0.334562             97.347031   \n",
       "19988    Forward          0.734586             39.680662   \n",
       "19989   Backward          0.535146             49.318462   \n",
       "19990    Forward          0.828022             23.384283   \n",
       "19991   Backward          0.369352             71.956242   \n",
       "19992    Forward          0.779608             57.339122   \n",
       "19993    Forward          0.022644             84.787100   \n",
       "19994   Backward          0.990956             32.714374   \n",
       "19995    Forward          0.053548             52.350822   \n",
       "19996   Backward          0.134392             91.984905   \n",
       "19997   Backward          0.387607             79.657044   \n",
       "19998    Forward          0.650331             61.043277   \n",
       "19999   Backward          0.514491             70.458400   \n",
       "\n",
       "       Lat_acc_tete_Max_Pos_Moy  ...  Vert_acc_milieu_Max_Pos  \\\n",
       "19985                 54.424371  ...                22.987785   \n",
       "19986                 12.683041  ...                56.374095   \n",
       "19987                 60.977658  ...                75.836442   \n",
       "19988                 91.292757  ...                86.520653   \n",
       "19989                  1.634149  ...                94.614352   \n",
       "19990                 17.759940  ...                47.923994   \n",
       "19991                 41.975837  ...                67.514767   \n",
       "19992                 85.740536  ...                38.199478   \n",
       "19993                 47.242534  ...                31.184726   \n",
       "19994                  0.241393  ...                33.350917   \n",
       "19995                 79.293780  ...                47.962073   \n",
       "19996                 35.471746  ...                62.372748   \n",
       "19997                 34.010599  ...                35.280957   \n",
       "19998                  0.380515  ...                65.372287   \n",
       "19999                 66.805675  ...                60.540073   \n",
       "\n",
       "       Vert_acc_milieu_Max_Pos_Moy  Vert_acc_milieu_Avg  \\\n",
       "19985                     7.141788             0.589260   \n",
       "19986                    83.546111             0.844365   \n",
       "19987                    60.095216             0.363194   \n",
       "19988                    89.771954             0.637351   \n",
       "19989                    68.889789             0.271212   \n",
       "19990                    34.593595             0.192235   \n",
       "19991                     4.051355             0.258579   \n",
       "19992                    65.322573             0.136757   \n",
       "19993                    32.213175             0.393806   \n",
       "19994                    55.998403             0.893564   \n",
       "19995                    53.128725             0.100804   \n",
       "19996                    16.585608             0.601263   \n",
       "19997                    52.960203             0.195770   \n",
       "19998                    86.501950             0.520677   \n",
       "19999                     6.173236             0.858309   \n",
       "\n",
       "       Vert_acc_milieu_P2Avg  Vert_acc_queue_Max  Vert_acc_queue_Max_Pos  \\\n",
       "19985               0.007383            0.230361               67.410379   \n",
       "19986               0.490782            0.582472               66.954615   \n",
       "19987               0.023944            0.030404               48.961864   \n",
       "19988               0.659116            0.325615               36.350467   \n",
       "19989               0.096657            0.462147               61.944299   \n",
       "19990               0.695820            0.911089               48.549142   \n",
       "19991               0.914593            0.269741               49.498160   \n",
       "19992               0.564691            0.645442               13.527891   \n",
       "19993               0.625484            0.697336               60.673910   \n",
       "19994               0.474300            0.558117               60.549575   \n",
       "19995               0.411748            0.581664               28.049010   \n",
       "19996               0.206010            0.448358               52.677330   \n",
       "19997               0.450892            0.755311               37.911776   \n",
       "19998               0.957782            0.568741               70.079965   \n",
       "19999               0.423575            0.170322               78.019618   \n",
       "\n",
       "       Vert_acc_queue_Max_Pos_Moy  Vert_acc_queue_Avg  Vert_acc_queue_P2Avg  \\\n",
       "19985                   86.348173            0.181084              0.946456   \n",
       "19986                   26.670707            0.388776              0.111867   \n",
       "19987                   31.945800            0.963232              0.444202   \n",
       "19988                   44.709167            0.080363              0.320863   \n",
       "19989                   64.052392            0.034402              0.829404   \n",
       "19990                   74.058173            0.238302              0.689883   \n",
       "19991                    6.709154            0.782068              0.323404   \n",
       "19992                   48.211922            0.201073              0.488778   \n",
       "19993                   31.408992            0.290108              0.499644   \n",
       "19994                   59.781571            0.080486              0.140001   \n",
       "19995                   29.394012            0.011606              0.619174   \n",
       "19996                   48.989485            0.970779              0.018717   \n",
       "19997                    9.049751            0.390639              0.874315   \n",
       "19998                   89.684959            0.633737              0.494658   \n",
       "19999                   72.531757            0.403685              0.998203   \n",
       "\n",
       "       long_cat  \n",
       "19985         2  \n",
       "19986         2  \n",
       "19987         2  \n",
       "19988         2  \n",
       "19989         2  \n",
       "19990         1  \n",
       "19991         2  \n",
       "19992         2  \n",
       "19993         2  \n",
       "19994         2  \n",
       "19995         0  \n",
       "19996         2  \n",
       "19997         2  \n",
       "19998         2  \n",
       "19999         2  \n",
       "\n",
       "[15 rows x 38 columns]"
      ]
     },
     "execution_count": 58,
     "metadata": {},
     "output_type": "execute_result"
    }
   ],
   "source": [
    "Final_test_set.tail(15)"
   ]
  },
  {
   "cell_type": "markdown",
   "metadata": {},
   "source": [
    "### 2. Make prediction with the classifier"
   ]
  },
  {
   "cell_type": "code",
   "execution_count": 59,
   "metadata": {},
   "outputs": [],
   "source": [
    "# Find if there is any column that is not numeric \n",
    "Final_test_set_cat = Final_test_set.select_dtypes(exclude=[np.number])\n",
    "#Final_test_set_cat.head()\n",
    "\n",
    "# Add categorical columns that are number manually can convert them to categorical type\n",
    "Final_test_set[other_cat_col] = Final_test_set[other_cat_col].astype(\"category\")\n",
    "#Final_test_set[other_cat_col].dtypes"
   ]
  },
  {
   "cell_type": "code",
   "execution_count": 60,
   "metadata": {},
   "outputs": [],
   "source": [
    "Final_test_set_cat_encoded = ordinal_encoder.fit_transform(Final_test_set_cat)\n",
    "#print(Final_test_set_cat_encoded)\n",
    "\n",
    "Final_test_set[Final_test_set_cat.columns.tolist()] = Final_test_set_cat_encoded\n",
    "Final_test_set[Final_test_set_cat.columns.tolist()] = Final_test_set[Final_test_set_cat.columns.tolist()].astype(\"category\")\n",
    "#Final_test_set[Final_test_set_cat.columns.tolist()].value_counts()"
   ]
  },
  {
   "cell_type": "code",
   "execution_count": 61,
   "metadata": {},
   "outputs": [],
   "source": [
    "Final_test = Final_test_set.copy()"
   ]
  },
  {
   "cell_type": "code",
   "execution_count": 62,
   "metadata": {},
   "outputs": [
    {
     "data": {
      "text/plain": [
       "2    17602\n",
       "0     1275\n",
       "1     1123\n",
       "Name: long_cat, dtype: int64"
      ]
     },
     "execution_count": 62,
     "metadata": {},
     "output_type": "execute_result"
    }
   ],
   "source": [
    "Final_test[\"long_cat\"].value_counts()"
   ]
  },
  {
   "cell_type": "code",
   "execution_count": 63,
   "metadata": {},
   "outputs": [],
   "source": [
    "X_Final_test = Final_test.drop(\"long_cat\", axis=1)\n",
    "y_Final_test = Final_test[\"long_cat\"]"
   ]
  },
  {
   "cell_type": "code",
   "execution_count": 64,
   "metadata": {},
   "outputs": [
    {
     "name": "stdout",
     "output_type": "stream",
     "text": [
      "shape after transformation:  (20000, 26)\n"
     ]
    }
   ],
   "source": [
    "#Transform the X_test as the train set has been transformed\n",
    "X_Final_test_prep = full_pl.transform(X_Final_test)\n",
    "#print('shape before PCA: ', X_train_prep.shape)\n",
    "\n",
    "if use_PCA:\n",
    "    X_Final_test_prep = pca.transform(X_Final_test_prep)\n",
    "    print('number of components: ', pca.n_components_)\n",
    "\n",
    "print('shape after transformation: ', X_Final_test_prep.shape)"
   ]
  },
  {
   "cell_type": "code",
   "execution_count": 65,
   "metadata": {},
   "outputs": [
    {
     "name": "stdout",
     "output_type": "stream",
     "text": [
      "625/625 [==============================] - 2s 2ms/step\n",
      "625/625 [==============================] - 2s 2ms/step\n",
      "625/625 [==============================] - 2s 2ms/step\n"
     ]
    }
   ],
   "source": [
    "# Use 3 models to make prediction\n",
    "\n",
    "y_pred_use_val_prob = best_model_use_val.predict(X_Final_test_prep) # use own validation\n",
    "y_pred_epoch_prob = best_model_epoch.predict(X_Final_test_prep) # use known best n_epochs\n",
    "y_pred_saved_prob = best_model_saved.predict(X_Final_test_prep) # use the saved model"
   ]
  },
  {
   "cell_type": "code",
   "execution_count": 66,
   "metadata": {},
   "outputs": [],
   "source": [
    "def convert_probabilities_to_labels(predictions):\n",
    "    labels = np.argmax(predictions, axis=1)\n",
    "    return labels"
   ]
  },
  {
   "cell_type": "code",
   "execution_count": 67,
   "metadata": {},
   "outputs": [],
   "source": [
    "y_pred_use_val_label = convert_probabilities_to_labels(y_pred_use_val_prob)\n",
    "y_pred_epoch_label = convert_probabilities_to_labels(y_pred_epoch_prob)\n",
    "y_pred_saved_label = convert_probabilities_to_labels(y_pred_saved_prob)"
   ]
  },
  {
   "cell_type": "markdown",
   "metadata": {},
   "source": [
    "### 3. Evaluate the model with test set"
   ]
  },
  {
   "cell_type": "code",
   "execution_count": 68,
   "metadata": {},
   "outputs": [],
   "source": [
    "from sklearn.model_selection import cross_val_predict\n",
    "from sklearn.metrics import confusion_matrix\n",
    "from sklearn.metrics import classification_report\n",
    "import sys"
   ]
  },
  {
   "cell_type": "code",
   "execution_count": 69,
   "metadata": {},
   "outputs": [],
   "source": [
    "def perf_evaluate_plot(y_test, y_pred, n_class = 2):\n",
    "    # Generate confusion matrix\n",
    "    cm = confusion_matrix(y_test, y_pred)\n",
    "    \n",
    "    # Define class names\n",
    "    if n_class == 2:\n",
    "        classes = ['Class 0', 'Class 1']\n",
    "    elif n_class == 3:\n",
    "        classes = ['Class 0', 'Class 1', 'Class 2']\n",
    "    else:\n",
    "        sys.exit(\"n_class can only be 2 or 3\")\n",
    "    \n",
    "    # Define plot parameters\n",
    "    fig, ax = plt.subplots()\n",
    "    sns.heatmap(cm, annot=True, cmap=\"YlGnBu\", fmt=\"d\", xticklabels=classes, yticklabels=classes, annot_kws={\"fontsize\":16})\n",
    "    \n",
    "    # Set plot labels\n",
    "    ax.set_xlabel('Predicted label')\n",
    "    ax.set_ylabel('True label')\n",
    "    ax.set_title('Confusion Matrix')\n",
    "    plt.show()\n",
    "    \n",
    "    # Create classification report\n",
    "    print(classification_report(y_test, y_pred))\n",
    "    print(\"====================================================================================\")"
   ]
  },
  {
   "cell_type": "code",
   "execution_count": 70,
   "metadata": {
    "scrolled": false
   },
   "outputs": [
    {
     "name": "stdout",
     "output_type": "stream",
     "text": [
      "Own validation net performance evaluation\n"
     ]
    },
    {
     "data": {
      "image/png": "[encoded data removed]",
      "text/plain": [
       "<Figure size 640x480 with 2 Axes>"
      ]
     },
     "metadata": {},
     "output_type": "display_data"
    },
    {
     "name": "stderr",
     "output_type": "stream",
     "text": [
      "C:\\Users\\9112325B\\Anaconda3\\lib\\site-packages\\sklearn\\metrics\\_classification.py:1344: UndefinedMetricWarning: Precision and F-score are ill-defined and being set to 0.0 in labels with no predicted samples. Use `zero_division` parameter to control this behavior.\n",
      "  _warn_prf(average, modifier, msg_start, len(result))\n",
      "C:\\Users\\9112325B\\Anaconda3\\lib\\site-packages\\sklearn\\metrics\\_classification.py:1344: UndefinedMetricWarning: Precision and F-score are ill-defined and being set to 0.0 in labels with no predicted samples. Use `zero_division` parameter to control this behavior.\n",
      "  _warn_prf(average, modifier, msg_start, len(result))\n",
      "C:\\Users\\9112325B\\Anaconda3\\lib\\site-packages\\sklearn\\metrics\\_classification.py:1344: UndefinedMetricWarning: Precision and F-score are ill-defined and being set to 0.0 in labels with no predicted samples. Use `zero_division` parameter to control this behavior.\n",
      "  _warn_prf(average, modifier, msg_start, len(result))\n"
     ]
    },
    {
     "name": "stdout",
     "output_type": "stream",
     "text": [
      "              precision    recall  f1-score   support\n",
      "\n",
      "           0       0.00      0.00      0.00      1275\n",
      "           1       0.00      0.00      0.00      1123\n",
      "           2       0.88      1.00      0.94     17602\n",
      "\n",
      "    accuracy                           0.88     20000\n",
      "   macro avg       0.29      0.33      0.31     20000\n",
      "weighted avg       0.77      0.88      0.82     20000\n",
      "\n",
      "====================================================================================\n",
      "n_epoch Model net performance evaluation\n"
     ]
    },
    {
     "data": {
      "image/png": "[encoded data removed]",
      "text/plain": [
       "<Figure size 640x480 with 2 Axes>"
      ]
     },
     "metadata": {},
     "output_type": "display_data"
    },
    {
     "name": "stderr",
     "output_type": "stream",
     "text": [
      "C:\\Users\\9112325B\\Anaconda3\\lib\\site-packages\\sklearn\\metrics\\_classification.py:1344: UndefinedMetricWarning: Precision and F-score are ill-defined and being set to 0.0 in labels with no predicted samples. Use `zero_division` parameter to control this behavior.\n",
      "  _warn_prf(average, modifier, msg_start, len(result))\n",
      "C:\\Users\\9112325B\\Anaconda3\\lib\\site-packages\\sklearn\\metrics\\_classification.py:1344: UndefinedMetricWarning: Precision and F-score are ill-defined and being set to 0.0 in labels with no predicted samples. Use `zero_division` parameter to control this behavior.\n",
      "  _warn_prf(average, modifier, msg_start, len(result))\n",
      "C:\\Users\\9112325B\\Anaconda3\\lib\\site-packages\\sklearn\\metrics\\_classification.py:1344: UndefinedMetricWarning: Precision and F-score are ill-defined and being set to 0.0 in labels with no predicted samples. Use `zero_division` parameter to control this behavior.\n",
      "  _warn_prf(average, modifier, msg_start, len(result))\n"
     ]
    },
    {
     "name": "stdout",
     "output_type": "stream",
     "text": [
      "              precision    recall  f1-score   support\n",
      "\n",
      "           0       0.00      0.00      0.00      1275\n",
      "           1       0.00      0.00      0.00      1123\n",
      "           2       0.88      1.00      0.94     17602\n",
      "\n",
      "    accuracy                           0.88     20000\n",
      "   macro avg       0.29      0.33      0.31     20000\n",
      "weighted avg       0.77      0.88      0.82     20000\n",
      "\n",
      "====================================================================================\n",
      "Saved Model performance evaluation\n"
     ]
    },
    {
     "data": {
      "image/png": "[encoded data removed]",
      "text/plain": [
       "<Figure size 640x480 with 2 Axes>"
      ]
     },
     "metadata": {},
     "output_type": "display_data"
    },
    {
     "name": "stdout",
     "output_type": "stream",
     "text": [
      "              precision    recall  f1-score   support\n",
      "\n",
      "           0       0.00      0.00      0.00      1275\n",
      "           1       0.00      0.00      0.00      1123\n",
      "           2       0.88      1.00      0.94     17602\n",
      "\n",
      "    accuracy                           0.88     20000\n",
      "   macro avg       0.29      0.33      0.31     20000\n",
      "weighted avg       0.77      0.88      0.82     20000\n",
      "\n",
      "====================================================================================\n"
     ]
    },
    {
     "name": "stderr",
     "output_type": "stream",
     "text": [
      "C:\\Users\\9112325B\\Anaconda3\\lib\\site-packages\\sklearn\\metrics\\_classification.py:1344: UndefinedMetricWarning: Precision and F-score are ill-defined and being set to 0.0 in labels with no predicted samples. Use `zero_division` parameter to control this behavior.\n",
      "  _warn_prf(average, modifier, msg_start, len(result))\n",
      "C:\\Users\\9112325B\\Anaconda3\\lib\\site-packages\\sklearn\\metrics\\_classification.py:1344: UndefinedMetricWarning: Precision and F-score are ill-defined and being set to 0.0 in labels with no predicted samples. Use `zero_division` parameter to control this behavior.\n",
      "  _warn_prf(average, modifier, msg_start, len(result))\n",
      "C:\\Users\\9112325B\\Anaconda3\\lib\\site-packages\\sklearn\\metrics\\_classification.py:1344: UndefinedMetricWarning: Precision and F-score are ill-defined and being set to 0.0 in labels with no predicted samples. Use `zero_division` parameter to control this behavior.\n",
      "  _warn_prf(average, modifier, msg_start, len(result))\n"
     ]
    }
   ],
   "source": [
    "# use_val performance\n",
    "print(\"Own validation net performance evaluation\")\n",
    "perf_evaluate_plot(Final_test[\"long_cat\"], y_pred_use_val_label, n_class=3)\n",
    "\n",
    "# best n_epoch performance\n",
    "print(\"n_epoch Model net performance evaluation\")\n",
    "perf_evaluate_plot(Final_test[\"long_cat\"], y_pred_epoch_label, n_class=3)\n",
    "\n",
    "# Saved model performance\n",
    "print(\"Saved Model performance evaluation\")\n",
    "perf_evaluate_plot(Final_test[\"long_cat\"], y_pred_saved_label, n_class=3)"
   ]
  },
  {
   "cell_type": "markdown",
   "metadata": {},
   "source": [
    "#### Final words\n",
    "\n",
    "Once again, the result is horrible to say the least. It was much better with the actual dataset for the problem that this model was built to solve - this was actually the best model out of the three. The main reason is the proportion of label 2 was very small in this randomly generated dataset, especially when oversampling was not used. It is another salute to the says the importance of the quality of data, and in this case also the size of data, for machine learning tasks.\n",
    "\n",
    "Anyways, the idea of this notebook is to demonstrate how to use deep learning neural network to perform classification problem when the model has two-level architecture. It is possible to compare the performance of the classifier of each level to the global performance to observe the performance drop caused by error propagation."
   ]
  },
  {
   "cell_type": "code",
   "execution_count": null,
   "metadata": {},
   "outputs": [],
   "source": []
  }
 ],
 "metadata": {
  "kernelspec": {
   "display_name": "Python 3 (ipykernel)",
   "language": "python",
   "name": "python3"
  },
  "language_info": {
   "codemirror_mode": {
    "name": "ipython",
    "version": 3
   },
   "file_extension": ".py",
   "mimetype": "text/x-python",
   "name": "python",
   "nbconvert_exporter": "python",
   "pygments_lexer": "ipython3",
   "version": "3.10.9"
  }
 },
 "nbformat": 4,
 "nbformat_minor": 4
}
