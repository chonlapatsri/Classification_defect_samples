{
 "cells": [
  {
   "cell_type": "markdown",
   "metadata": {},
   "source": [
    "#### This jupyter notebook contains a sample code that represents my work on classification machine learning model to predict Labels\n",
    "\n",
    "**caveat: the performance of the model given the dummy dataset is terrible. It was much better with a dataset for the problem that it meant to solve. This highlights the importance of the quality of data for machine learning.\n",
    "\n",
    "\n",
    "This the Deep Learning neural network version of the two-level architecture model. It has a simple configure without hyperparameter tuning or earlystopping."
   ]
  },
  {
   "cell_type": "code",
   "execution_count": 59,
   "metadata": {},
   "outputs": [],
   "source": [
    "import sys\n",
    "\n",
    "import pandas as pd\n",
    "import numpy as np\n",
    "import matplotlib as mpl\n",
    "import matplotlib.pyplot as plt\n",
    "import seaborn as sns\n",
    "import math"
   ]
  },
  {
   "cell_type": "markdown",
   "metadata": {},
   "source": [
    "### 1. Dataset Preparation steps"
   ]
  },
  {
   "cell_type": "code",
   "execution_count": 60,
   "metadata": {},
   "outputs": [
    {
     "data": {
      "text/html": [
       "<div>\n",
       "<style scoped>\n",
       "    .dataframe tbody tr th:only-of-type {\n",
       "        vertical-align: middle;\n",
       "    }\n",
       "\n",
       "    .dataframe tbody tr th {\n",
       "        vertical-align: top;\n",
       "    }\n",
       "\n",
       "    .dataframe thead th {\n",
       "        text-align: right;\n",
       "    }\n",
       "</style>\n",
       "<table border=\"1\" class=\"dataframe\">\n",
       "  <thead>\n",
       "    <tr style=\"text-align: right;\">\n",
       "      <th></th>\n",
       "      <th>defect_1</th>\n",
       "      <th>defect_2</th>\n",
       "      <th>defect_3</th>\n",
       "      <th>defect_4</th>\n",
       "      <th>defect_5</th>\n",
       "      <th>defect_1_Type</th>\n",
       "      <th>defect_2_Type</th>\n",
       "      <th>defect_3_Type</th>\n",
       "      <th>defect_4_Type</th>\n",
       "      <th>defect_5_Type</th>\n",
       "      <th>...</th>\n",
       "      <th>Recall</th>\n",
       "      <th>TPR</th>\n",
       "      <th>FPR</th>\n",
       "      <th>TNR</th>\n",
       "      <th>FNR</th>\n",
       "      <th>Youden</th>\n",
       "      <th>Balanced_Accuracy</th>\n",
       "      <th>ROC_Curve</th>\n",
       "      <th>PR_Curve</th>\n",
       "      <th>AP</th>\n",
       "    </tr>\n",
       "  </thead>\n",
       "  <tbody>\n",
       "    <tr>\n",
       "      <th>0</th>\n",
       "      <td>0</td>\n",
       "      <td>0</td>\n",
       "      <td>0</td>\n",
       "      <td>0</td>\n",
       "      <td>1</td>\n",
       "      <td>A</td>\n",
       "      <td>A</td>\n",
       "      <td>A</td>\n",
       "      <td>D</td>\n",
       "      <td>B</td>\n",
       "      <td>...</td>\n",
       "      <td>0.990594</td>\n",
       "      <td>0.809008</td>\n",
       "      <td>0.563227</td>\n",
       "      <td>0.472387</td>\n",
       "      <td>0.615974</td>\n",
       "      <td>0.094307</td>\n",
       "      <td>0.327075</td>\n",
       "      <td>0.540226</td>\n",
       "      <td>0.133943</td>\n",
       "      <td>0.032441</td>\n",
       "    </tr>\n",
       "    <tr>\n",
       "      <th>1</th>\n",
       "      <td>1</td>\n",
       "      <td>0</td>\n",
       "      <td>0</td>\n",
       "      <td>0</td>\n",
       "      <td>1</td>\n",
       "      <td>D</td>\n",
       "      <td>D</td>\n",
       "      <td>B</td>\n",
       "      <td>D</td>\n",
       "      <td>A</td>\n",
       "      <td>...</td>\n",
       "      <td>0.842302</td>\n",
       "      <td>0.900235</td>\n",
       "      <td>0.686617</td>\n",
       "      <td>0.911116</td>\n",
       "      <td>0.630364</td>\n",
       "      <td>0.951747</td>\n",
       "      <td>0.370230</td>\n",
       "      <td>0.589418</td>\n",
       "      <td>0.072146</td>\n",
       "      <td>0.890480</td>\n",
       "    </tr>\n",
       "    <tr>\n",
       "      <th>2</th>\n",
       "      <td>0</td>\n",
       "      <td>1</td>\n",
       "      <td>1</td>\n",
       "      <td>0</td>\n",
       "      <td>1</td>\n",
       "      <td>B</td>\n",
       "      <td>C</td>\n",
       "      <td>D</td>\n",
       "      <td>D</td>\n",
       "      <td>A</td>\n",
       "      <td>...</td>\n",
       "      <td>0.751722</td>\n",
       "      <td>0.507021</td>\n",
       "      <td>0.080241</td>\n",
       "      <td>0.742758</td>\n",
       "      <td>0.638161</td>\n",
       "      <td>0.820433</td>\n",
       "      <td>0.935423</td>\n",
       "      <td>0.351664</td>\n",
       "      <td>0.689718</td>\n",
       "      <td>0.582843</td>\n",
       "    </tr>\n",
       "    <tr>\n",
       "      <th>3</th>\n",
       "      <td>0</td>\n",
       "      <td>0</td>\n",
       "      <td>1</td>\n",
       "      <td>0</td>\n",
       "      <td>0</td>\n",
       "      <td>A</td>\n",
       "      <td>A</td>\n",
       "      <td>A</td>\n",
       "      <td>A</td>\n",
       "      <td>B</td>\n",
       "      <td>...</td>\n",
       "      <td>0.226009</td>\n",
       "      <td>0.788867</td>\n",
       "      <td>0.983046</td>\n",
       "      <td>0.871260</td>\n",
       "      <td>0.599608</td>\n",
       "      <td>0.348364</td>\n",
       "      <td>0.580285</td>\n",
       "      <td>0.424159</td>\n",
       "      <td>0.266092</td>\n",
       "      <td>0.019979</td>\n",
       "    </tr>\n",
       "    <tr>\n",
       "      <th>4</th>\n",
       "      <td>0</td>\n",
       "      <td>0</td>\n",
       "      <td>0</td>\n",
       "      <td>0</td>\n",
       "      <td>1</td>\n",
       "      <td>C</td>\n",
       "      <td>A</td>\n",
       "      <td>C</td>\n",
       "      <td>B</td>\n",
       "      <td>A</td>\n",
       "      <td>...</td>\n",
       "      <td>0.597951</td>\n",
       "      <td>0.046211</td>\n",
       "      <td>0.823594</td>\n",
       "      <td>0.338387</td>\n",
       "      <td>0.954862</td>\n",
       "      <td>0.731584</td>\n",
       "      <td>0.175130</td>\n",
       "      <td>0.657905</td>\n",
       "      <td>0.777870</td>\n",
       "      <td>0.958529</td>\n",
       "    </tr>\n",
       "  </tbody>\n",
       "</table>\n",
       "<p>5 rows × 62 columns</p>\n",
       "</div>"
      ],
      "text/plain": [
       "   defect_1  defect_2  defect_3  defect_4  defect_5 defect_1_Type  \\\n",
       "0         0         0         0         0         1             A   \n",
       "1         1         0         0         0         1             D   \n",
       "2         0         1         1         0         1             B   \n",
       "3         0         0         1         0         0             A   \n",
       "4         0         0         0         0         1             C   \n",
       "\n",
       "  defect_2_Type defect_3_Type defect_4_Type defect_5_Type  ...    Recall  \\\n",
       "0             A             A             D             B  ...  0.990594   \n",
       "1             D             B             D             A  ...  0.842302   \n",
       "2             C             D             D             A  ...  0.751722   \n",
       "3             A             A             A             B  ...  0.226009   \n",
       "4             A             C             B             A  ...  0.597951   \n",
       "\n",
       "        TPR       FPR       TNR       FNR    Youden Balanced_Accuracy  \\\n",
       "0  0.809008  0.563227  0.472387  0.615974  0.094307          0.327075   \n",
       "1  0.900235  0.686617  0.911116  0.630364  0.951747          0.370230   \n",
       "2  0.507021  0.080241  0.742758  0.638161  0.820433          0.935423   \n",
       "3  0.788867  0.983046  0.871260  0.599608  0.348364          0.580285   \n",
       "4  0.046211  0.823594  0.338387  0.954862  0.731584          0.175130   \n",
       "\n",
       "   ROC_Curve  PR_Curve        AP  \n",
       "0   0.540226  0.133943  0.032441  \n",
       "1   0.589418  0.072146  0.890480  \n",
       "2   0.351664  0.689718  0.582843  \n",
       "3   0.424159  0.266092  0.019979  \n",
       "4   0.657905  0.777870  0.958529  \n",
       "\n",
       "[5 rows x 62 columns]"
      ]
     },
     "execution_count": 60,
     "metadata": {},
     "output_type": "execute_result"
    }
   ],
   "source": [
    "# Create a dummy dataset of 100,000 rows in total that fit the problem\n",
    "# Define the number of rows for each dataframe\n",
    "num_rows = 100000\n",
    "\n",
    "df = pd.DataFrame({\n",
    "    'defect_1': np.random.randint(0, 2, size=num_rows),\n",
    "    'defect_2': np.random.randint(0, 2, size=num_rows),\n",
    "    'defect_3': np.random.randint(0, 2, size=num_rows),\n",
    "    'defect_4': np.random.randint(0, 2, size=num_rows),\n",
    "    'defect_5': np.random.randint(0, 2, size=num_rows),\n",
    "    'defect_1_Type': np.random.choice(['A', 'B', 'C', 'D'], size=num_rows),\n",
    "    'defect_2_Type': np.random.choice(['A', 'B', 'C', 'D'], size=num_rows),\n",
    "    'defect_3_Type': np.random.choice(['A', 'B', 'C', 'D'], size=num_rows),\n",
    "    'defect_4_Type': np.random.choice(['A', 'B', 'C', 'D'], size=num_rows),\n",
    "    'defect_5_Type': np.random.choice(['A', 'B', 'C', 'D'], size=num_rows),\n",
    "    'Reference': np.random.randint(0, 10, size=num_rows),\n",
    "    'Lane': np.random.choice(['V1', 'V2'], size=num_rows),\n",
    "    'TailleZone': np.random.randint(0, 100, size=num_rows),\n",
    "    'Courbure': np.random.uniform(0, 1, size=num_rows),\n",
    "    'CourbureVert': np.random.uniform(0, 1, size=num_rows),\n",
    "    'Vitesse': np.random.uniform(0, 100, size=num_rows),\n",
    "    'SensMarche': np.random.choice(['Forward', 'Backward'], size=num_rows),\n",
    "    'Lat_acc_tete_Max': np.random.uniform(0, 1, size=num_rows),\n",
    "    'Lat_acc_tete_Max_Pos': np.random.uniform(0, 100, size=num_rows),\n",
    "    'Lat_acc_tete_Max_Pos_Moy': np.random.uniform(0, 100, size=num_rows),\n",
    "    'Lat_acc_tete_Avg': np.random.uniform(0, 1, size=num_rows),\n",
    "    'Lat_acc_tete_P2Avg': np.random.uniform(0, 1, size=num_rows),\n",
    "    'Lat_acc_milieu_Max': np.random.uniform(0, 1, size=num_rows),\n",
    "    'Lat_acc_milieu_Max_Pos': np.random.uniform(0, 100, size=num_rows),\n",
    "    'Lat_acc_milieu_Max_Pos_Moy': np.random.uniform(0, 100, size=num_rows),\n",
    "    'Lat_acc_milieu_Avg': np.random.uniform(0, 1, size=num_rows),\n",
    "    'Lat_acc_milieu_P2Avg': np.random.uniform(0, 1, size=num_rows),\n",
    "    'Lat_acc_queue_Max': np.random.uniform(0, 1, size=num_rows),\n",
    "    'Lat_acc_queue_Max_Pos': np.random.uniform(0, 100, size=num_rows),\n",
    "    'Lat_acc_queue_Max_Pos_Moy': np.random.uniform(0, 100, size=num_rows),\n",
    "    'Lat_acc_queue_Avg': np.random.uniform(0, 1, size=num_rows),\n",
    "    'Lat_acc_queue_P2Avg': np.random.uniform(0, 1, size=num_rows),\n",
    "    'Vert_acc_tete_Max': np.random.uniform(0, 100, size=num_rows),\n",
    "    'Vert_acc_tete_Max_Pos': np.random.uniform(0, 100, size=num_rows),\n",
    "    'Vert_acc_tete_Max_Pos_Moy': np.random.uniform(0, 100, size=num_rows),\n",
    "    'Vert_acc_tete_Avg': np.random.uniform(0, 1, size=num_rows),\n",
    "    'Vert_acc_tete_P2Avg': np.random.uniform(0, 1, size=num_rows),\n",
    "    'Vert_acc_milieu_Max': np.random.uniform(0, 1, size=num_rows),\n",
    "    'Vert_acc_milieu_Max_Pos': np.random.uniform(0, 100, size=num_rows),\n",
    "    'Vert_acc_milieu_Max_Pos_Moy': np.random.uniform(0, 100, size=num_rows),\n",
    "    'Vert_acc_milieu_Avg': np.random.uniform(0, 1, size=num_rows),\n",
    "    'Vert_acc_milieu_P2Avg': np.random.uniform(0, 1, size=num_rows),\n",
    "    'Vert_acc_queue_Max': np.random.uniform(0, 1, size=num_rows),\n",
    "    'Vert_acc_queue_Max_Pos': np.random.uniform(0, 100, size=num_rows),\n",
    "    'Vert_acc_queue_Max_Pos_Moy': np.random.uniform(0, 100, size=num_rows),\n",
    "    'Vert_acc_queue_Avg': np.random.uniform(0, 1, size=num_rows),\n",
    "    'Vert_acc_queue_P2Avg': np.random.uniform(0, 1, size=num_rows),\n",
    "    'G_Mean': np.random.uniform(0, 1, size=num_rows),\n",
    "    'AUC': np.random.uniform(0, 1, size=num_rows),\n",
    "    'F-Measure': np.random.uniform(0, 1, size=num_rows),\n",
    "    'Specificity': np.random.uniform(0, 1, size=num_rows),\n",
    "    'Precision': np.random.uniform(0, 1, size=num_rows),\n",
    "    'Recall': np.random.uniform(0, 1, size=num_rows),\n",
    "    'TPR': np.random.uniform(0, 1, size=num_rows),\n",
    "    'FPR': np.random.uniform(0, 1, size=num_rows),\n",
    "    'TNR': np.random.uniform(0, 1, size=num_rows),\n",
    "    'FNR': np.random.uniform(0, 1, size=num_rows),\n",
    "    'Youden': np.random.uniform(0, 1, size=num_rows),\n",
    "    'Balanced_Accuracy': np.random.uniform(0, 1, size=num_rows),\n",
    "    'ROC_Curve': np.random.uniform(0, 1, size=num_rows),\n",
    "    'PR_Curve': np.random.uniform(0, 1, size=num_rows),\n",
    "    'AP': np.random.uniform(0, 1, size=num_rows)\n",
    "})\n",
    "\n",
    "# Display the DataFrame\n",
    "df.head()"
   ]
  },
  {
   "cell_type": "code",
   "execution_count": 61,
   "metadata": {
    "scrolled": true
   },
   "outputs": [
    {
     "name": "stdout",
     "output_type": "stream",
     "text": [
      "['defect_1', 'defect_2', 'defect_3', 'defect_4', 'defect_5', 'defect_1_Type', 'defect_2_Type', 'defect_3_Type', 'defect_4_Type', 'defect_5_Type', 'Reference', 'Lane', 'TailleZone', 'Courbure', 'CourbureVert', 'Vitesse', 'SensMarche', 'Lat_acc_tete_Max', 'Lat_acc_tete_Max_Pos', 'Lat_acc_tete_Max_Pos_Moy', 'Lat_acc_tete_Avg', 'Lat_acc_tete_P2Avg', 'Lat_acc_milieu_Max', 'Lat_acc_milieu_Max_Pos', 'Lat_acc_milieu_Max_Pos_Moy', 'Lat_acc_milieu_Avg', 'Lat_acc_milieu_P2Avg', 'Lat_acc_queue_Max', 'Lat_acc_queue_Max_Pos', 'Lat_acc_queue_Max_Pos_Moy', 'Lat_acc_queue_Avg', 'Lat_acc_queue_P2Avg', 'Vert_acc_tete_Max', 'Vert_acc_tete_Max_Pos', 'Vert_acc_tete_Max_Pos_Moy', 'Vert_acc_tete_Avg', 'Vert_acc_tete_P2Avg', 'Vert_acc_milieu_Max', 'Vert_acc_milieu_Max_Pos', 'Vert_acc_milieu_Max_Pos_Moy', 'Vert_acc_milieu_Avg', 'Vert_acc_milieu_P2Avg', 'Vert_acc_queue_Max', 'Vert_acc_queue_Max_Pos', 'Vert_acc_queue_Max_Pos_Moy', 'Vert_acc_queue_Avg', 'Vert_acc_queue_P2Avg', 'G_Mean', 'AUC', 'F-Measure', 'Specificity', 'Precision', 'Recall', 'TPR', 'FPR', 'TNR', 'FNR', 'Youden', 'Balanced_Accuracy', 'ROC_Curve', 'PR_Curve', 'AP']\n"
     ]
    }
   ],
   "source": [
    "print(df.columns.tolist())"
   ]
  },
  {
   "cell_type": "code",
   "execution_count": 62,
   "metadata": {},
   "outputs": [],
   "source": [
    "# Remove unwanted columns\n",
    "geo_param_to_remove = ['defect_1', 'defect_2', 'defect_3', 'defect_4', 'defect_5']\n",
    "for col in df.columns.tolist():\n",
    "    if 'PR' in col or 'NR' in col:\n",
    "        geo_param_to_remove.append(col)\n",
    "\n",
    "zone_info_to_remove = ['G_Mean', 'AUC', 'F-Measure', 'Specificity', 'Precision', 'Recall' \n",
    "                       , 'Youden', 'Balanced_Accuracy', 'ROC_Curve', 'PR_Curve', 'AP']\n",
    "\n",
    "remove_list = geo_param_to_remove + zone_info_to_remove"
   ]
  },
  {
   "cell_type": "code",
   "execution_count": 63,
   "metadata": {
    "scrolled": true
   },
   "outputs": [
    {
     "name": "stdout",
     "output_type": "stream",
     "text": [
      "['defect_1_Type', 'defect_2_Type', 'defect_3_Type', 'defect_4_Type', 'defect_5_Type', 'Reference', 'Lane', 'TailleZone', 'Courbure', 'CourbureVert', 'Vitesse', 'SensMarche', 'Lat_acc_tete_Max', 'Lat_acc_tete_Max_Pos', 'Lat_acc_tete_Max_Pos_Moy', 'Lat_acc_tete_Avg', 'Lat_acc_tete_P2Avg', 'Lat_acc_milieu_Max', 'Lat_acc_milieu_Max_Pos', 'Lat_acc_milieu_Max_Pos_Moy', 'Lat_acc_milieu_Avg', 'Lat_acc_milieu_P2Avg', 'Lat_acc_queue_Max', 'Lat_acc_queue_Max_Pos', 'Lat_acc_queue_Max_Pos_Moy', 'Lat_acc_queue_Avg', 'Lat_acc_queue_P2Avg', 'Vert_acc_tete_Max', 'Vert_acc_tete_Max_Pos', 'Vert_acc_tete_Max_Pos_Moy', 'Vert_acc_tete_Avg', 'Vert_acc_tete_P2Avg', 'Vert_acc_milieu_Max', 'Vert_acc_milieu_Max_Pos', 'Vert_acc_milieu_Max_Pos_Moy', 'Vert_acc_milieu_Avg', 'Vert_acc_milieu_P2Avg', 'Vert_acc_queue_Max', 'Vert_acc_queue_Max_Pos', 'Vert_acc_queue_Max_Pos_Moy', 'Vert_acc_queue_Avg', 'Vert_acc_queue_P2Avg']\n"
     ]
    }
   ],
   "source": [
    "df.drop(remove_list, axis=1, inplace=True)\n",
    "print(df.columns.tolist())"
   ]
  },
  {
   "cell_type": "code",
   "execution_count": 64,
   "metadata": {
    "scrolled": true
   },
   "outputs": [
    {
     "data": {
      "text/plain": [
       "(100000, 42)"
      ]
     },
     "execution_count": 64,
     "metadata": {},
     "output_type": "execute_result"
    }
   ],
   "source": [
    "df.shape"
   ]
  },
  {
   "cell_type": "code",
   "execution_count": 65,
   "metadata": {},
   "outputs": [],
   "source": [
    "# More columns and rows filtering can be done here, in the original data there are others\n",
    "df[\"Lane\"] = df.apply(lambda x: 'V1' if 'V1' in x[\"Lane\"] else 'V2', axis=1)"
   ]
  },
  {
   "cell_type": "code",
   "execution_count": 66,
   "metadata": {
    "scrolled": false
   },
   "outputs": [
    {
     "name": "stdout",
     "output_type": "stream",
     "text": [
      "Index([], dtype='object')\n"
     ]
    }
   ],
   "source": [
    "# check for null values, in this case there isn't any because it's a dummy dataset\n",
    "print(df.columns[df.isnull().any()])"
   ]
  },
  {
   "cell_type": "code",
   "execution_count": 67,
   "metadata": {},
   "outputs": [],
   "source": [
    "#Create a new column that collects every defect types that exist in the zone which will be used for stratification\n",
    "Defect_types = ['defect_1_Type', 'defect_2_Type', 'defect_3_Type', 'defect_4_Type', 'defect_5_Type']\n",
    "df[\"labels\"] = df.apply(lambda x: ','.join(x[x.index.isin(Defect_types)].index\n",
    "                                           [x[x.index.isin(Defect_types)] != 'A' ]), axis=1)"
   ]
  },
  {
   "cell_type": "markdown",
   "metadata": {},
   "source": [
    "#### Split the df into final_test_set and global_train_set using defect combination"
   ]
  },
  {
   "cell_type": "code",
   "execution_count": 68,
   "metadata": {
    "scrolled": true
   },
   "outputs": [
    {
     "data": {
      "text/plain": [
       "Series([], Name: labels, dtype: int64)"
      ]
     },
     "execution_count": 68,
     "metadata": {},
     "output_type": "execute_result"
    }
   ],
   "source": [
    "# Find row with a unique combination of types that only have one sample which will create problem during split\n",
    "df[\"labels\"].value_counts().loc[lambda x: x<2]"
   ]
  },
  {
   "cell_type": "code",
   "execution_count": 69,
   "metadata": {},
   "outputs": [],
   "source": [
    "# Get the row that have unique combination (we will add them to the test set), before dropping them from the main df\n",
    "unique_combination_ind = df[\"labels\"].value_counts().loc[lambda x: x<2].index\n",
    "unique_combination_df = df[df[\"labels\"].isin(unique_combination_ind)]\n",
    "\n",
    "#print(unique_combination_df)\n",
    "\n",
    "# drop rows with unique_combination\n",
    "#print(\"before drop: \", df.shape)\n",
    "df = df.drop(df[df[\"labels\"].isin(unique_combination_ind)].index).reset_index(drop=True)\n",
    "#print(\"after drop: \", df.shape)"
   ]
  },
  {
   "cell_type": "code",
   "execution_count": 70,
   "metadata": {},
   "outputs": [],
   "source": [
    "from sklearn.model_selection import StratifiedShuffleSplit"
   ]
  },
  {
   "cell_type": "code",
   "execution_count": 71,
   "metadata": {},
   "outputs": [],
   "source": [
    "split = StratifiedShuffleSplit(n_splits=1, test_size=0.2, random_state=42)\n",
    "# Defect_cat is 0 for without Niv or Nall, 1 for with Niv, Nall, or Both \n",
    "for train_index, test_index in split.split(df, df[\"labels\"]):\n",
    "    Global_train_set = df.loc[train_index]\n",
    "    Final_test_set_original = df.loc[test_index]"
   ]
  },
  {
   "cell_type": "code",
   "execution_count": 72,
   "metadata": {
    "scrolled": false
   },
   "outputs": [
    {
     "data": {
      "text/plain": [
       "defect_1_Type,defect_2_Type,defect_3_Type,defect_4_Type,defect_5_Type    4722\n",
       "defect_1_Type,defect_3_Type,defect_4_Type,defect_5_Type                  1589\n",
       "defect_1_Type,defect_2_Type,defect_3_Type,defect_4_Type                  1580\n",
       "defect_2_Type,defect_3_Type,defect_4_Type,defect_5_Type                  1579\n",
       "defect_1_Type,defect_2_Type,defect_3_Type,defect_5_Type                  1577\n",
       "defect_1_Type,defect_2_Type,defect_4_Type,defect_5_Type                  1576\n",
       "defect_2_Type,defect_3_Type,defect_4_Type                                 555\n",
       "defect_3_Type,defect_4_Type,defect_5_Type                                 536\n",
       "defect_1_Type,defect_3_Type,defect_5_Type                                 535\n",
       "defect_1_Type,defect_3_Type,defect_4_Type                                 534\n",
       "defect_2_Type,defect_4_Type,defect_5_Type                                 532\n",
       "defect_1_Type,defect_2_Type,defect_3_Type                                 531\n",
       "defect_1_Type,defect_4_Type,defect_5_Type                                 523\n",
       "defect_2_Type,defect_3_Type,defect_5_Type                                 522\n",
       "defect_1_Type,defect_2_Type,defect_4_Type                                 517\n",
       "defect_1_Type,defect_2_Type,defect_5_Type                                 515\n",
       "defect_4_Type,defect_5_Type                                               190\n",
       "defect_1_Type,defect_5_Type                                               183\n",
       "defect_1_Type,defect_2_Type                                               182\n",
       "defect_2_Type,defect_5_Type                                               181\n",
       "defect_3_Type,defect_5_Type                                               177\n",
       "defect_1_Type,defect_3_Type                                               175\n",
       "defect_2_Type,defect_3_Type                                               175\n",
       "defect_1_Type,defect_4_Type                                               168\n",
       "defect_2_Type,defect_4_Type                                               165\n",
       "defect_3_Type,defect_4_Type                                               164\n",
       "defect_3_Type                                                              62\n",
       "defect_2_Type                                                              61\n",
       "defect_5_Type                                                              61\n",
       "defect_4_Type                                                              59\n",
       "defect_1_Type                                                              54\n",
       "                                                                           20\n",
       "Name: labels, dtype: int64"
      ]
     },
     "execution_count": 72,
     "metadata": {},
     "output_type": "execute_result"
    }
   ],
   "source": [
    "# Add the unique combination rows to the Final_test_set\n",
    "Final_test_set_original = pd.concat([Final_test_set_original, unique_combination_df], ignore_index=True)\n",
    "\n",
    "Final_test_set_original[\"labels\"].value_counts()"
   ]
  },
  {
   "cell_type": "code",
   "execution_count": 73,
   "metadata": {},
   "outputs": [],
   "source": [
    "# Drop the labels colmun from test and train sets\n",
    "Global_train_set = Global_train_set.drop(\"labels\", axis=1)\n",
    "Final_test_set_original = Final_test_set_original.drop(\"labels\", axis=1)"
   ]
  },
  {
   "cell_type": "code",
   "execution_count": 74,
   "metadata": {},
   "outputs": [
    {
     "data": {
      "text/html": [
       "<div>\n",
       "<style scoped>\n",
       "    .dataframe tbody tr th:only-of-type {\n",
       "        vertical-align: middle;\n",
       "    }\n",
       "\n",
       "    .dataframe tbody tr th {\n",
       "        vertical-align: top;\n",
       "    }\n",
       "\n",
       "    .dataframe thead th {\n",
       "        text-align: right;\n",
       "    }\n",
       "</style>\n",
       "<table border=\"1\" class=\"dataframe\">\n",
       "  <thead>\n",
       "    <tr style=\"text-align: right;\">\n",
       "      <th></th>\n",
       "      <th>defect_1_Type</th>\n",
       "      <th>defect_2_Type</th>\n",
       "      <th>defect_3_Type</th>\n",
       "      <th>defect_4_Type</th>\n",
       "      <th>defect_5_Type</th>\n",
       "      <th>Reference</th>\n",
       "      <th>Lane</th>\n",
       "      <th>TailleZone</th>\n",
       "      <th>Courbure</th>\n",
       "      <th>CourbureVert</th>\n",
       "      <th>...</th>\n",
       "      <th>Vert_acc_milieu_Max</th>\n",
       "      <th>Vert_acc_milieu_Max_Pos</th>\n",
       "      <th>Vert_acc_milieu_Max_Pos_Moy</th>\n",
       "      <th>Vert_acc_milieu_Avg</th>\n",
       "      <th>Vert_acc_milieu_P2Avg</th>\n",
       "      <th>Vert_acc_queue_Max</th>\n",
       "      <th>Vert_acc_queue_Max_Pos</th>\n",
       "      <th>Vert_acc_queue_Max_Pos_Moy</th>\n",
       "      <th>Vert_acc_queue_Avg</th>\n",
       "      <th>Vert_acc_queue_P2Avg</th>\n",
       "    </tr>\n",
       "  </thead>\n",
       "  <tbody>\n",
       "    <tr>\n",
       "      <th>73359</th>\n",
       "      <td>A</td>\n",
       "      <td>C</td>\n",
       "      <td>A</td>\n",
       "      <td>A</td>\n",
       "      <td>B</td>\n",
       "      <td>9</td>\n",
       "      <td>V1</td>\n",
       "      <td>76</td>\n",
       "      <td>0.799833</td>\n",
       "      <td>0.933377</td>\n",
       "      <td>...</td>\n",
       "      <td>0.244408</td>\n",
       "      <td>41.503053</td>\n",
       "      <td>9.933128</td>\n",
       "      <td>0.728583</td>\n",
       "      <td>0.275063</td>\n",
       "      <td>0.043016</td>\n",
       "      <td>55.087574</td>\n",
       "      <td>75.829495</td>\n",
       "      <td>0.143132</td>\n",
       "      <td>0.807487</td>\n",
       "    </tr>\n",
       "    <tr>\n",
       "      <th>45395</th>\n",
       "      <td>D</td>\n",
       "      <td>A</td>\n",
       "      <td>A</td>\n",
       "      <td>B</td>\n",
       "      <td>B</td>\n",
       "      <td>0</td>\n",
       "      <td>V2</td>\n",
       "      <td>58</td>\n",
       "      <td>0.798911</td>\n",
       "      <td>0.378994</td>\n",
       "      <td>...</td>\n",
       "      <td>0.958577</td>\n",
       "      <td>53.671102</td>\n",
       "      <td>33.022382</td>\n",
       "      <td>0.617092</td>\n",
       "      <td>0.067378</td>\n",
       "      <td>0.600106</td>\n",
       "      <td>84.545285</td>\n",
       "      <td>26.552183</td>\n",
       "      <td>0.917799</td>\n",
       "      <td>0.692019</td>\n",
       "    </tr>\n",
       "    <tr>\n",
       "      <th>55080</th>\n",
       "      <td>C</td>\n",
       "      <td>D</td>\n",
       "      <td>B</td>\n",
       "      <td>A</td>\n",
       "      <td>B</td>\n",
       "      <td>4</td>\n",
       "      <td>V1</td>\n",
       "      <td>83</td>\n",
       "      <td>0.217011</td>\n",
       "      <td>0.904627</td>\n",
       "      <td>...</td>\n",
       "      <td>0.231882</td>\n",
       "      <td>0.623359</td>\n",
       "      <td>95.938244</td>\n",
       "      <td>0.282671</td>\n",
       "      <td>0.853888</td>\n",
       "      <td>0.214784</td>\n",
       "      <td>69.052208</td>\n",
       "      <td>31.783707</td>\n",
       "      <td>0.636742</td>\n",
       "      <td>0.048684</td>\n",
       "    </tr>\n",
       "    <tr>\n",
       "      <th>69840</th>\n",
       "      <td>D</td>\n",
       "      <td>C</td>\n",
       "      <td>C</td>\n",
       "      <td>A</td>\n",
       "      <td>C</td>\n",
       "      <td>5</td>\n",
       "      <td>V1</td>\n",
       "      <td>5</td>\n",
       "      <td>0.211490</td>\n",
       "      <td>0.890384</td>\n",
       "      <td>...</td>\n",
       "      <td>0.598559</td>\n",
       "      <td>24.159902</td>\n",
       "      <td>69.770881</td>\n",
       "      <td>0.131832</td>\n",
       "      <td>0.900762</td>\n",
       "      <td>0.734740</td>\n",
       "      <td>44.837246</td>\n",
       "      <td>79.489168</td>\n",
       "      <td>0.380203</td>\n",
       "      <td>0.101985</td>\n",
       "    </tr>\n",
       "    <tr>\n",
       "      <th>85155</th>\n",
       "      <td>D</td>\n",
       "      <td>D</td>\n",
       "      <td>A</td>\n",
       "      <td>D</td>\n",
       "      <td>D</td>\n",
       "      <td>9</td>\n",
       "      <td>V1</td>\n",
       "      <td>79</td>\n",
       "      <td>0.385855</td>\n",
       "      <td>0.580778</td>\n",
       "      <td>...</td>\n",
       "      <td>0.664219</td>\n",
       "      <td>85.380653</td>\n",
       "      <td>85.876405</td>\n",
       "      <td>0.462265</td>\n",
       "      <td>0.264591</td>\n",
       "      <td>0.989190</td>\n",
       "      <td>40.553070</td>\n",
       "      <td>36.212798</td>\n",
       "      <td>0.765132</td>\n",
       "      <td>0.459727</td>\n",
       "    </tr>\n",
       "  </tbody>\n",
       "</table>\n",
       "<p>5 rows × 42 columns</p>\n",
       "</div>"
      ],
      "text/plain": [
       "      defect_1_Type defect_2_Type defect_3_Type defect_4_Type defect_5_Type  \\\n",
       "73359             A             C             A             A             B   \n",
       "45395             D             A             A             B             B   \n",
       "55080             C             D             B             A             B   \n",
       "69840             D             C             C             A             C   \n",
       "85155             D             D             A             D             D   \n",
       "\n",
       "       Reference Lane  TailleZone  Courbure  CourbureVert  ...  \\\n",
       "73359          9   V1          76  0.799833      0.933377  ...   \n",
       "45395          0   V2          58  0.798911      0.378994  ...   \n",
       "55080          4   V1          83  0.217011      0.904627  ...   \n",
       "69840          5   V1           5  0.211490      0.890384  ...   \n",
       "85155          9   V1          79  0.385855      0.580778  ...   \n",
       "\n",
       "       Vert_acc_milieu_Max Vert_acc_milieu_Max_Pos  \\\n",
       "73359             0.244408               41.503053   \n",
       "45395             0.958577               53.671102   \n",
       "55080             0.231882                0.623359   \n",
       "69840             0.598559               24.159902   \n",
       "85155             0.664219               85.380653   \n",
       "\n",
       "       Vert_acc_milieu_Max_Pos_Moy  Vert_acc_milieu_Avg  \\\n",
       "73359                     9.933128             0.728583   \n",
       "45395                    33.022382             0.617092   \n",
       "55080                    95.938244             0.282671   \n",
       "69840                    69.770881             0.131832   \n",
       "85155                    85.876405             0.462265   \n",
       "\n",
       "       Vert_acc_milieu_P2Avg  Vert_acc_queue_Max  Vert_acc_queue_Max_Pos  \\\n",
       "73359               0.275063            0.043016               55.087574   \n",
       "45395               0.067378            0.600106               84.545285   \n",
       "55080               0.853888            0.214784               69.052208   \n",
       "69840               0.900762            0.734740               44.837246   \n",
       "85155               0.264591            0.989190               40.553070   \n",
       "\n",
       "       Vert_acc_queue_Max_Pos_Moy  Vert_acc_queue_Avg  Vert_acc_queue_P2Avg  \n",
       "73359                   75.829495            0.143132              0.807487  \n",
       "45395                   26.552183            0.917799              0.692019  \n",
       "55080                   31.783707            0.636742              0.048684  \n",
       "69840                   79.489168            0.380203              0.101985  \n",
       "85155                   36.212798            0.765132              0.459727  \n",
       "\n",
       "[5 rows x 42 columns]"
      ]
     },
     "execution_count": 74,
     "metadata": {},
     "output_type": "execute_result"
    }
   ],
   "source": [
    "Global_train_set.head()"
   ]
  },
  {
   "cell_type": "markdown",
   "metadata": {},
   "source": [
    "#### End final test set split"
   ]
  },
  {
   "cell_type": "markdown",
   "metadata": {},
   "source": [
    "# Classifier 2-A training"
   ]
  },
  {
   "cell_type": "code",
   "execution_count": 75,
   "metadata": {},
   "outputs": [],
   "source": [
    "df = Global_train_set.copy()"
   ]
  },
  {
   "cell_type": "code",
   "execution_count": 76,
   "metadata": {},
   "outputs": [],
   "source": [
    "# Create the 'long_defect_cat' column where 0 for defect_4 and defect_5 are 'A', 1 for defect_4, defect_5, or Both being others\n",
    "df[\"long_defect_cat\"] = df.apply(lambda x: 0 if x['defect_4_Type'] == 'A' and x['defect_5_Type'] == 'A' else 1, axis=1)\n",
    "#df[['Niv_Type','Nall_Type',\"long_defect_cat\"]]"
   ]
  },
  {
   "cell_type": "code",
   "execution_count": 77,
   "metadata": {},
   "outputs": [
    {
     "data": {
      "text/plain": [
       "1    74952\n",
       "0     5048\n",
       "Name: long_defect_cat, dtype: int64"
      ]
     },
     "execution_count": 77,
     "metadata": {},
     "output_type": "execute_result"
    }
   ],
   "source": [
    "df[\"long_defect_cat\"].value_counts()"
   ]
  },
  {
   "cell_type": "code",
   "execution_count": 20,
   "metadata": {
    "scrolled": true
   },
   "outputs": [
    {
     "name": "stdout",
     "output_type": "stream",
     "text": [
      "['Reference', 'Lane', 'TailleZone', 'Courbure', 'CourbureVert', 'Vitesse', 'SensMarche', 'Lat_acc_tete_Max', 'Lat_acc_tete_Max_Pos', 'Lat_acc_tete_Max_Pos_Moy', 'Lat_acc_tete_Avg', 'Lat_acc_tete_P2Avg', 'Lat_acc_milieu_Max', 'Lat_acc_milieu_Max_Pos', 'Lat_acc_milieu_Max_Pos_Moy', 'Lat_acc_milieu_Avg', 'Lat_acc_milieu_P2Avg', 'Lat_acc_queue_Max', 'Lat_acc_queue_Max_Pos', 'Lat_acc_queue_Max_Pos_Moy', 'Lat_acc_queue_Avg', 'Lat_acc_queue_P2Avg', 'Vert_acc_tete_Max', 'Vert_acc_tete_Max_Pos', 'Vert_acc_tete_Max_Pos_Moy', 'Vert_acc_tete_Avg', 'Vert_acc_tete_P2Avg', 'Vert_acc_milieu_Max', 'Vert_acc_milieu_Max_Pos', 'Vert_acc_milieu_Max_Pos_Moy', 'Vert_acc_milieu_Avg', 'Vert_acc_milieu_P2Avg', 'Vert_acc_queue_Max', 'Vert_acc_queue_Max_Pos', 'Vert_acc_queue_Max_Pos_Moy', 'Vert_acc_queue_Avg', 'Vert_acc_queue_P2Avg', 'long_defect_cat']\n"
     ]
    }
   ],
   "source": [
    "# Drop all '_type' columns and AB_tete and AC_tete\n",
    "df.drop(['defect_1_Type', 'defect_2_Type', 'defect_3_Type', 'defect_4_Type', 'defect_5_Type']\n",
    "        , axis=1, inplace=True)\n",
    "print(df.columns.tolist())"
   ]
  },
  {
   "cell_type": "code",
   "execution_count": 21,
   "metadata": {},
   "outputs": [
    {
     "data": {
      "text/html": [
       "<div>\n",
       "<style scoped>\n",
       "    .dataframe tbody tr th:only-of-type {\n",
       "        vertical-align: middle;\n",
       "    }\n",
       "\n",
       "    .dataframe tbody tr th {\n",
       "        vertical-align: top;\n",
       "    }\n",
       "\n",
       "    .dataframe thead th {\n",
       "        text-align: right;\n",
       "    }\n",
       "</style>\n",
       "<table border=\"1\" class=\"dataframe\">\n",
       "  <thead>\n",
       "    <tr style=\"text-align: right;\">\n",
       "      <th></th>\n",
       "      <th>Lane</th>\n",
       "      <th>SensMarche</th>\n",
       "    </tr>\n",
       "  </thead>\n",
       "  <tbody>\n",
       "    <tr>\n",
       "      <th>80687</th>\n",
       "      <td>V1</td>\n",
       "      <td>Forward</td>\n",
       "    </tr>\n",
       "    <tr>\n",
       "      <th>27365</th>\n",
       "      <td>V1</td>\n",
       "      <td>Backward</td>\n",
       "    </tr>\n",
       "    <tr>\n",
       "      <th>86529</th>\n",
       "      <td>V1</td>\n",
       "      <td>Forward</td>\n",
       "    </tr>\n",
       "    <tr>\n",
       "      <th>58012</th>\n",
       "      <td>V2</td>\n",
       "      <td>Backward</td>\n",
       "    </tr>\n",
       "    <tr>\n",
       "      <th>42480</th>\n",
       "      <td>V2</td>\n",
       "      <td>Backward</td>\n",
       "    </tr>\n",
       "  </tbody>\n",
       "</table>\n",
       "</div>"
      ],
      "text/plain": [
       "      Lane SensMarche\n",
       "80687   V1    Forward\n",
       "27365   V1   Backward\n",
       "86529   V1    Forward\n",
       "58012   V2   Backward\n",
       "42480   V2   Backward"
      ]
     },
     "execution_count": 21,
     "metadata": {},
     "output_type": "execute_result"
    }
   ],
   "source": [
    "# Find if there is any column that is not numeric \n",
    "df_cat = df.select_dtypes(exclude=[np.number])\n",
    "df_cat.head()"
   ]
  },
  {
   "cell_type": "code",
   "execution_count": 22,
   "metadata": {},
   "outputs": [
    {
     "data": {
      "text/plain": [
       "Reference    category\n",
       "dtype: object"
      ]
     },
     "execution_count": 22,
     "metadata": {},
     "output_type": "execute_result"
    }
   ],
   "source": [
    "# Add categorical columns that are number manually can convert them to categorical type\n",
    "other_cat_col = ['Reference']\n",
    "df[other_cat_col] = df[other_cat_col].astype(\"category\")\n",
    "df[other_cat_col].dtypes"
   ]
  },
  {
   "cell_type": "code",
   "execution_count": 23,
   "metadata": {},
   "outputs": [],
   "source": [
    "from sklearn.preprocessing import OrdinalEncoder\n",
    "ordinal_encoder = OrdinalEncoder()"
   ]
  },
  {
   "cell_type": "code",
   "execution_count": 24,
   "metadata": {},
   "outputs": [],
   "source": [
    "df_cat_encoded = ordinal_encoder.fit_transform(df_cat)\n",
    "#print(df_cat_encoded)\n",
    "\n",
    "df[df_cat.columns.tolist()] = df_cat_encoded\n",
    "df[df_cat.columns.tolist()] = df[df_cat.columns.tolist()].astype(\"category\")\n",
    "#df[df_cat.columns.tolist()].value_counts()"
   ]
  },
  {
   "cell_type": "markdown",
   "metadata": {},
   "source": [
    "end of step 1."
   ]
  },
  {
   "cell_type": "markdown",
   "metadata": {},
   "source": [
    "### 2. Data Visualisation on train set"
   ]
  },
  {
   "cell_type": "markdown",
   "metadata": {},
   "source": [
    "This is a step to see the influences of each feature (or representative of a feature) on labels. The insight acquired in this step can be used for feature selection. However, we are uisng randomly generated dataset and won't be seeing anything so we skip this part. "
   ]
  },
  {
   "cell_type": "markdown",
   "metadata": {},
   "source": [
    "### 4. Oversampling the train set"
   ]
  },
  {
   "cell_type": "code",
   "execution_count": 25,
   "metadata": {},
   "outputs": [
    {
     "data": {
      "text/plain": [
       "1    44816\n",
       "0    35184\n",
       "Name: long_defect_cat, dtype: int64"
      ]
     },
     "execution_count": 25,
     "metadata": {},
     "output_type": "execute_result"
    }
   ],
   "source": [
    "y_train = df[\"long_defect_cat\"]\n",
    "X_train = df.drop(\"long_defect_cat\", axis=1)\n",
    "y_train.value_counts()"
   ]
  },
  {
   "cell_type": "code",
   "execution_count": 26,
   "metadata": {},
   "outputs": [
    {
     "data": {
      "text/plain": [
       "1    0.5602\n",
       "0    0.4398\n",
       "Name: long_defect_cat, dtype: float64"
      ]
     },
     "execution_count": 26,
     "metadata": {},
     "output_type": "execute_result"
    }
   ],
   "source": [
    "#We check the ratio of the labels\n",
    "df[\"long_defect_cat\"].value_counts() / len(df)"
   ]
  },
  {
   "cell_type": "markdown",
   "metadata": {},
   "source": [
    "We want more class 0 so use oversampling to make it 50:50"
   ]
  },
  {
   "cell_type": "code",
   "execution_count": 27,
   "metadata": {},
   "outputs": [
    {
     "name": "stdout",
     "output_type": "stream",
     "text": [
      "Before oversampling Counter({1: 44816, 0: 35184})\n"
     ]
    }
   ],
   "source": [
    "from collections import Counter\n",
    "counter = Counter(y_train)\n",
    "print('Before oversampling', counter)"
   ]
  },
  {
   "cell_type": "code",
   "execution_count": 30,
   "metadata": {},
   "outputs": [],
   "source": [
    "oversampling = False"
   ]
  },
  {
   "cell_type": "code",
   "execution_count": 31,
   "metadata": {},
   "outputs": [],
   "source": [
    "if oversampling:\n",
    "    from imblearn.over_sampling import ADASYN\n",
    "    ada = ADASYN(sampling_strategy=1, random_state = 42) # sampling_strategy = float only works for Binary \n",
    "    \n",
    "    X_train_pre_transf, y_train_pre_transf = ada.fit_resample(X_train, y_train)\n",
    "    counter = Counter(y_train_pre_transf)\n",
    "    print('After', counter)\n",
    "else:\n",
    "    X_train_pre_transf = X_train\n",
    "    y_train_pre_transf = y_train"
   ]
  },
  {
   "cell_type": "code",
   "execution_count": 32,
   "metadata": {},
   "outputs": [
    {
     "data": {
      "text/html": [
       "<div>\n",
       "<style scoped>\n",
       "    .dataframe tbody tr th:only-of-type {\n",
       "        vertical-align: middle;\n",
       "    }\n",
       "\n",
       "    .dataframe tbody tr th {\n",
       "        vertical-align: top;\n",
       "    }\n",
       "\n",
       "    .dataframe thead th {\n",
       "        text-align: right;\n",
       "    }\n",
       "</style>\n",
       "<table border=\"1\" class=\"dataframe\">\n",
       "  <thead>\n",
       "    <tr style=\"text-align: right;\">\n",
       "      <th></th>\n",
       "      <th>Reference</th>\n",
       "      <th>Lane</th>\n",
       "      <th>TailleZone</th>\n",
       "      <th>Courbure</th>\n",
       "      <th>CourbureVert</th>\n",
       "      <th>Vitesse</th>\n",
       "      <th>SensMarche</th>\n",
       "      <th>Lat_acc_tete_Max</th>\n",
       "      <th>Lat_acc_tete_Max_Pos</th>\n",
       "      <th>Lat_acc_tete_Max_Pos_Moy</th>\n",
       "      <th>...</th>\n",
       "      <th>Vert_acc_milieu_Max</th>\n",
       "      <th>Vert_acc_milieu_Max_Pos</th>\n",
       "      <th>Vert_acc_milieu_Max_Pos_Moy</th>\n",
       "      <th>Vert_acc_milieu_Avg</th>\n",
       "      <th>Vert_acc_milieu_P2Avg</th>\n",
       "      <th>Vert_acc_queue_Max</th>\n",
       "      <th>Vert_acc_queue_Max_Pos</th>\n",
       "      <th>Vert_acc_queue_Max_Pos_Moy</th>\n",
       "      <th>Vert_acc_queue_Avg</th>\n",
       "      <th>Vert_acc_queue_P2Avg</th>\n",
       "    </tr>\n",
       "  </thead>\n",
       "  <tbody>\n",
       "    <tr>\n",
       "      <th>80687</th>\n",
       "      <td>6</td>\n",
       "      <td>0.0</td>\n",
       "      <td>71</td>\n",
       "      <td>0.545579</td>\n",
       "      <td>0.149617</td>\n",
       "      <td>93.828795</td>\n",
       "      <td>1.0</td>\n",
       "      <td>0.444173</td>\n",
       "      <td>39.680719</td>\n",
       "      <td>24.347697</td>\n",
       "      <td>...</td>\n",
       "      <td>0.839868</td>\n",
       "      <td>30.245750</td>\n",
       "      <td>90.768567</td>\n",
       "      <td>0.160467</td>\n",
       "      <td>0.868371</td>\n",
       "      <td>0.503826</td>\n",
       "      <td>11.154374</td>\n",
       "      <td>36.344808</td>\n",
       "      <td>0.064410</td>\n",
       "      <td>0.597411</td>\n",
       "    </tr>\n",
       "    <tr>\n",
       "      <th>27365</th>\n",
       "      <td>1</td>\n",
       "      <td>0.0</td>\n",
       "      <td>91</td>\n",
       "      <td>0.137646</td>\n",
       "      <td>0.265901</td>\n",
       "      <td>46.940198</td>\n",
       "      <td>0.0</td>\n",
       "      <td>0.205021</td>\n",
       "      <td>57.878365</td>\n",
       "      <td>7.951787</td>\n",
       "      <td>...</td>\n",
       "      <td>0.480951</td>\n",
       "      <td>68.829846</td>\n",
       "      <td>92.397598</td>\n",
       "      <td>0.778948</td>\n",
       "      <td>0.093602</td>\n",
       "      <td>0.229224</td>\n",
       "      <td>59.502266</td>\n",
       "      <td>89.256683</td>\n",
       "      <td>0.961014</td>\n",
       "      <td>0.012507</td>\n",
       "    </tr>\n",
       "    <tr>\n",
       "      <th>86529</th>\n",
       "      <td>5</td>\n",
       "      <td>0.0</td>\n",
       "      <td>33</td>\n",
       "      <td>0.565575</td>\n",
       "      <td>0.177338</td>\n",
       "      <td>40.113953</td>\n",
       "      <td>1.0</td>\n",
       "      <td>0.916074</td>\n",
       "      <td>66.013712</td>\n",
       "      <td>58.242729</td>\n",
       "      <td>...</td>\n",
       "      <td>0.084005</td>\n",
       "      <td>62.962338</td>\n",
       "      <td>59.741055</td>\n",
       "      <td>0.127057</td>\n",
       "      <td>0.571665</td>\n",
       "      <td>0.365762</td>\n",
       "      <td>59.653631</td>\n",
       "      <td>28.641716</td>\n",
       "      <td>0.669289</td>\n",
       "      <td>0.144179</td>\n",
       "    </tr>\n",
       "    <tr>\n",
       "      <th>58012</th>\n",
       "      <td>0</td>\n",
       "      <td>1.0</td>\n",
       "      <td>55</td>\n",
       "      <td>0.150884</td>\n",
       "      <td>0.770660</td>\n",
       "      <td>88.375261</td>\n",
       "      <td>0.0</td>\n",
       "      <td>0.609789</td>\n",
       "      <td>22.482080</td>\n",
       "      <td>8.954306</td>\n",
       "      <td>...</td>\n",
       "      <td>0.278006</td>\n",
       "      <td>4.078152</td>\n",
       "      <td>79.692488</td>\n",
       "      <td>0.787945</td>\n",
       "      <td>0.980268</td>\n",
       "      <td>0.544521</td>\n",
       "      <td>61.102506</td>\n",
       "      <td>43.802840</td>\n",
       "      <td>0.707802</td>\n",
       "      <td>0.973064</td>\n",
       "    </tr>\n",
       "    <tr>\n",
       "      <th>42480</th>\n",
       "      <td>5</td>\n",
       "      <td>1.0</td>\n",
       "      <td>10</td>\n",
       "      <td>0.479249</td>\n",
       "      <td>0.782076</td>\n",
       "      <td>49.082060</td>\n",
       "      <td>0.0</td>\n",
       "      <td>0.894426</td>\n",
       "      <td>90.997825</td>\n",
       "      <td>31.263359</td>\n",
       "      <td>...</td>\n",
       "      <td>0.639082</td>\n",
       "      <td>23.667062</td>\n",
       "      <td>60.729341</td>\n",
       "      <td>0.026686</td>\n",
       "      <td>0.496335</td>\n",
       "      <td>0.660338</td>\n",
       "      <td>80.995904</td>\n",
       "      <td>3.592582</td>\n",
       "      <td>0.455227</td>\n",
       "      <td>0.361898</td>\n",
       "    </tr>\n",
       "  </tbody>\n",
       "</table>\n",
       "<p>5 rows × 37 columns</p>\n",
       "</div>"
      ],
      "text/plain": [
       "      Reference Lane  TailleZone  Courbure  CourbureVert    Vitesse  \\\n",
       "80687         6  0.0          71  0.545579      0.149617  93.828795   \n",
       "27365         1  0.0          91  0.137646      0.265901  46.940198   \n",
       "86529         5  0.0          33  0.565575      0.177338  40.113953   \n",
       "58012         0  1.0          55  0.150884      0.770660  88.375261   \n",
       "42480         5  1.0          10  0.479249      0.782076  49.082060   \n",
       "\n",
       "      SensMarche  Lat_acc_tete_Max  Lat_acc_tete_Max_Pos  \\\n",
       "80687        1.0          0.444173             39.680719   \n",
       "27365        0.0          0.205021             57.878365   \n",
       "86529        1.0          0.916074             66.013712   \n",
       "58012        0.0          0.609789             22.482080   \n",
       "42480        0.0          0.894426             90.997825   \n",
       "\n",
       "       Lat_acc_tete_Max_Pos_Moy  ...  Vert_acc_milieu_Max  \\\n",
       "80687                 24.347697  ...             0.839868   \n",
       "27365                  7.951787  ...             0.480951   \n",
       "86529                 58.242729  ...             0.084005   \n",
       "58012                  8.954306  ...             0.278006   \n",
       "42480                 31.263359  ...             0.639082   \n",
       "\n",
       "       Vert_acc_milieu_Max_Pos  Vert_acc_milieu_Max_Pos_Moy  \\\n",
       "80687                30.245750                    90.768567   \n",
       "27365                68.829846                    92.397598   \n",
       "86529                62.962338                    59.741055   \n",
       "58012                 4.078152                    79.692488   \n",
       "42480                23.667062                    60.729341   \n",
       "\n",
       "       Vert_acc_milieu_Avg  Vert_acc_milieu_P2Avg  Vert_acc_queue_Max  \\\n",
       "80687             0.160467               0.868371            0.503826   \n",
       "27365             0.778948               0.093602            0.229224   \n",
       "86529             0.127057               0.571665            0.365762   \n",
       "58012             0.787945               0.980268            0.544521   \n",
       "42480             0.026686               0.496335            0.660338   \n",
       "\n",
       "       Vert_acc_queue_Max_Pos  Vert_acc_queue_Max_Pos_Moy  Vert_acc_queue_Avg  \\\n",
       "80687               11.154374                   36.344808            0.064410   \n",
       "27365               59.502266                   89.256683            0.961014   \n",
       "86529               59.653631                   28.641716            0.669289   \n",
       "58012               61.102506                   43.802840            0.707802   \n",
       "42480               80.995904                    3.592582            0.455227   \n",
       "\n",
       "       Vert_acc_queue_P2Avg  \n",
       "80687              0.597411  \n",
       "27365              0.012507  \n",
       "86529              0.144179  \n",
       "58012              0.973064  \n",
       "42480              0.361898  \n",
       "\n",
       "[5 rows x 37 columns]"
      ]
     },
     "execution_count": 32,
     "metadata": {},
     "output_type": "execute_result"
    }
   ],
   "source": [
    "#print(X_train_pre_transf[df_cat.columns.tolist()].value_counts())\n",
    "X_train_pre_transf.head()"
   ]
  },
  {
   "cell_type": "markdown",
   "metadata": {},
   "source": [
    "end of step 4."
   ]
  },
  {
   "cell_type": "markdown",
   "metadata": {},
   "source": [
    "### 5. Transformation"
   ]
  },
  {
   "cell_type": "code",
   "execution_count": 33,
   "metadata": {},
   "outputs": [],
   "source": [
    "from sklearn.pipeline import Pipeline\n",
    "from sklearn.base import BaseEstimator, TransformerMixin\n",
    "from sklearn.preprocessing import StandardScaler\n",
    "from sklearn.preprocessing import OneHotEncoder\n",
    "from sklearn.compose import ColumnTransformer\n",
    "# from sklearn.impute import SimpleImputer"
   ]
  },
  {
   "cell_type": "code",
   "execution_count": 34,
   "metadata": {},
   "outputs": [],
   "source": [
    "X_train_set = X_train_pre_transf.copy()"
   ]
  },
  {
   "cell_type": "code",
   "execution_count": 35,
   "metadata": {},
   "outputs": [
    {
     "name": "stdout",
     "output_type": "stream",
     "text": [
      "['TailleZone', 'Courbure', 'CourbureVert', 'Vitesse', 'Lat_acc_tete_Max', 'Lat_acc_tete_Max_Pos', 'Lat_acc_tete_Max_Pos_Moy', 'Lat_acc_tete_Avg', 'Lat_acc_tete_P2Avg', 'Lat_acc_milieu_Max', 'Lat_acc_milieu_Max_Pos', 'Lat_acc_milieu_Max_Pos_Moy', 'Lat_acc_milieu_Avg', 'Lat_acc_milieu_P2Avg', 'Lat_acc_queue_Max', 'Lat_acc_queue_Max_Pos', 'Lat_acc_queue_Max_Pos_Moy', 'Lat_acc_queue_Avg', 'Lat_acc_queue_P2Avg', 'Vert_acc_tete_Max', 'Vert_acc_tete_Max_Pos', 'Vert_acc_tete_Max_Pos_Moy', 'Vert_acc_tete_Avg', 'Vert_acc_tete_P2Avg', 'Vert_acc_milieu_Max', 'Vert_acc_milieu_Max_Pos', 'Vert_acc_milieu_Max_Pos_Moy', 'Vert_acc_milieu_Avg', 'Vert_acc_milieu_P2Avg', 'Vert_acc_queue_Max', 'Vert_acc_queue_Max_Pos', 'Vert_acc_queue_Max_Pos_Moy', 'Vert_acc_queue_Avg', 'Vert_acc_queue_P2Avg']\n",
      "['Reference', 'Lane', 'SensMarche']\n"
     ]
    }
   ],
   "source": [
    "cat_attribs = X_train_set.select_dtypes(include='category').columns.tolist()\n",
    "#print(cat_attribs)\n",
    "\n",
    "X_train_num_lst = X_train_set.drop(cat_attribs, axis=1).columns.tolist()\n",
    "X_train_cat_lst = X_train_set[cat_attribs].columns.tolist()\n",
    "\n",
    "print(X_train_num_lst)\n",
    "print(X_train_cat_lst)"
   ]
  },
  {
   "cell_type": "code",
   "execution_count": 36,
   "metadata": {},
   "outputs": [],
   "source": [
    "# Create a transforamtion class to add, combine, fuse, extract features for the numeric PL\n",
    "# stat_feature_head_to_tail is to use only the absolute 'ab_maximum' or 'average' value of each statistical feature from head, middle, or tail measurement (and None means to keep all of them)  \n",
    "class Attrib_transformer(BaseEstimator, TransformerMixin):\n",
    "    def __init__(self, stat_feature_head_to_tail = 'ab_maximum'):\n",
    "        self.stat_feature_head_to_tail = stat_feature_head_to_tail\n",
    "    def fit(self, X, y=None):\n",
    "        return self\n",
    "    def transform(self, X, y=None):\n",
    "        if self.stat_feature_head_to_tail is not None:\n",
    "            stat_feature = ['Max', 'Max_Pos', 'Max_Pos_Moy', 'Avg', 'P2Avg']\n",
    "            acc_measurement = ['Lat_acc', 'Vert_acc']\n",
    "            \n",
    "            new_X = X.copy() # so the original df is not changed\n",
    "            # See the commnad line argument and match it to pre-defined case \n",
    "            match self.stat_feature_head_to_tail:\n",
    "                case 'ab_maximum':\n",
    "                    for stat in stat_feature:\n",
    "                        for acc in acc_measurement:\n",
    "                            # get a new column name\n",
    "                            col_name = acc + '_' + stat\n",
    "                            \n",
    "                            # create a list of all measurement location of the acceleration stat of interest\n",
    "                            acc_tete = acc + '_tete_' + stat\n",
    "                            acc_milieu = acc + '_milieu_' + stat\n",
    "                            acc_queue = acc + '_queue_' + stat\n",
    "                            all_location_list = [acc_tete, acc_milieu, acc_queue]\n",
    "                            \n",
    "                            # Get the absolute maximum value of each row, keep the sign, and put them in a new colmun \n",
    "                            row_max = X[all_location_list].abs().max(axis=1)\n",
    "                            new_X[col_name] = X[all_location_list].max(axis=1).mask(lambda x: x < row_max, -row_max)\n",
    "                            new_X = new_X.drop(all_location_list, axis=1)\n",
    "                \n",
    "                case 'average':\n",
    "                    for stat in stat_feature:\n",
    "                        for acc in acc_measurement:\n",
    "                            # get a new column name\n",
    "                            col_name = acc + '_' + stat\n",
    "                            \n",
    "                            # create a list of all measurement location of the acceleration stat of interest\n",
    "                            acc_tete = acc + '_tete_' + stat\n",
    "                            acc_milieu = acc + '_milieu_' + stat\n",
    "                            acc_queue = acc + '_queue_' + stat\n",
    "                            all_location_list = [acc_tete, acc_milieu, acc_queue]\n",
    "                            \n",
    "                            # Get the mean value of each row and put them in a new colmun \n",
    "                            new_X[col_name] = X[all_location_list].mean(axis=1)\n",
    "                            new_X = new_X.drop(all_location_list, axis=1)\n",
    "                    \n",
    "                case _:   # 'case _' is for any other input that does not match None or the above\n",
    "                    sys.exit(\"please choose from 'ab_maximum', 'average', or \\\n",
    "                    'None' for stat_feature_head_to_tail in Attrib_transformer\")\n",
    "                \n",
    "            #print(list(new_X.columns))\n",
    "            return new_X\n",
    "            \n",
    "        else:\n",
    "            return X\n"
   ]
  },
  {
   "cell_type": "code",
   "execution_count": 37,
   "metadata": {},
   "outputs": [],
   "source": [
    "# Create a transforamtion class to drop unwanted features\n",
    "class Attrib_drop(BaseEstimator, TransformerMixin):\n",
    "    def __init__(self, d_list=[], keep_only_Vert_acc=False):\n",
    "        self.d_list = d_list\n",
    "        self.keep_only_Vert_acc = keep_only_Vert_acc\n",
    "    def fit(self, X, y=None):\n",
    "        return self\n",
    "    def transform(self, X, y=None):\n",
    "        if self.keep_only_Vert_acc:\n",
    "            Vert_acc_indices = []\n",
    "            for i, col in enumerate(X.columns):\n",
    "                if 'Vert_acc' in col:\n",
    "                    Vert_acc_indices.append(i)\n",
    "            return X.iloc[:,Vert_acc_indices]\n",
    "        elif self.d_list:\n",
    "            keep_indices = []\n",
    "            for i, col in enumerate(X.columns):\n",
    "                if col not in self.d_list:\n",
    "                    keep_indices.append(i)\n",
    "            return X.iloc[:,keep_indices]\n",
    "        else:\n",
    "            return X"
   ]
  },
  {
   "cell_type": "code",
   "execution_count": 38,
   "metadata": {},
   "outputs": [],
   "source": [
    "# List of the numerical features to be dropped to manually drop columns from the df\n",
    "drop_list_num = [] # Here we can add columns that should be dropped from the df\n",
    "\n",
    "num_pl = Pipeline([\n",
    "    #('imputer', SimpleImputer(strategy=\"median\")),\n",
    "    ('attrib_transform', Attrib_transformer(stat_feature_head_to_tail='average')),\n",
    "    ('attrib_drop', Attrib_drop(keep_only_Vert_acc=False, d_list=drop_list_num)),\n",
    "    ('std_scaler', StandardScaler()),\n",
    "])\n",
    "\n",
    "#For testing num_pl\n",
    "#num_prep = num_pl.fit_transform(X_train_set[X_train_num_lst])\n",
    "#print('shape after transformation: ', num_prep.shape)\n",
    "#num_prep"
   ]
  },
  {
   "cell_type": "code",
   "execution_count": 39,
   "metadata": {},
   "outputs": [],
   "source": [
    "# List of the categorical features to be dropped to manually drop columns from the df\n",
    "drop_list_cat = []\n",
    "\n",
    "cat_pl = Pipeline([\n",
    "    #('imputer', SimpleImputer(strategy='most_frequent')),\n",
    "    ('attrib_drop', Attrib_drop()),\n",
    "    ('One_Hot', OneHotEncoder(sparse=False)),\n",
    "])\n",
    "\n",
    "# For testing cat_pl\n",
    "#cat_prep = cat_pl.fit_transform(X_train_set[X_train_cat_lst])\n",
    "#cat_prep"
   ]
  },
  {
   "cell_type": "code",
   "execution_count": 40,
   "metadata": {
    "scrolled": false
   },
   "outputs": [],
   "source": [
    "full_pl = ColumnTransformer([\n",
    "    (\"num\", num_pl, X_train_num_lst),\n",
    "    #(\"cat\", cat_pl, X_train_cat_lst),\n",
    "])\n",
    "\n",
    "X_train_prep = full_pl.fit_transform(X_train_set)"
   ]
  },
  {
   "cell_type": "code",
   "execution_count": 41,
   "metadata": {},
   "outputs": [
    {
     "name": "stdout",
     "output_type": "stream",
     "text": [
      "shape after transformation:  (80000, 14)\n"
     ]
    },
    {
     "data": {
      "text/plain": [
       "array([[ 0.74714287,  0.15609585, -1.2146623 , ..., -2.25634261,\n",
       "        -0.183172  ,  0.57936802],\n",
       "       [ 1.44010639, -1.25699011, -0.81245683, ...,  2.29711769,\n",
       "         0.65267452, -1.42797588],\n",
       "       [-0.56948781,  0.22536153, -1.11877972, ...,  0.5475842 ,\n",
       "         0.31506923, -0.36625272],\n",
       "       ...,\n",
       "       [-1.33174768, -0.72727318, -0.32301134, ...,  0.5351812 ,\n",
       "         1.38292278,  1.44849005],\n",
       "       [-1.08921045,  0.57972728,  0.16356765, ..., -0.03871022,\n",
       "        -1.02261899,  1.17500953],\n",
       "       [-0.67343234,  1.66133361,  0.05418479, ...,  0.0800896 ,\n",
       "        -0.96983168, -1.41631603]])"
      ]
     },
     "execution_count": 41,
     "metadata": {},
     "output_type": "execute_result"
    }
   ],
   "source": [
    "print('shape after transformation: ', X_train_prep.shape)\n",
    "X_train_prep"
   ]
  },
  {
   "cell_type": "markdown",
   "metadata": {},
   "source": [
    "#### 5.1 OPTIONAL: PCA for unsupervised feature selectiion"
   ]
  },
  {
   "cell_type": "code",
   "execution_count": 42,
   "metadata": {},
   "outputs": [
    {
     "name": "stdout",
     "output_type": "stream",
     "text": [
      "number of components:  13\n"
     ]
    }
   ],
   "source": [
    "use_PCA = True\n",
    "\n",
    "if use_PCA:\n",
    "    from sklearn.decomposition import PCA\n",
    "    pca = PCA(copy=True, iterated_power='auto', n_components=0.9, random_state=None,\n",
    "              svd_solver='auto', tol=0.0, whiten=False)\n",
    "    \n",
    "    X_train_prep = pca.fit_transform(X_train_prep)\n",
    "    print('number of components: ', pca.n_components_)"
   ]
  },
  {
   "cell_type": "code",
   "execution_count": 43,
   "metadata": {},
   "outputs": [
    {
     "name": "stdout",
     "output_type": "stream",
     "text": [
      "shape after transformation:  (80000, 13)\n"
     ]
    },
    {
     "data": {
      "text/plain": [
       "array([[-0.25013506,  0.50972578, -0.37162823, ...,  1.21825144,\n",
       "        -0.72550446, -0.40637333],\n",
       "       [ 1.18591016, -1.18109672, -0.0815563 , ..., -0.17202096,\n",
       "        -1.41002073, -0.46539985],\n",
       "       [ 1.22950983, -0.3763794 ,  1.21646453, ..., -0.40001149,\n",
       "         1.64986906, -0.05336951],\n",
       "       ...,\n",
       "       [ 0.09566818, -1.13042655, -0.99938084, ...,  0.30712651,\n",
       "         0.97172769,  0.76309207],\n",
       "       [ 1.98428145,  0.86166268, -0.70387023, ..., -0.94956397,\n",
       "         1.06581445,  0.62062854],\n",
       "       [ 0.97543595, -0.13952305,  0.64154604, ..., -2.04462347,\n",
       "         1.08054608, -0.95384034]])"
      ]
     },
     "execution_count": 43,
     "metadata": {},
     "output_type": "execute_result"
    }
   ],
   "source": [
    "print('shape after transformation: ', X_train_prep.shape)\n",
    "X_train_prep"
   ]
  },
  {
   "cell_type": "markdown",
   "metadata": {},
   "source": [
    "### 6. Train NN"
   ]
  },
  {
   "cell_type": "code",
   "execution_count": null,
   "metadata": {
    "scrolled": true
   },
   "outputs": [],
   "source": [
    "pip install tensorflow --user"
   ]
  },
  {
   "cell_type": "code",
   "execution_count": 44,
   "metadata": {},
   "outputs": [
    {
     "ename": "ModuleNotFoundError",
     "evalue": "No module named 'tensorflow'",
     "output_type": "error",
     "traceback": [
      "\u001b[1;31m---------------------------------------------------------------------------\u001b[0m",
      "\u001b[1;31mModuleNotFoundError\u001b[0m                       Traceback (most recent call last)",
      "Cell \u001b[1;32mIn[44], line 1\u001b[0m\n\u001b[1;32m----> 1\u001b[0m \u001b[38;5;28;01mimport\u001b[39;00m \u001b[38;5;21;01mtensorflow\u001b[39;00m \u001b[38;5;28;01mas\u001b[39;00m \u001b[38;5;21;01mtf\u001b[39;00m\n\u001b[0;32m      2\u001b[0m \u001b[38;5;28;01mfrom\u001b[39;00m \u001b[38;5;21;01mtensorflow\u001b[39;00m \u001b[38;5;28;01mimport\u001b[39;00m keras\n\u001b[0;32m      3\u001b[0m \u001b[38;5;28;01mfrom\u001b[39;00m \u001b[38;5;21;01mtensorflow\u001b[39;00m\u001b[38;5;21;01m.\u001b[39;00m\u001b[38;5;21;01mkeras\u001b[39;00m\u001b[38;5;21;01m.\u001b[39;00m\u001b[38;5;21;01mwrappers\u001b[39;00m\u001b[38;5;21;01m.\u001b[39;00m\u001b[38;5;21;01mscikit_learn\u001b[39;00m \u001b[38;5;28;01mimport\u001b[39;00m KerasClassifier\n",
      "\u001b[1;31mModuleNotFoundError\u001b[0m: No module named 'tensorflow'"
     ]
    }
   ],
   "source": [
    "import tensorflow as tf\n",
    "from tensorflow import keras\n",
    "from tensorflow.keras.wrappers.scikit_learn import KerasClassifier"
   ]
  },
  {
   "cell_type": "code",
   "execution_count": 42,
   "metadata": {},
   "outputs": [
    {
     "name": "stderr",
     "output_type": "stream",
     "text": [
      "C:\\Users\\9112325B\\AppData\\Local\\Temp\\ipykernel_10308\\3064007140.py:19: DeprecationWarning: KerasClassifier is deprecated, use Sci-Keras (https://github.com/adriangb/scikeras) instead. See https://www.adriangb.com/scikeras/stable/migration.html for help migrating.\n",
      "  model = KerasClassifier(build_fn=build_model, epochs=50, batch_size=32, verbose=0)\n"
     ]
    }
   ],
   "source": [
    "# Define a function to build the neural network model\n",
    "def build_model(n_hidden=9, n_neurons=64, lr=3e-3, rho=0.9, inputshape=X_train_prep.shape[1]):\n",
    "    model = keras.Sequential([\n",
    "        keras.layers.Dense(n_neurons, activation=\"selu\", kernel_initializer=\"lecun_normal\", input_shape=(inputshape,))\n",
    "    ])\n",
    "\n",
    "    for _ in range(n_hidden):\n",
    "        model.add(keras.layers.Dense(n_neurons, activation=\"selu\", kernel_initializer=\"lecun_normal\"))\n",
    "        model.add(keras.layers.AlphaDropout(rate=0.15))\n",
    "\n",
    "    model.add(keras.layers.Dense(1, activation=\"sigmoid\"))\n",
    "    \n",
    "    optimizer = keras.optimizers.RMSprop(learning_rate=lr, rho=rho)\n",
    "\n",
    "    model.compile(optimizer=\"adam\", loss=\"binary_crossentropy\", metrics=[\"accuracy\"])\n",
    "    return model\n",
    "\n",
    "# Create a KerasClassifier wrapper for the model\n",
    "model = KerasClassifier(build_fn=build_model, epochs=50, batch_size=32, verbose=0)"
   ]
  },
  {
   "cell_type": "code",
   "execution_count": 43,
   "metadata": {},
   "outputs": [],
   "source": [
    "from sklearn.model_selection import cross_val_score\n",
    "from sklearn.model_selection import StratifiedKFold"
   ]
  },
  {
   "cell_type": "code",
   "execution_count": 44,
   "metadata": {},
   "outputs": [
    {
     "name": "stdout",
     "output_type": "stream",
     "text": [
      "949/949 [==============================] - 3s 3ms/step\n",
      "949/949 [==============================] - 3s 3ms/step\n",
      "949/949 [==============================] - 2s 2ms/step\n",
      "949/949 [==============================] - 2s 2ms/step\n",
      "949/949 [==============================] - 2s 2ms/step\n",
      "Cross-Validation Scores:\n",
      "Fold 1: 0.7091885480842092\n",
      "Fold 2: 0.6887622310809475\n",
      "Fold 3: 0.7125160610153857\n",
      "Fold 4: 0.6990313653136532\n",
      "Fold 5: 0.7129678439641539\n",
      "Mean Accuracy: 0.7044932098916699\n",
      "Standard Deviation: 0.009333029562751219\n"
     ]
    }
   ],
   "source": [
    "# Perform cross-validation\n",
    "cv = StratifiedKFold(n_splits=5, shuffle=True, random_state=42)\n",
    "scores = cross_val_score(model, X_train_prep, y_train_pre_transf, cv=cv, scoring='accuracy')\n",
    "\n",
    "# Print cross-validation scores\n",
    "print(\"Cross-Validation Scores:\")\n",
    "for i, score in enumerate(scores):\n",
    "    print(f\"Fold {i+1}: {score}\")\n",
    "\n",
    "# Calculate mean and standard deviation of cross-validation scores\n",
    "mean_score = np.mean(scores)\n",
    "std_score = np.std(scores)\n",
    "print(f\"Mean Accuracy: {mean_score}\")\n",
    "print(f\"Standard Deviation: {std_score}\")"
   ]
  },
  {
   "cell_type": "code",
   "execution_count": 45,
   "metadata": {},
   "outputs": [
    {
     "data": {
      "text/plain": [
       "<keras.callbacks.History at 0x16e7833b760>"
      ]
     },
     "execution_count": 45,
     "metadata": {},
     "output_type": "execute_result"
    }
   ],
   "source": [
    "# Fit the model with the complete training set\n",
    "model.fit(X_train_prep, y_train_pre_transf, epochs=200, batch_size=32)"
   ]
  },
  {
   "cell_type": "markdown",
   "metadata": {},
   "source": [
    " # Classifier 2-B"
   ]
  },
  {
   "cell_type": "markdown",
   "metadata": {},
   "source": [
    "### 1. Data Preparation"
   ]
  },
  {
   "cell_type": "code",
   "execution_count": 46,
   "metadata": {},
   "outputs": [],
   "source": [
    "df = Global_train_set.copy()"
   ]
  },
  {
   "cell_type": "code",
   "execution_count": 47,
   "metadata": {},
   "outputs": [],
   "source": [
    "df = df.drop(df[(df['defect_4_Type'] == 'A') or (df['defect_5_Type'] == 'A')].index).reset_index(drop=True)"
   ]
  },
  {
   "cell_type": "code",
   "execution_count": 48,
   "metadata": {},
   "outputs": [],
   "source": [
    "df[\"other_defect_cat\"] = df.apply(lambda x: 0 if \n",
    "                                  x['defect_1_Type'] == 'A' and \n",
    "                                  x['defect_2_Type'] == 'A' and\n",
    "                                  x['defect_3_Type'] == 'A'\n",
    "                                  else 1, axis=1)"
   ]
  },
  {
   "cell_type": "code",
   "execution_count": 49,
   "metadata": {
    "scrolled": true
   },
   "outputs": [
    {
     "name": "stdout",
     "output_type": "stream",
     "text": [
      "['Reference', 'Lane', 'TailleZone', 'Courbure', 'CourbureVert', 'Vitesse', 'SensMarche', 'Lat_acc_tete_Max', 'Lat_acc_tete_Max_Pos', 'Lat_acc_tete_Max_Pos_Moy', 'Lat_acc_tete_Avg', 'Lat_acc_tete_P2Avg', 'Lat_acc_milieu_Max', 'Lat_acc_milieu_Max_Pos', 'Lat_acc_milieu_Max_Pos_Moy', 'Lat_acc_milieu_Avg', 'Lat_acc_milieu_P2Avg', 'Lat_acc_queue_Max', 'Lat_acc_queue_Max_Pos', 'Lat_acc_queue_Max_Pos_Moy', 'Lat_acc_queue_Avg', 'Lat_acc_queue_P2Avg', 'Vert_acc_tete_Max', 'Vert_acc_tete_Max_Pos', 'Vert_acc_tete_Max_Pos_Moy', 'Vert_acc_tete_Avg', 'Vert_acc_tete_P2Avg', 'Vert_acc_milieu_Max', 'Vert_acc_milieu_Max_Pos', 'Vert_acc_milieu_Max_Pos_Moy', 'Vert_acc_milieu_Avg', 'Vert_acc_milieu_P2Avg', 'Vert_acc_queue_Max', 'Vert_acc_queue_Max_Pos', 'Vert_acc_queue_Max_Pos_Moy', 'Vert_acc_queue_Avg', 'Vert_acc_queue_P2Avg', 'other_defect_cat']\n"
     ]
    }
   ],
   "source": [
    "# Drop all '_type' columns and AB_tete and AC_tete\n",
    "df.drop(['defect_1_Type', 'defect_2_Type', 'defect_3_Type', 'defect_4_Type', 'defect_5_Type']\n",
    "        , axis=1, inplace=True)\n",
    "print(df.columns.tolist())"
   ]
  },
  {
   "cell_type": "code",
   "execution_count": 50,
   "metadata": {},
   "outputs": [],
   "source": [
    "# Find if there is any column that is not numeric \n",
    "df_cat = df.select_dtypes(exclude=[np.number])\n",
    "#df_cat.head()\n",
    "\n",
    "# Add categorical columns that are number manually can convert them to categorical type\n",
    "other_cat_col = ['Reference']\n",
    "df[other_cat_col] = df[other_cat_col].astype(\"category\")\n",
    "#df[other_cat_col].dtypes"
   ]
  },
  {
   "cell_type": "code",
   "execution_count": 51,
   "metadata": {},
   "outputs": [],
   "source": [
    "df_cat_encoded = ordinal_encoder.fit_transform(df_cat)\n",
    "#print(df_cat_encoded)\n",
    "\n",
    "df[df_cat.columns.tolist()] = df_cat_encoded\n",
    "df[df_cat.columns.tolist()] = df[df_cat.columns.tolist()].astype(\"category\")\n",
    "#df[df_cat.columns.tolist()].value_counts()"
   ]
  },
  {
   "cell_type": "code",
   "execution_count": 52,
   "metadata": {},
   "outputs": [
    {
     "data": {
      "text/html": [
       "<div>\n",
       "<style scoped>\n",
       "    .dataframe tbody tr th:only-of-type {\n",
       "        vertical-align: middle;\n",
       "    }\n",
       "\n",
       "    .dataframe tbody tr th {\n",
       "        vertical-align: top;\n",
       "    }\n",
       "\n",
       "    .dataframe thead th {\n",
       "        text-align: right;\n",
       "    }\n",
       "</style>\n",
       "<table border=\"1\" class=\"dataframe\">\n",
       "  <thead>\n",
       "    <tr style=\"text-align: right;\">\n",
       "      <th></th>\n",
       "      <th>Reference</th>\n",
       "      <th>Lane</th>\n",
       "      <th>TailleZone</th>\n",
       "      <th>Courbure</th>\n",
       "      <th>CourbureVert</th>\n",
       "      <th>Vitesse</th>\n",
       "      <th>SensMarche</th>\n",
       "      <th>Lat_acc_tete_Max</th>\n",
       "      <th>Lat_acc_tete_Max_Pos</th>\n",
       "      <th>Lat_acc_tete_Max_Pos_Moy</th>\n",
       "      <th>...</th>\n",
       "      <th>Vert_acc_milieu_Max_Pos</th>\n",
       "      <th>Vert_acc_milieu_Max_Pos_Moy</th>\n",
       "      <th>Vert_acc_milieu_Avg</th>\n",
       "      <th>Vert_acc_milieu_P2Avg</th>\n",
       "      <th>Vert_acc_queue_Max</th>\n",
       "      <th>Vert_acc_queue_Max_Pos</th>\n",
       "      <th>Vert_acc_queue_Max_Pos_Moy</th>\n",
       "      <th>Vert_acc_queue_Avg</th>\n",
       "      <th>Vert_acc_queue_P2Avg</th>\n",
       "      <th>other_defect_cat</th>\n",
       "    </tr>\n",
       "  </thead>\n",
       "  <tbody>\n",
       "    <tr>\n",
       "      <th>0</th>\n",
       "      <td>1</td>\n",
       "      <td>1.0</td>\n",
       "      <td>65</td>\n",
       "      <td>0.129602</td>\n",
       "      <td>0.194890</td>\n",
       "      <td>2.873796</td>\n",
       "      <td>1.0</td>\n",
       "      <td>0.752262</td>\n",
       "      <td>87.950574</td>\n",
       "      <td>68.638265</td>\n",
       "      <td>...</td>\n",
       "      <td>75.192607</td>\n",
       "      <td>16.137042</td>\n",
       "      <td>0.217622</td>\n",
       "      <td>0.795375</td>\n",
       "      <td>0.908808</td>\n",
       "      <td>57.318424</td>\n",
       "      <td>5.525649</td>\n",
       "      <td>0.993959</td>\n",
       "      <td>0.261032</td>\n",
       "      <td>1</td>\n",
       "    </tr>\n",
       "    <tr>\n",
       "      <th>1</th>\n",
       "      <td>3</td>\n",
       "      <td>1.0</td>\n",
       "      <td>88</td>\n",
       "      <td>0.596134</td>\n",
       "      <td>0.256297</td>\n",
       "      <td>10.058501</td>\n",
       "      <td>1.0</td>\n",
       "      <td>0.094905</td>\n",
       "      <td>31.830686</td>\n",
       "      <td>90.938068</td>\n",
       "      <td>...</td>\n",
       "      <td>7.611720</td>\n",
       "      <td>4.032583</td>\n",
       "      <td>0.724628</td>\n",
       "      <td>0.494631</td>\n",
       "      <td>0.063900</td>\n",
       "      <td>82.900767</td>\n",
       "      <td>80.738479</td>\n",
       "      <td>0.964982</td>\n",
       "      <td>0.209778</td>\n",
       "      <td>1</td>\n",
       "    </tr>\n",
       "    <tr>\n",
       "      <th>2</th>\n",
       "      <td>9</td>\n",
       "      <td>0.0</td>\n",
       "      <td>19</td>\n",
       "      <td>0.925416</td>\n",
       "      <td>0.792800</td>\n",
       "      <td>97.605961</td>\n",
       "      <td>1.0</td>\n",
       "      <td>0.109898</td>\n",
       "      <td>84.020510</td>\n",
       "      <td>75.576671</td>\n",
       "      <td>...</td>\n",
       "      <td>78.208195</td>\n",
       "      <td>11.278646</td>\n",
       "      <td>0.131325</td>\n",
       "      <td>0.659508</td>\n",
       "      <td>0.513546</td>\n",
       "      <td>26.105331</td>\n",
       "      <td>15.434057</td>\n",
       "      <td>0.619882</td>\n",
       "      <td>0.586835</td>\n",
       "      <td>1</td>\n",
       "    </tr>\n",
       "    <tr>\n",
       "      <th>3</th>\n",
       "      <td>8</td>\n",
       "      <td>0.0</td>\n",
       "      <td>4</td>\n",
       "      <td>0.246641</td>\n",
       "      <td>0.998444</td>\n",
       "      <td>86.626715</td>\n",
       "      <td>1.0</td>\n",
       "      <td>0.613182</td>\n",
       "      <td>8.211185</td>\n",
       "      <td>83.193297</td>\n",
       "      <td>...</td>\n",
       "      <td>43.268996</td>\n",
       "      <td>64.176379</td>\n",
       "      <td>0.371670</td>\n",
       "      <td>0.538361</td>\n",
       "      <td>0.186098</td>\n",
       "      <td>29.872721</td>\n",
       "      <td>34.452826</td>\n",
       "      <td>0.958172</td>\n",
       "      <td>0.283645</td>\n",
       "      <td>1</td>\n",
       "    </tr>\n",
       "    <tr>\n",
       "      <th>4</th>\n",
       "      <td>1</td>\n",
       "      <td>1.0</td>\n",
       "      <td>85</td>\n",
       "      <td>0.775806</td>\n",
       "      <td>0.406107</td>\n",
       "      <td>68.647455</td>\n",
       "      <td>1.0</td>\n",
       "      <td>0.639541</td>\n",
       "      <td>68.671405</td>\n",
       "      <td>98.810927</td>\n",
       "      <td>...</td>\n",
       "      <td>96.822168</td>\n",
       "      <td>23.832297</td>\n",
       "      <td>0.160506</td>\n",
       "      <td>0.420574</td>\n",
       "      <td>0.217493</td>\n",
       "      <td>80.275603</td>\n",
       "      <td>41.391723</td>\n",
       "      <td>0.812826</td>\n",
       "      <td>0.585044</td>\n",
       "      <td>1</td>\n",
       "    </tr>\n",
       "  </tbody>\n",
       "</table>\n",
       "<p>5 rows × 38 columns</p>\n",
       "</div>"
      ],
      "text/plain": [
       "  Reference Lane  TailleZone  Courbure  CourbureVert    Vitesse SensMarche  \\\n",
       "0         1  1.0          65  0.129602      0.194890   2.873796        1.0   \n",
       "1         3  1.0          88  0.596134      0.256297  10.058501        1.0   \n",
       "2         9  0.0          19  0.925416      0.792800  97.605961        1.0   \n",
       "3         8  0.0           4  0.246641      0.998444  86.626715        1.0   \n",
       "4         1  1.0          85  0.775806      0.406107  68.647455        1.0   \n",
       "\n",
       "   Lat_acc_tete_Max  Lat_acc_tete_Max_Pos  Lat_acc_tete_Max_Pos_Moy  ...  \\\n",
       "0          0.752262             87.950574                 68.638265  ...   \n",
       "1          0.094905             31.830686                 90.938068  ...   \n",
       "2          0.109898             84.020510                 75.576671  ...   \n",
       "3          0.613182              8.211185                 83.193297  ...   \n",
       "4          0.639541             68.671405                 98.810927  ...   \n",
       "\n",
       "   Vert_acc_milieu_Max_Pos  Vert_acc_milieu_Max_Pos_Moy  Vert_acc_milieu_Avg  \\\n",
       "0                75.192607                    16.137042             0.217622   \n",
       "1                 7.611720                     4.032583             0.724628   \n",
       "2                78.208195                    11.278646             0.131325   \n",
       "3                43.268996                    64.176379             0.371670   \n",
       "4                96.822168                    23.832297             0.160506   \n",
       "\n",
       "   Vert_acc_milieu_P2Avg  Vert_acc_queue_Max  Vert_acc_queue_Max_Pos  \\\n",
       "0               0.795375            0.908808               57.318424   \n",
       "1               0.494631            0.063900               82.900767   \n",
       "2               0.659508            0.513546               26.105331   \n",
       "3               0.538361            0.186098               29.872721   \n",
       "4               0.420574            0.217493               80.275603   \n",
       "\n",
       "   Vert_acc_queue_Max_Pos_Moy  Vert_acc_queue_Avg  Vert_acc_queue_P2Avg  \\\n",
       "0                    5.525649            0.993959              0.261032   \n",
       "1                   80.738479            0.964982              0.209778   \n",
       "2                   15.434057            0.619882              0.586835   \n",
       "3                   34.452826            0.958172              0.283645   \n",
       "4                   41.391723            0.812826              0.585044   \n",
       "\n",
       "   other_defect_cat  \n",
       "0                 1  \n",
       "1                 1  \n",
       "2                 1  \n",
       "3                 1  \n",
       "4                 1  \n",
       "\n",
       "[5 rows x 38 columns]"
      ]
     },
     "execution_count": 52,
     "metadata": {},
     "output_type": "execute_result"
    }
   ],
   "source": [
    "df.head()"
   ]
  },
  {
   "cell_type": "code",
   "execution_count": 53,
   "metadata": {},
   "outputs": [
    {
     "data": {
      "text/plain": [
       "1    73729\n",
       "0     1170\n",
       "Name: other_defect_cat, dtype: int64"
      ]
     },
     "execution_count": 53,
     "metadata": {},
     "output_type": "execute_result"
    }
   ],
   "source": [
    "y_train = df[\"other_defect_cat\"]\n",
    "X_train = df.drop(\"other_defect_cat\", axis=1)\n",
    "y_train.value_counts()"
   ]
  },
  {
   "cell_type": "markdown",
   "metadata": {},
   "source": [
    "### 2. Oversampling"
   ]
  },
  {
   "cell_type": "code",
   "execution_count": 54,
   "metadata": {},
   "outputs": [
    {
     "name": "stdout",
     "output_type": "stream",
     "text": [
      "Before oversampling Counter({1: 73729, 0: 1170})\n"
     ]
    }
   ],
   "source": [
    "counter = Counter(y_train)\n",
    "print('Before oversampling', counter)"
   ]
  },
  {
   "cell_type": "code",
   "execution_count": 55,
   "metadata": {},
   "outputs": [
    {
     "name": "stdout",
     "output_type": "stream",
     "text": [
      "After Counter({0: 73840, 1: 73729})\n"
     ]
    }
   ],
   "source": [
    "oversampling = True\n",
    "\n",
    "if oversampling:\n",
    "    from imblearn.over_sampling import ADASYN\n",
    "    ada = ADASYN(sampling_strategy=1, random_state = 42)# sampling_strategy = float only works for Binary \n",
    "    \n",
    "    X_train_pre_transf, y_train_pre_transf = ada.fit_resample(X_train, y_train)\n",
    "    counter = Counter(y_train_pre_transf)\n",
    "    print('After', counter)\n",
    "else:\n",
    "    X_train_pre_transf = X_train\n",
    "    y_train_pre_transf = y_train"
   ]
  },
  {
   "cell_type": "markdown",
   "metadata": {},
   "source": [
    "### 3. Transformation"
   ]
  },
  {
   "cell_type": "code",
   "execution_count": 56,
   "metadata": {},
   "outputs": [],
   "source": [
    "X_train_set = X_train_pre_transf.copy()"
   ]
  },
  {
   "cell_type": "code",
   "execution_count": 57,
   "metadata": {},
   "outputs": [],
   "source": [
    "cat_attribs = X_train_set.select_dtypes(include='category').columns.tolist()\n",
    "#print(cat_attribs)\n",
    "\n",
    "X_train_num_lst = X_train_set.drop(cat_attribs, axis=1).columns.tolist()\n",
    "X_train_cat_lst = X_train_set[cat_attribs].columns.tolist()\n",
    "\n",
    "#print(X_train_num_lst)\n",
    "#print(X_train_cat_lst)"
   ]
  },
  {
   "cell_type": "code",
   "execution_count": 58,
   "metadata": {},
   "outputs": [],
   "source": [
    "# Create a transforamtion class to drop unwanted features\n",
    "class Attrib_drop_2_B(BaseEstimator, TransformerMixin):\n",
    "    def __init__(self, d_list=[], keep_only_Lat_acc=False):\n",
    "        self.d_list = d_list\n",
    "        self.keep_only_Lat_acc = keep_only_Lat_acc\n",
    "    def fit(self, X, y=None):\n",
    "        return self\n",
    "    def transform(self, X, y=None):\n",
    "        if self.keep_only_Lat_acc:\n",
    "            Lat_acc_indices = []\n",
    "            for i, col in enumerate(X.columns):\n",
    "                if 'Lat_acc' in col:\n",
    "                    Lat_acc_indices.append(i)\n",
    "            return X.iloc[:,Lat_acc_indices]\n",
    "        elif self.d_list:\n",
    "            keep_indices = []\n",
    "            for i, col in enumerate(X.columns):\n",
    "                if col not in self.d_list:\n",
    "                    keep_indices.append(i)\n",
    "            return X.iloc[:,keep_indices]\n",
    "        else:\n",
    "            return X"
   ]
  },
  {
   "cell_type": "code",
   "execution_count": 59,
   "metadata": {},
   "outputs": [],
   "source": [
    "# List of the numerical features to be dropped to manually drop columns from the df\n",
    "\n",
    "drop_list_num_2_B = []\n",
    "\n",
    "\n",
    "num_pl_2_B = Pipeline([\n",
    "    #('imputer', SimpleImputer(strategy=\"median\")),\n",
    "    ('attrib_transform', Attrib_transformer(stat_feature_head_to_tail='average')),\n",
    "    ('attrib_drop', Attrib_drop_2_B(keep_only_Lat_acc=False, d_list=drop_list_num_2_B)),\n",
    "    ('std_scaler', StandardScaler()),\n",
    "])\n",
    "\n",
    "#For testing num_pl\n",
    "#num_prep = num_pl.fit_transform(X_train_set[X_train_num_lst])\n",
    "#print('shape after transformation: ', num_prep.shape)\n",
    "#num_prep"
   ]
  },
  {
   "cell_type": "code",
   "execution_count": 60,
   "metadata": {},
   "outputs": [],
   "source": [
    "# List of the categorical features to be dropped to manually drop columns from the df\n",
    "drop_list_cat_2_B = ['Lane']\n",
    "\n",
    "cat_pl_2_B = Pipeline([\n",
    "    #('imputer', SimpleImputer(strategy='most_frequent')),\n",
    "    ('attrib_drop', Attrib_drop_2_B(d_list=drop_list_cat_2_B)),\n",
    "    ('One_Hot', OneHotEncoder(sparse=False)),\n",
    "])\n",
    "\n",
    "# For testing cat_pl\n",
    "#cat_prep = cat_pl.fit_transform(X_train_set[X_train_cat_lst])\n",
    "#cat_prep"
   ]
  },
  {
   "cell_type": "code",
   "execution_count": 61,
   "metadata": {},
   "outputs": [
    {
     "name": "stderr",
     "output_type": "stream",
     "text": [
      "C:\\Users\\9112325B\\Anaconda3\\lib\\site-packages\\sklearn\\preprocessing\\_encoders.py:828: FutureWarning: `sparse` was renamed to `sparse_output` in version 1.2 and will be removed in 1.4. `sparse_output` is ignored unless you leave `sparse` to its default value.\n",
      "  warnings.warn(\n"
     ]
    }
   ],
   "source": [
    "full_pl_2_B = ColumnTransformer([\n",
    "    (\"num\", num_pl_2_B, X_train_num_lst),\n",
    "    (\"cat\", cat_pl_2_B, X_train_cat_lst),\n",
    "])\n",
    "\n",
    "X_train_prep = full_pl_2_B.fit_transform(X_train_set)"
   ]
  },
  {
   "cell_type": "markdown",
   "metadata": {},
   "source": [
    "### 4. PCA"
   ]
  },
  {
   "cell_type": "code",
   "execution_count": 62,
   "metadata": {},
   "outputs": [
    {
     "name": "stdout",
     "output_type": "stream",
     "text": [
      "number of components:  14\n"
     ]
    }
   ],
   "source": [
    "use_PCA = True\n",
    "\n",
    "if use_PCA:\n",
    "    from sklearn.decomposition import PCA\n",
    "    pca_2_B = PCA(copy=True, iterated_power='auto', n_components=0.9, random_state=None,\n",
    "              svd_solver='auto', tol=0.0, whiten=False)\n",
    "    \n",
    "    X_train_prep = pca_2_B.fit_transform(X_train_prep)\n",
    "    print('number of components: ', pca_2_B.n_components_)"
   ]
  },
  {
   "cell_type": "code",
   "execution_count": 63,
   "metadata": {},
   "outputs": [
    {
     "name": "stdout",
     "output_type": "stream",
     "text": [
      "shape after transformation:  (147569, 14)\n"
     ]
    },
    {
     "data": {
      "text/plain": [
       "array([[ 0.45841533,  1.70950435,  0.1953517 , ...,  1.50918452,\n",
       "         2.02801474,  1.74968815],\n",
       "       [ 2.28235994, -0.24745515, -1.14502502, ...,  0.63316267,\n",
       "        -0.4451134 ,  0.91684168],\n",
       "       [-0.76718617, -0.50447676,  1.52883977, ..., -0.68561827,\n",
       "         0.11503792,  1.55148451],\n",
       "       ...,\n",
       "       [-0.17948849,  2.19588526,  0.06874974, ...,  1.11571569,\n",
       "         1.82167693,  0.53928871],\n",
       "       [-1.04889419,  0.96283738,  1.21063177, ...,  1.20232737,\n",
       "         0.23141245,  1.45512968],\n",
       "       [-1.18462509,  1.00735897,  0.85079219, ...,  1.07969776,\n",
       "        -0.85048614,  0.60446123]])"
      ]
     },
     "execution_count": 63,
     "metadata": {},
     "output_type": "execute_result"
    }
   ],
   "source": [
    "print('shape after transformation: ', X_train_prep.shape)\n",
    "X_train_prep"
   ]
  },
  {
   "cell_type": "markdown",
   "metadata": {},
   "source": [
    "### 5. Train the classifier"
   ]
  },
  {
   "cell_type": "code",
   "execution_count": 64,
   "metadata": {},
   "outputs": [
    {
     "name": "stderr",
     "output_type": "stream",
     "text": [
      "C:\\Users\\9112325B\\AppData\\Local\\Temp\\ipykernel_10308\\2010331072.py:19: DeprecationWarning: KerasClassifier is deprecated, use Sci-Keras (https://github.com/adriangb/scikeras) instead. See https://www.adriangb.com/scikeras/stable/migration.html for help migrating.\n",
      "  model_2_B = KerasClassifier(build_fn=build_model_2_B, epochs=50, batch_size=32, verbose=0)\n"
     ]
    }
   ],
   "source": [
    "# Define a function to build the neural network model\n",
    "def build_model_2_B(n_hidden=9, n_neurons=64, lr=3e-3, rho=0.9, inputshape=X_train_prep.shape[1]):\n",
    "    model_2_B = keras.Sequential([\n",
    "        keras.layers.Dense(n_neurons, activation=\"selu\", kernel_initializer=\"lecun_normal\", input_shape=(inputshape,))\n",
    "    ])\n",
    "\n",
    "    for _ in range(n_hidden):\n",
    "        model_2_B.add(keras.layers.Dense(n_neurons, activation=\"selu\", kernel_initializer=\"lecun_normal\"))\n",
    "        model_2_B.add(keras.layers.AlphaDropout(rate=0.15))\n",
    "\n",
    "    model_2_B.add(keras.layers.Dense(1, activation=\"sigmoid\"))\n",
    "    \n",
    "    optimizer = keras.optimizers.RMSprop(learning_rate=lr, rho=rho)\n",
    "\n",
    "    model_2_B.compile(optimizer=\"adam\", loss=\"binary_crossentropy\", metrics=[\"accuracy\"])\n",
    "    return model_2_B\n",
    "\n",
    "# Create a KerasClassifier wrapper for the model\n",
    "model_2_B = KerasClassifier(build_fn=build_model_2_B, epochs=50, batch_size=32, verbose=0)"
   ]
  },
  {
   "cell_type": "code",
   "execution_count": 65,
   "metadata": {
    "scrolled": true
   },
   "outputs": [
    {
     "name": "stdout",
     "output_type": "stream",
     "text": [
      "923/923 [==============================] - 2s 2ms/step\n",
      "923/923 [==============================] - 2s 2ms/step\n",
      "923/923 [==============================] - 2s 2ms/step\n",
      "923/923 [==============================] - 2s 2ms/step\n",
      "923/923 [==============================] - 2s 2ms/step\n",
      "Cross-Validation Scores:\n",
      "Fold 1: 0.8907975875855526\n",
      "Fold 2: 0.8967608592532358\n",
      "Fold 3: 0.9127532696347496\n",
      "Fold 4: 0.9091278715186013\n",
      "Fold 5: 0.905228204520042\n",
      "Mean Accuracy: 0.9029335585024363\n",
      "Standard Deviation: 0.008067783424546664\n"
     ]
    }
   ],
   "source": [
    "# Perform cross-validation\n",
    "scores_2_B = cross_val_score(model_2_B, X_train_prep, y_train_pre_transf, cv=cv, scoring='accuracy')\n",
    "\n",
    "# Print cross-validation scores\n",
    "print(\"Cross-Validation Scores:\")\n",
    "for i, score in enumerate(scores_2_B):\n",
    "    print(f\"Fold {i+1}: {score}\")\n",
    "\n",
    "# Calculate mean and standard deviation of cross-validation scores\n",
    "mean_score_2_B = np.mean(scores_2_B)\n",
    "std_score_2_B = np.std(scores_2_B)\n",
    "print(f\"Mean Accuracy: {mean_score_2_B}\")\n",
    "print(f\"Standard Deviation: {std_score_2_B}\")"
   ]
  },
  {
   "cell_type": "code",
   "execution_count": 66,
   "metadata": {
    "scrolled": false
   },
   "outputs": [
    {
     "data": {
      "text/plain": [
       "<keras.callbacks.History at 0x16e7c8a57e0>"
      ]
     },
     "execution_count": 66,
     "metadata": {},
     "output_type": "execute_result"
    }
   ],
   "source": [
    "# Fit the model with the complete training set\n",
    "model_2_B.fit(X_train_prep, y_train_pre_transf, epochs=200, batch_size=32)"
   ]
  },
  {
   "cell_type": "markdown",
   "metadata": {},
   "source": [
    "# Final evalution using Final_test_set"
   ]
  },
  {
   "cell_type": "markdown",
   "metadata": {},
   "source": [
    "### 1. Prepare Final_test_set"
   ]
  },
  {
   "cell_type": "code",
   "execution_count": 67,
   "metadata": {},
   "outputs": [],
   "source": [
    "Final_test_set = Final_test_set_original.copy()"
   ]
  },
  {
   "cell_type": "code",
   "execution_count": 68,
   "metadata": {},
   "outputs": [],
   "source": [
    "# There are potentially 3 possible class labels \n",
    "# 0 = zones without 4 and 5, 1 = zones with only 4 and/or 5, 2 = zones with 4, 5, and other defects\n",
    "Final_test_set[\"long_cat\"] = Final_test_set.apply(lambda x: \n",
    "                                                  0 if \n",
    "                                                  x['defect_4_Type'] == 'A' and x['defect_5_Type'] == 'A'\n",
    "                                                  else 1 if\n",
    "                                                  (x['defect_4_Type'] != 'A' or x['defect_5_Type'] != 'A') and\n",
    "                                                  x['defect_1_Type'] == 'A' and \n",
    "                                                  x['defect_2_Type'] == 'A' and\n",
    "                                                  x['defect_3_Type'] == 'A'\n",
    "                                                  else 2, axis=1)"
   ]
  },
  {
   "cell_type": "code",
   "execution_count": 69,
   "metadata": {},
   "outputs": [
    {
     "data": {
      "text/html": [
       "<div>\n",
       "<style scoped>\n",
       "    .dataframe tbody tr th:only-of-type {\n",
       "        vertical-align: middle;\n",
       "    }\n",
       "\n",
       "    .dataframe tbody tr th {\n",
       "        vertical-align: top;\n",
       "    }\n",
       "\n",
       "    .dataframe thead th {\n",
       "        text-align: right;\n",
       "    }\n",
       "</style>\n",
       "<table border=\"1\" class=\"dataframe\">\n",
       "  <thead>\n",
       "    <tr style=\"text-align: right;\">\n",
       "      <th></th>\n",
       "      <th>defect_4_Type</th>\n",
       "      <th>defect_5_Type</th>\n",
       "      <th>long_cat</th>\n",
       "    </tr>\n",
       "  </thead>\n",
       "  <tbody>\n",
       "    <tr>\n",
       "      <th>19980</th>\n",
       "      <td>C</td>\n",
       "      <td>B</td>\n",
       "      <td>2</td>\n",
       "    </tr>\n",
       "    <tr>\n",
       "      <th>19981</th>\n",
       "      <td>D</td>\n",
       "      <td>D</td>\n",
       "      <td>2</td>\n",
       "    </tr>\n",
       "    <tr>\n",
       "      <th>19982</th>\n",
       "      <td>D</td>\n",
       "      <td>C</td>\n",
       "      <td>2</td>\n",
       "    </tr>\n",
       "    <tr>\n",
       "      <th>19983</th>\n",
       "      <td>D</td>\n",
       "      <td>D</td>\n",
       "      <td>2</td>\n",
       "    </tr>\n",
       "    <tr>\n",
       "      <th>19984</th>\n",
       "      <td>D</td>\n",
       "      <td>D</td>\n",
       "      <td>2</td>\n",
       "    </tr>\n",
       "    <tr>\n",
       "      <th>19985</th>\n",
       "      <td>D</td>\n",
       "      <td>A</td>\n",
       "      <td>2</td>\n",
       "    </tr>\n",
       "    <tr>\n",
       "      <th>19986</th>\n",
       "      <td>D</td>\n",
       "      <td>A</td>\n",
       "      <td>2</td>\n",
       "    </tr>\n",
       "    <tr>\n",
       "      <th>19987</th>\n",
       "      <td>B</td>\n",
       "      <td>D</td>\n",
       "      <td>2</td>\n",
       "    </tr>\n",
       "    <tr>\n",
       "      <th>19988</th>\n",
       "      <td>C</td>\n",
       "      <td>D</td>\n",
       "      <td>2</td>\n",
       "    </tr>\n",
       "    <tr>\n",
       "      <th>19989</th>\n",
       "      <td>C</td>\n",
       "      <td>A</td>\n",
       "      <td>2</td>\n",
       "    </tr>\n",
       "    <tr>\n",
       "      <th>19990</th>\n",
       "      <td>A</td>\n",
       "      <td>C</td>\n",
       "      <td>2</td>\n",
       "    </tr>\n",
       "    <tr>\n",
       "      <th>19991</th>\n",
       "      <td>C</td>\n",
       "      <td>B</td>\n",
       "      <td>2</td>\n",
       "    </tr>\n",
       "    <tr>\n",
       "      <th>19992</th>\n",
       "      <td>A</td>\n",
       "      <td>B</td>\n",
       "      <td>2</td>\n",
       "    </tr>\n",
       "    <tr>\n",
       "      <th>19993</th>\n",
       "      <td>B</td>\n",
       "      <td>C</td>\n",
       "      <td>2</td>\n",
       "    </tr>\n",
       "    <tr>\n",
       "      <th>19994</th>\n",
       "      <td>D</td>\n",
       "      <td>D</td>\n",
       "      <td>2</td>\n",
       "    </tr>\n",
       "    <tr>\n",
       "      <th>19995</th>\n",
       "      <td>A</td>\n",
       "      <td>B</td>\n",
       "      <td>2</td>\n",
       "    </tr>\n",
       "    <tr>\n",
       "      <th>19996</th>\n",
       "      <td>D</td>\n",
       "      <td>B</td>\n",
       "      <td>2</td>\n",
       "    </tr>\n",
       "    <tr>\n",
       "      <th>19997</th>\n",
       "      <td>C</td>\n",
       "      <td>B</td>\n",
       "      <td>2</td>\n",
       "    </tr>\n",
       "    <tr>\n",
       "      <th>19998</th>\n",
       "      <td>A</td>\n",
       "      <td>C</td>\n",
       "      <td>2</td>\n",
       "    </tr>\n",
       "    <tr>\n",
       "      <th>19999</th>\n",
       "      <td>A</td>\n",
       "      <td>B</td>\n",
       "      <td>2</td>\n",
       "    </tr>\n",
       "  </tbody>\n",
       "</table>\n",
       "</div>"
      ],
      "text/plain": [
       "      defect_4_Type defect_5_Type  long_cat\n",
       "19980             C             B         2\n",
       "19981             D             D         2\n",
       "19982             D             C         2\n",
       "19983             D             D         2\n",
       "19984             D             D         2\n",
       "19985             D             A         2\n",
       "19986             D             A         2\n",
       "19987             B             D         2\n",
       "19988             C             D         2\n",
       "19989             C             A         2\n",
       "19990             A             C         2\n",
       "19991             C             B         2\n",
       "19992             A             B         2\n",
       "19993             B             C         2\n",
       "19994             D             D         2\n",
       "19995             A             B         2\n",
       "19996             D             B         2\n",
       "19997             C             B         2\n",
       "19998             A             C         2\n",
       "19999             A             B         2"
      ]
     },
     "execution_count": 69,
     "metadata": {},
     "output_type": "execute_result"
    }
   ],
   "source": [
    "Final_test_set[['defect_4_Type', 'defect_5_Type', \"long_cat\"]].tail(20)"
   ]
  },
  {
   "cell_type": "code",
   "execution_count": 70,
   "metadata": {},
   "outputs": [
    {
     "name": "stdout",
     "output_type": "stream",
     "text": [
      "['Reference', 'Lane', 'TailleZone', 'Courbure', 'CourbureVert', 'Vitesse', 'SensMarche', 'Lat_acc_tete_Max', 'Lat_acc_tete_Max_Pos', 'Lat_acc_tete_Max_Pos_Moy', 'Lat_acc_tete_Avg', 'Lat_acc_tete_P2Avg', 'Lat_acc_milieu_Max', 'Lat_acc_milieu_Max_Pos', 'Lat_acc_milieu_Max_Pos_Moy', 'Lat_acc_milieu_Avg', 'Lat_acc_milieu_P2Avg', 'Lat_acc_queue_Max', 'Lat_acc_queue_Max_Pos', 'Lat_acc_queue_Max_Pos_Moy', 'Lat_acc_queue_Avg', 'Lat_acc_queue_P2Avg', 'Vert_acc_tete_Max', 'Vert_acc_tete_Max_Pos', 'Vert_acc_tete_Max_Pos_Moy', 'Vert_acc_tete_Avg', 'Vert_acc_tete_P2Avg', 'Vert_acc_milieu_Max', 'Vert_acc_milieu_Max_Pos', 'Vert_acc_milieu_Max_Pos_Moy', 'Vert_acc_milieu_Avg', 'Vert_acc_milieu_P2Avg', 'Vert_acc_queue_Max', 'Vert_acc_queue_Max_Pos', 'Vert_acc_queue_Max_Pos_Moy', 'Vert_acc_queue_Avg', 'Vert_acc_queue_P2Avg', 'long_cat']\n"
     ]
    }
   ],
   "source": [
    "Final_test_set.drop(['defect_1_Type', 'defect_2_Type', 'defect_3_Type', 'defect_4_Type', 'defect_5_Type']\n",
    "        , axis=1, inplace=True)\n",
    "print(Final_test_set.columns.tolist())"
   ]
  },
  {
   "cell_type": "code",
   "execution_count": 71,
   "metadata": {},
   "outputs": [
    {
     "data": {
      "text/html": [
       "<div>\n",
       "<style scoped>\n",
       "    .dataframe tbody tr th:only-of-type {\n",
       "        vertical-align: middle;\n",
       "    }\n",
       "\n",
       "    .dataframe tbody tr th {\n",
       "        vertical-align: top;\n",
       "    }\n",
       "\n",
       "    .dataframe thead th {\n",
       "        text-align: right;\n",
       "    }\n",
       "</style>\n",
       "<table border=\"1\" class=\"dataframe\">\n",
       "  <thead>\n",
       "    <tr style=\"text-align: right;\">\n",
       "      <th></th>\n",
       "      <th>Reference</th>\n",
       "      <th>Lane</th>\n",
       "      <th>TailleZone</th>\n",
       "      <th>Courbure</th>\n",
       "      <th>CourbureVert</th>\n",
       "      <th>Vitesse</th>\n",
       "      <th>SensMarche</th>\n",
       "      <th>Lat_acc_tete_Max</th>\n",
       "      <th>Lat_acc_tete_Max_Pos</th>\n",
       "      <th>Lat_acc_tete_Max_Pos_Moy</th>\n",
       "      <th>...</th>\n",
       "      <th>Vert_acc_milieu_Max_Pos</th>\n",
       "      <th>Vert_acc_milieu_Max_Pos_Moy</th>\n",
       "      <th>Vert_acc_milieu_Avg</th>\n",
       "      <th>Vert_acc_milieu_P2Avg</th>\n",
       "      <th>Vert_acc_queue_Max</th>\n",
       "      <th>Vert_acc_queue_Max_Pos</th>\n",
       "      <th>Vert_acc_queue_Max_Pos_Moy</th>\n",
       "      <th>Vert_acc_queue_Avg</th>\n",
       "      <th>Vert_acc_queue_P2Avg</th>\n",
       "      <th>long_cat</th>\n",
       "    </tr>\n",
       "  </thead>\n",
       "  <tbody>\n",
       "    <tr>\n",
       "      <th>0</th>\n",
       "      <td>0</td>\n",
       "      <td>V1</td>\n",
       "      <td>58</td>\n",
       "      <td>0.061012</td>\n",
       "      <td>0.422579</td>\n",
       "      <td>45.019002</td>\n",
       "      <td>Forward</td>\n",
       "      <td>0.184425</td>\n",
       "      <td>50.536693</td>\n",
       "      <td>80.109043</td>\n",
       "      <td>...</td>\n",
       "      <td>46.300975</td>\n",
       "      <td>36.449480</td>\n",
       "      <td>0.374554</td>\n",
       "      <td>0.747485</td>\n",
       "      <td>0.982818</td>\n",
       "      <td>9.767906</td>\n",
       "      <td>21.498897</td>\n",
       "      <td>0.766284</td>\n",
       "      <td>0.273878</td>\n",
       "      <td>2</td>\n",
       "    </tr>\n",
       "    <tr>\n",
       "      <th>1</th>\n",
       "      <td>9</td>\n",
       "      <td>V2</td>\n",
       "      <td>97</td>\n",
       "      <td>0.167956</td>\n",
       "      <td>0.387629</td>\n",
       "      <td>42.592263</td>\n",
       "      <td>Forward</td>\n",
       "      <td>0.995356</td>\n",
       "      <td>49.021384</td>\n",
       "      <td>15.911045</td>\n",
       "      <td>...</td>\n",
       "      <td>77.340648</td>\n",
       "      <td>86.011280</td>\n",
       "      <td>0.933336</td>\n",
       "      <td>0.550592</td>\n",
       "      <td>0.655059</td>\n",
       "      <td>68.002619</td>\n",
       "      <td>64.899793</td>\n",
       "      <td>0.246547</td>\n",
       "      <td>0.981744</td>\n",
       "      <td>2</td>\n",
       "    </tr>\n",
       "    <tr>\n",
       "      <th>2</th>\n",
       "      <td>0</td>\n",
       "      <td>V2</td>\n",
       "      <td>0</td>\n",
       "      <td>0.712088</td>\n",
       "      <td>0.174550</td>\n",
       "      <td>94.690438</td>\n",
       "      <td>Backward</td>\n",
       "      <td>0.061892</td>\n",
       "      <td>46.563015</td>\n",
       "      <td>0.941930</td>\n",
       "      <td>...</td>\n",
       "      <td>59.107232</td>\n",
       "      <td>1.520321</td>\n",
       "      <td>0.865648</td>\n",
       "      <td>0.572355</td>\n",
       "      <td>0.170194</td>\n",
       "      <td>29.893142</td>\n",
       "      <td>87.292892</td>\n",
       "      <td>0.390684</td>\n",
       "      <td>0.788877</td>\n",
       "      <td>2</td>\n",
       "    </tr>\n",
       "    <tr>\n",
       "      <th>3</th>\n",
       "      <td>8</td>\n",
       "      <td>V2</td>\n",
       "      <td>8</td>\n",
       "      <td>0.798699</td>\n",
       "      <td>0.151613</td>\n",
       "      <td>66.965318</td>\n",
       "      <td>Backward</td>\n",
       "      <td>0.907645</td>\n",
       "      <td>18.494101</td>\n",
       "      <td>45.016215</td>\n",
       "      <td>...</td>\n",
       "      <td>81.330808</td>\n",
       "      <td>58.662329</td>\n",
       "      <td>0.374283</td>\n",
       "      <td>0.016926</td>\n",
       "      <td>0.656740</td>\n",
       "      <td>98.087828</td>\n",
       "      <td>17.618310</td>\n",
       "      <td>0.098314</td>\n",
       "      <td>0.932632</td>\n",
       "      <td>2</td>\n",
       "    </tr>\n",
       "    <tr>\n",
       "      <th>4</th>\n",
       "      <td>9</td>\n",
       "      <td>V2</td>\n",
       "      <td>66</td>\n",
       "      <td>0.901910</td>\n",
       "      <td>0.999409</td>\n",
       "      <td>53.046510</td>\n",
       "      <td>Forward</td>\n",
       "      <td>0.527826</td>\n",
       "      <td>50.238682</td>\n",
       "      <td>60.135341</td>\n",
       "      <td>...</td>\n",
       "      <td>6.126490</td>\n",
       "      <td>72.734398</td>\n",
       "      <td>0.893576</td>\n",
       "      <td>0.190515</td>\n",
       "      <td>0.846435</td>\n",
       "      <td>90.680355</td>\n",
       "      <td>88.972167</td>\n",
       "      <td>0.975032</td>\n",
       "      <td>0.732676</td>\n",
       "      <td>2</td>\n",
       "    </tr>\n",
       "  </tbody>\n",
       "</table>\n",
       "<p>5 rows × 38 columns</p>\n",
       "</div>"
      ],
      "text/plain": [
       "   Reference Lane  TailleZone  Courbure  CourbureVert    Vitesse SensMarche  \\\n",
       "0          0   V1          58  0.061012      0.422579  45.019002    Forward   \n",
       "1          9   V2          97  0.167956      0.387629  42.592263    Forward   \n",
       "2          0   V2           0  0.712088      0.174550  94.690438   Backward   \n",
       "3          8   V2           8  0.798699      0.151613  66.965318   Backward   \n",
       "4          9   V2          66  0.901910      0.999409  53.046510    Forward   \n",
       "\n",
       "   Lat_acc_tete_Max  Lat_acc_tete_Max_Pos  Lat_acc_tete_Max_Pos_Moy  ...  \\\n",
       "0          0.184425             50.536693                 80.109043  ...   \n",
       "1          0.995356             49.021384                 15.911045  ...   \n",
       "2          0.061892             46.563015                  0.941930  ...   \n",
       "3          0.907645             18.494101                 45.016215  ...   \n",
       "4          0.527826             50.238682                 60.135341  ...   \n",
       "\n",
       "   Vert_acc_milieu_Max_Pos  Vert_acc_milieu_Max_Pos_Moy  Vert_acc_milieu_Avg  \\\n",
       "0                46.300975                    36.449480             0.374554   \n",
       "1                77.340648                    86.011280             0.933336   \n",
       "2                59.107232                     1.520321             0.865648   \n",
       "3                81.330808                    58.662329             0.374283   \n",
       "4                 6.126490                    72.734398             0.893576   \n",
       "\n",
       "   Vert_acc_milieu_P2Avg  Vert_acc_queue_Max  Vert_acc_queue_Max_Pos  \\\n",
       "0               0.747485            0.982818                9.767906   \n",
       "1               0.550592            0.655059               68.002619   \n",
       "2               0.572355            0.170194               29.893142   \n",
       "3               0.016926            0.656740               98.087828   \n",
       "4               0.190515            0.846435               90.680355   \n",
       "\n",
       "   Vert_acc_queue_Max_Pos_Moy  Vert_acc_queue_Avg  Vert_acc_queue_P2Avg  \\\n",
       "0                   21.498897            0.766284              0.273878   \n",
       "1                   64.899793            0.246547              0.981744   \n",
       "2                   87.292892            0.390684              0.788877   \n",
       "3                   17.618310            0.098314              0.932632   \n",
       "4                   88.972167            0.975032              0.732676   \n",
       "\n",
       "   long_cat  \n",
       "0         2  \n",
       "1         2  \n",
       "2         2  \n",
       "3         2  \n",
       "4         2  \n",
       "\n",
       "[5 rows x 38 columns]"
      ]
     },
     "execution_count": 71,
     "metadata": {},
     "output_type": "execute_result"
    }
   ],
   "source": [
    "Final_test_set.head()"
   ]
  },
  {
   "cell_type": "markdown",
   "metadata": {},
   "source": [
    "### 2. Make prediction with classifier 2-A "
   ]
  },
  {
   "cell_type": "code",
   "execution_count": 72,
   "metadata": {},
   "outputs": [],
   "source": [
    "# Find if there is any column that is not numeric \n",
    "Final_test_set_cat = Final_test_set.select_dtypes(exclude=[np.number])\n",
    "#Final_test_set_cat.head()\n",
    "\n",
    "# Add categorical columns that are number manually can convert them to categorical type\n",
    "Final_test_set[other_cat_col] = Final_test_set[other_cat_col].astype(\"category\")\n",
    "#df[other_cat_col].dtypes"
   ]
  },
  {
   "cell_type": "code",
   "execution_count": 73,
   "metadata": {},
   "outputs": [],
   "source": [
    "Final_test_set_cat_encoded = ordinal_encoder.fit_transform(Final_test_set_cat)\n",
    "#print(df_cat_encoded)\n",
    "\n",
    "Final_test_set[Final_test_set_cat.columns.tolist()] = Final_test_set_cat_encoded\n",
    "Final_test_set[df_cat.columns.tolist()] = Final_test_set[Final_test_set_cat.columns.tolist()].astype(\"category\")\n",
    "#df[df_cat.columns.tolist()].value_counts()"
   ]
  },
  {
   "cell_type": "code",
   "execution_count": 74,
   "metadata": {},
   "outputs": [],
   "source": [
    "Final_test_2_A = Final_test_set.copy()"
   ]
  },
  {
   "cell_type": "code",
   "execution_count": 75,
   "metadata": {},
   "outputs": [],
   "source": [
    "Final_test_2_A[\"long_cat\"] = Final_test_2_A.apply(lambda x:\n",
    "                                                  0 if\n",
    "                                                  x[\"long_cat\"] == 0\n",
    "                                                  else 1, axis=1)"
   ]
  },
  {
   "cell_type": "code",
   "execution_count": 76,
   "metadata": {},
   "outputs": [
    {
     "data": {
      "text/plain": [
       "1    18724\n",
       "0     1276\n",
       "Name: long_cat, dtype: int64"
      ]
     },
     "execution_count": 76,
     "metadata": {},
     "output_type": "execute_result"
    }
   ],
   "source": [
    "Final_test_2_A[\"long_cat\"].value_counts()"
   ]
  },
  {
   "cell_type": "code",
   "execution_count": 77,
   "metadata": {},
   "outputs": [],
   "source": [
    "X_Final_test_2_A = Final_test_2_A.drop(\"long_cat\", axis=1)\n",
    "y_Final_test_2_A = Final_test_2_A[\"long_cat\"]"
   ]
  },
  {
   "cell_type": "code",
   "execution_count": 78,
   "metadata": {},
   "outputs": [
    {
     "name": "stdout",
     "output_type": "stream",
     "text": [
      "number of components:  13\n",
      "shape after transformation:  (20000, 13)\n"
     ]
    }
   ],
   "source": [
    "#Transform the X_test as the train set has been transformed\n",
    "X_Final_test_2_A_prep = full_pl.transform(X_Final_test_2_A)\n",
    "#print('shape before PCA: ', X_train_prep.shape)\n",
    "\n",
    "if use_PCA:\n",
    "    X_Final_test_2_A_prep = pca.transform(X_Final_test_2_A_prep)\n",
    "    print('number of components: ', pca.n_components_)\n",
    "\n",
    "print('shape after transformation: ', X_Final_test_2_A_prep.shape)"
   ]
  },
  {
   "cell_type": "code",
   "execution_count": 81,
   "metadata": {},
   "outputs": [
    {
     "name": "stdout",
     "output_type": "stream",
     "text": [
      "625/625 [==============================] - 1s 2ms/step\n"
     ]
    }
   ],
   "source": [
    "y_Final_test_2_A_pred = model.predict(X_Final_test_2_A_prep)"
   ]
  },
  {
   "cell_type": "code",
   "execution_count": 82,
   "metadata": {},
   "outputs": [],
   "source": [
    "Final_test_set[\"2_A_label\"] = y_Final_test_2_A_pred"
   ]
  },
  {
   "cell_type": "code",
   "execution_count": 83,
   "metadata": {},
   "outputs": [
    {
     "data": {
      "text/html": [
       "<div>\n",
       "<style scoped>\n",
       "    .dataframe tbody tr th:only-of-type {\n",
       "        vertical-align: middle;\n",
       "    }\n",
       "\n",
       "    .dataframe tbody tr th {\n",
       "        vertical-align: top;\n",
       "    }\n",
       "\n",
       "    .dataframe thead th {\n",
       "        text-align: right;\n",
       "    }\n",
       "</style>\n",
       "<table border=\"1\" class=\"dataframe\">\n",
       "  <thead>\n",
       "    <tr style=\"text-align: right;\">\n",
       "      <th></th>\n",
       "      <th>long_cat</th>\n",
       "      <th>2_A_label</th>\n",
       "    </tr>\n",
       "  </thead>\n",
       "  <tbody>\n",
       "    <tr>\n",
       "      <th>0</th>\n",
       "      <td>2</td>\n",
       "      <td>1</td>\n",
       "    </tr>\n",
       "    <tr>\n",
       "      <th>1</th>\n",
       "      <td>2</td>\n",
       "      <td>1</td>\n",
       "    </tr>\n",
       "    <tr>\n",
       "      <th>2</th>\n",
       "      <td>2</td>\n",
       "      <td>0</td>\n",
       "    </tr>\n",
       "    <tr>\n",
       "      <th>3</th>\n",
       "      <td>2</td>\n",
       "      <td>1</td>\n",
       "    </tr>\n",
       "    <tr>\n",
       "      <th>4</th>\n",
       "      <td>2</td>\n",
       "      <td>1</td>\n",
       "    </tr>\n",
       "    <tr>\n",
       "      <th>5</th>\n",
       "      <td>2</td>\n",
       "      <td>1</td>\n",
       "    </tr>\n",
       "    <tr>\n",
       "      <th>6</th>\n",
       "      <td>2</td>\n",
       "      <td>0</td>\n",
       "    </tr>\n",
       "    <tr>\n",
       "      <th>7</th>\n",
       "      <td>2</td>\n",
       "      <td>1</td>\n",
       "    </tr>\n",
       "    <tr>\n",
       "      <th>8</th>\n",
       "      <td>2</td>\n",
       "      <td>1</td>\n",
       "    </tr>\n",
       "    <tr>\n",
       "      <th>9</th>\n",
       "      <td>2</td>\n",
       "      <td>1</td>\n",
       "    </tr>\n",
       "  </tbody>\n",
       "</table>\n",
       "</div>"
      ],
      "text/plain": [
       "   long_cat  2_A_label\n",
       "0         2          1\n",
       "1         2          1\n",
       "2         2          0\n",
       "3         2          1\n",
       "4         2          1\n",
       "5         2          1\n",
       "6         2          0\n",
       "7         2          1\n",
       "8         2          1\n",
       "9         2          1"
      ]
     },
     "execution_count": 83,
     "metadata": {},
     "output_type": "execute_result"
    }
   ],
   "source": [
    "Final_test_set[[\"long_cat\", \"2_A_label\"]].head(10)"
   ]
  },
  {
   "cell_type": "markdown",
   "metadata": {},
   "source": [
    "### 3. Prepare a set for 2-B by only keeping the rows that 2-A predict as 1"
   ]
  },
  {
   "cell_type": "code",
   "execution_count": 84,
   "metadata": {},
   "outputs": [],
   "source": [
    "# get index of rows with 2_A_label = 1\n",
    "labe_1_by_2_A_ind = Final_test_set[Final_test_set[\"2_A_label\"] == 1].index"
   ]
  },
  {
   "cell_type": "code",
   "execution_count": 85,
   "metadata": {},
   "outputs": [
    {
     "data": {
      "text/html": [
       "<div>\n",
       "<style scoped>\n",
       "    .dataframe tbody tr th:only-of-type {\n",
       "        vertical-align: middle;\n",
       "    }\n",
       "\n",
       "    .dataframe tbody tr th {\n",
       "        vertical-align: top;\n",
       "    }\n",
       "\n",
       "    .dataframe thead th {\n",
       "        text-align: right;\n",
       "    }\n",
       "</style>\n",
       "<table border=\"1\" class=\"dataframe\">\n",
       "  <thead>\n",
       "    <tr style=\"text-align: right;\">\n",
       "      <th></th>\n",
       "      <th>Reference</th>\n",
       "      <th>Lane</th>\n",
       "      <th>TailleZone</th>\n",
       "      <th>Courbure</th>\n",
       "      <th>CourbureVert</th>\n",
       "      <th>Vitesse</th>\n",
       "      <th>SensMarche</th>\n",
       "      <th>Lat_acc_tete_Max</th>\n",
       "      <th>Lat_acc_tete_Max_Pos</th>\n",
       "      <th>Lat_acc_tete_Max_Pos_Moy</th>\n",
       "      <th>...</th>\n",
       "      <th>Vert_acc_milieu_Max_Pos_Moy</th>\n",
       "      <th>Vert_acc_milieu_Avg</th>\n",
       "      <th>Vert_acc_milieu_P2Avg</th>\n",
       "      <th>Vert_acc_queue_Max</th>\n",
       "      <th>Vert_acc_queue_Max_Pos</th>\n",
       "      <th>Vert_acc_queue_Max_Pos_Moy</th>\n",
       "      <th>Vert_acc_queue_Avg</th>\n",
       "      <th>Vert_acc_queue_P2Avg</th>\n",
       "      <th>long_cat</th>\n",
       "      <th>2_A_label</th>\n",
       "    </tr>\n",
       "  </thead>\n",
       "  <tbody>\n",
       "    <tr>\n",
       "      <th>0</th>\n",
       "      <td>0</td>\n",
       "      <td>0.0</td>\n",
       "      <td>58</td>\n",
       "      <td>0.061012</td>\n",
       "      <td>0.422579</td>\n",
       "      <td>45.019002</td>\n",
       "      <td>1.0</td>\n",
       "      <td>0.184425</td>\n",
       "      <td>50.536693</td>\n",
       "      <td>80.109043</td>\n",
       "      <td>...</td>\n",
       "      <td>36.449480</td>\n",
       "      <td>0.374554</td>\n",
       "      <td>0.747485</td>\n",
       "      <td>0.982818</td>\n",
       "      <td>9.767906</td>\n",
       "      <td>21.498897</td>\n",
       "      <td>0.766284</td>\n",
       "      <td>0.273878</td>\n",
       "      <td>2</td>\n",
       "      <td>1</td>\n",
       "    </tr>\n",
       "    <tr>\n",
       "      <th>1</th>\n",
       "      <td>9</td>\n",
       "      <td>1.0</td>\n",
       "      <td>97</td>\n",
       "      <td>0.167956</td>\n",
       "      <td>0.387629</td>\n",
       "      <td>42.592263</td>\n",
       "      <td>1.0</td>\n",
       "      <td>0.995356</td>\n",
       "      <td>49.021384</td>\n",
       "      <td>15.911045</td>\n",
       "      <td>...</td>\n",
       "      <td>86.011280</td>\n",
       "      <td>0.933336</td>\n",
       "      <td>0.550592</td>\n",
       "      <td>0.655059</td>\n",
       "      <td>68.002619</td>\n",
       "      <td>64.899793</td>\n",
       "      <td>0.246547</td>\n",
       "      <td>0.981744</td>\n",
       "      <td>2</td>\n",
       "      <td>1</td>\n",
       "    </tr>\n",
       "    <tr>\n",
       "      <th>3</th>\n",
       "      <td>8</td>\n",
       "      <td>1.0</td>\n",
       "      <td>8</td>\n",
       "      <td>0.798699</td>\n",
       "      <td>0.151613</td>\n",
       "      <td>66.965318</td>\n",
       "      <td>0.0</td>\n",
       "      <td>0.907645</td>\n",
       "      <td>18.494101</td>\n",
       "      <td>45.016215</td>\n",
       "      <td>...</td>\n",
       "      <td>58.662329</td>\n",
       "      <td>0.374283</td>\n",
       "      <td>0.016926</td>\n",
       "      <td>0.656740</td>\n",
       "      <td>98.087828</td>\n",
       "      <td>17.618310</td>\n",
       "      <td>0.098314</td>\n",
       "      <td>0.932632</td>\n",
       "      <td>2</td>\n",
       "      <td>1</td>\n",
       "    </tr>\n",
       "    <tr>\n",
       "      <th>4</th>\n",
       "      <td>9</td>\n",
       "      <td>1.0</td>\n",
       "      <td>66</td>\n",
       "      <td>0.901910</td>\n",
       "      <td>0.999409</td>\n",
       "      <td>53.046510</td>\n",
       "      <td>1.0</td>\n",
       "      <td>0.527826</td>\n",
       "      <td>50.238682</td>\n",
       "      <td>60.135341</td>\n",
       "      <td>...</td>\n",
       "      <td>72.734398</td>\n",
       "      <td>0.893576</td>\n",
       "      <td>0.190515</td>\n",
       "      <td>0.846435</td>\n",
       "      <td>90.680355</td>\n",
       "      <td>88.972167</td>\n",
       "      <td>0.975032</td>\n",
       "      <td>0.732676</td>\n",
       "      <td>2</td>\n",
       "      <td>1</td>\n",
       "    </tr>\n",
       "    <tr>\n",
       "      <th>5</th>\n",
       "      <td>1</td>\n",
       "      <td>0.0</td>\n",
       "      <td>97</td>\n",
       "      <td>0.578775</td>\n",
       "      <td>0.020656</td>\n",
       "      <td>18.463119</td>\n",
       "      <td>1.0</td>\n",
       "      <td>0.284637</td>\n",
       "      <td>93.092866</td>\n",
       "      <td>91.363943</td>\n",
       "      <td>...</td>\n",
       "      <td>30.444079</td>\n",
       "      <td>0.678338</td>\n",
       "      <td>0.744485</td>\n",
       "      <td>0.113246</td>\n",
       "      <td>30.877378</td>\n",
       "      <td>91.823070</td>\n",
       "      <td>0.623847</td>\n",
       "      <td>0.375545</td>\n",
       "      <td>2</td>\n",
       "      <td>1</td>\n",
       "    </tr>\n",
       "    <tr>\n",
       "      <th>7</th>\n",
       "      <td>2</td>\n",
       "      <td>1.0</td>\n",
       "      <td>11</td>\n",
       "      <td>0.159011</td>\n",
       "      <td>0.166461</td>\n",
       "      <td>9.755523</td>\n",
       "      <td>1.0</td>\n",
       "      <td>0.781282</td>\n",
       "      <td>14.173483</td>\n",
       "      <td>75.609181</td>\n",
       "      <td>...</td>\n",
       "      <td>22.947765</td>\n",
       "      <td>0.132240</td>\n",
       "      <td>0.296015</td>\n",
       "      <td>0.079930</td>\n",
       "      <td>79.490100</td>\n",
       "      <td>15.267283</td>\n",
       "      <td>0.794995</td>\n",
       "      <td>0.776739</td>\n",
       "      <td>2</td>\n",
       "      <td>1</td>\n",
       "    </tr>\n",
       "    <tr>\n",
       "      <th>8</th>\n",
       "      <td>1</td>\n",
       "      <td>0.0</td>\n",
       "      <td>80</td>\n",
       "      <td>0.710604</td>\n",
       "      <td>0.497949</td>\n",
       "      <td>36.215432</td>\n",
       "      <td>1.0</td>\n",
       "      <td>0.532800</td>\n",
       "      <td>58.625842</td>\n",
       "      <td>81.556424</td>\n",
       "      <td>...</td>\n",
       "      <td>15.619975</td>\n",
       "      <td>0.201265</td>\n",
       "      <td>0.496295</td>\n",
       "      <td>0.683019</td>\n",
       "      <td>94.151490</td>\n",
       "      <td>49.814797</td>\n",
       "      <td>0.783799</td>\n",
       "      <td>0.801867</td>\n",
       "      <td>2</td>\n",
       "      <td>1</td>\n",
       "    </tr>\n",
       "    <tr>\n",
       "      <th>9</th>\n",
       "      <td>7</td>\n",
       "      <td>1.0</td>\n",
       "      <td>67</td>\n",
       "      <td>0.253910</td>\n",
       "      <td>0.042484</td>\n",
       "      <td>55.078579</td>\n",
       "      <td>1.0</td>\n",
       "      <td>0.106434</td>\n",
       "      <td>64.926032</td>\n",
       "      <td>0.543809</td>\n",
       "      <td>...</td>\n",
       "      <td>38.792435</td>\n",
       "      <td>0.447377</td>\n",
       "      <td>0.838742</td>\n",
       "      <td>0.499263</td>\n",
       "      <td>21.892008</td>\n",
       "      <td>2.851648</td>\n",
       "      <td>0.638703</td>\n",
       "      <td>0.635493</td>\n",
       "      <td>2</td>\n",
       "      <td>1</td>\n",
       "    </tr>\n",
       "    <tr>\n",
       "      <th>10</th>\n",
       "      <td>0</td>\n",
       "      <td>0.0</td>\n",
       "      <td>68</td>\n",
       "      <td>0.834128</td>\n",
       "      <td>0.523669</td>\n",
       "      <td>47.819770</td>\n",
       "      <td>0.0</td>\n",
       "      <td>0.007979</td>\n",
       "      <td>8.678230</td>\n",
       "      <td>54.614687</td>\n",
       "      <td>...</td>\n",
       "      <td>5.249040</td>\n",
       "      <td>0.338781</td>\n",
       "      <td>0.110085</td>\n",
       "      <td>0.251681</td>\n",
       "      <td>4.033912</td>\n",
       "      <td>21.931371</td>\n",
       "      <td>0.975803</td>\n",
       "      <td>0.348340</td>\n",
       "      <td>2</td>\n",
       "      <td>1</td>\n",
       "    </tr>\n",
       "    <tr>\n",
       "      <th>11</th>\n",
       "      <td>7</td>\n",
       "      <td>0.0</td>\n",
       "      <td>51</td>\n",
       "      <td>0.758171</td>\n",
       "      <td>0.865578</td>\n",
       "      <td>34.057140</td>\n",
       "      <td>1.0</td>\n",
       "      <td>0.628016</td>\n",
       "      <td>96.288249</td>\n",
       "      <td>52.886215</td>\n",
       "      <td>...</td>\n",
       "      <td>85.809029</td>\n",
       "      <td>0.263818</td>\n",
       "      <td>0.058790</td>\n",
       "      <td>0.781632</td>\n",
       "      <td>34.125623</td>\n",
       "      <td>4.116706</td>\n",
       "      <td>0.665097</td>\n",
       "      <td>0.639965</td>\n",
       "      <td>2</td>\n",
       "      <td>1</td>\n",
       "    </tr>\n",
       "  </tbody>\n",
       "</table>\n",
       "<p>10 rows × 39 columns</p>\n",
       "</div>"
      ],
      "text/plain": [
       "   Reference Lane  TailleZone  Courbure  CourbureVert    Vitesse SensMarche  \\\n",
       "0          0  0.0          58  0.061012      0.422579  45.019002        1.0   \n",
       "1          9  1.0          97  0.167956      0.387629  42.592263        1.0   \n",
       "3          8  1.0           8  0.798699      0.151613  66.965318        0.0   \n",
       "4          9  1.0          66  0.901910      0.999409  53.046510        1.0   \n",
       "5          1  0.0          97  0.578775      0.020656  18.463119        1.0   \n",
       "7          2  1.0          11  0.159011      0.166461   9.755523        1.0   \n",
       "8          1  0.0          80  0.710604      0.497949  36.215432        1.0   \n",
       "9          7  1.0          67  0.253910      0.042484  55.078579        1.0   \n",
       "10         0  0.0          68  0.834128      0.523669  47.819770        0.0   \n",
       "11         7  0.0          51  0.758171      0.865578  34.057140        1.0   \n",
       "\n",
       "    Lat_acc_tete_Max  Lat_acc_tete_Max_Pos  Lat_acc_tete_Max_Pos_Moy  ...  \\\n",
       "0           0.184425             50.536693                 80.109043  ...   \n",
       "1           0.995356             49.021384                 15.911045  ...   \n",
       "3           0.907645             18.494101                 45.016215  ...   \n",
       "4           0.527826             50.238682                 60.135341  ...   \n",
       "5           0.284637             93.092866                 91.363943  ...   \n",
       "7           0.781282             14.173483                 75.609181  ...   \n",
       "8           0.532800             58.625842                 81.556424  ...   \n",
       "9           0.106434             64.926032                  0.543809  ...   \n",
       "10          0.007979              8.678230                 54.614687  ...   \n",
       "11          0.628016             96.288249                 52.886215  ...   \n",
       "\n",
       "    Vert_acc_milieu_Max_Pos_Moy  Vert_acc_milieu_Avg  Vert_acc_milieu_P2Avg  \\\n",
       "0                     36.449480             0.374554               0.747485   \n",
       "1                     86.011280             0.933336               0.550592   \n",
       "3                     58.662329             0.374283               0.016926   \n",
       "4                     72.734398             0.893576               0.190515   \n",
       "5                     30.444079             0.678338               0.744485   \n",
       "7                     22.947765             0.132240               0.296015   \n",
       "8                     15.619975             0.201265               0.496295   \n",
       "9                     38.792435             0.447377               0.838742   \n",
       "10                     5.249040             0.338781               0.110085   \n",
       "11                    85.809029             0.263818               0.058790   \n",
       "\n",
       "    Vert_acc_queue_Max  Vert_acc_queue_Max_Pos  Vert_acc_queue_Max_Pos_Moy  \\\n",
       "0             0.982818                9.767906                   21.498897   \n",
       "1             0.655059               68.002619                   64.899793   \n",
       "3             0.656740               98.087828                   17.618310   \n",
       "4             0.846435               90.680355                   88.972167   \n",
       "5             0.113246               30.877378                   91.823070   \n",
       "7             0.079930               79.490100                   15.267283   \n",
       "8             0.683019               94.151490                   49.814797   \n",
       "9             0.499263               21.892008                    2.851648   \n",
       "10            0.251681                4.033912                   21.931371   \n",
       "11            0.781632               34.125623                    4.116706   \n",
       "\n",
       "    Vert_acc_queue_Avg  Vert_acc_queue_P2Avg  long_cat  2_A_label  \n",
       "0             0.766284              0.273878         2          1  \n",
       "1             0.246547              0.981744         2          1  \n",
       "3             0.098314              0.932632         2          1  \n",
       "4             0.975032              0.732676         2          1  \n",
       "5             0.623847              0.375545         2          1  \n",
       "7             0.794995              0.776739         2          1  \n",
       "8             0.783799              0.801867         2          1  \n",
       "9             0.638703              0.635493         2          1  \n",
       "10            0.975803              0.348340         2          1  \n",
       "11            0.665097              0.639965         2          1  \n",
       "\n",
       "[10 rows x 39 columns]"
      ]
     },
     "execution_count": 85,
     "metadata": {},
     "output_type": "execute_result"
    }
   ],
   "source": [
    "Final_test_set.iloc[labe_1_by_2_A_ind].head(10)"
   ]
  },
  {
   "cell_type": "code",
   "execution_count": 86,
   "metadata": {},
   "outputs": [
    {
     "data": {
      "text/plain": [
       "1    13736\n",
       "Name: 2_A_label, dtype: int64"
      ]
     },
     "execution_count": 86,
     "metadata": {},
     "output_type": "execute_result"
    }
   ],
   "source": [
    "Final_test_2_B = Final_test_set.iloc[labe_1_by_2_A_ind,:]\n",
    "\n",
    "Final_test_2_B[\"2_A_label\"].value_counts()"
   ]
  },
  {
   "cell_type": "markdown",
   "metadata": {},
   "source": [
    "### 4. Make prediction with classifier 2-B"
   ]
  },
  {
   "cell_type": "code",
   "execution_count": 87,
   "metadata": {
    "scrolled": true
   },
   "outputs": [
    {
     "name": "stderr",
     "output_type": "stream",
     "text": [
      "C:\\Users\\9112325B\\AppData\\Local\\Temp\\ipykernel_10308\\2566539846.py:2: SettingWithCopyWarning: \n",
      "A value is trying to be set on a copy of a slice from a DataFrame.\n",
      "Try using .loc[row_indexer,col_indexer] = value instead\n",
      "\n",
      "See the caveats in the documentation: https://pandas.pydata.org/pandas-docs/stable/user_guide/indexing.html#returning-a-view-versus-a-copy\n",
      "  Final_test_2_B[\"other_cat\"] = Final_test_2_B.apply(lambda x:\n"
     ]
    }
   ],
   "source": [
    "# Using this code, zones with long only = 0, and zones with only long and other and **zones without long = 1 \n",
    "Final_test_2_B[\"other_cat\"] = Final_test_2_B.apply(lambda x:\n",
    "                                                   0 if\n",
    "                                                   x[\"long_cat\"] == 1 or  x[\"long_cat\"] == 0\n",
    "                                                   else 1, axis=1)"
   ]
  },
  {
   "cell_type": "code",
   "execution_count": 88,
   "metadata": {},
   "outputs": [
    {
     "data": {
      "text/html": [
       "<div>\n",
       "<style scoped>\n",
       "    .dataframe tbody tr th:only-of-type {\n",
       "        vertical-align: middle;\n",
       "    }\n",
       "\n",
       "    .dataframe tbody tr th {\n",
       "        vertical-align: top;\n",
       "    }\n",
       "\n",
       "    .dataframe thead th {\n",
       "        text-align: right;\n",
       "    }\n",
       "</style>\n",
       "<table border=\"1\" class=\"dataframe\">\n",
       "  <thead>\n",
       "    <tr style=\"text-align: right;\">\n",
       "      <th></th>\n",
       "      <th>long_cat</th>\n",
       "      <th>2_A_label</th>\n",
       "      <th>other_cat</th>\n",
       "    </tr>\n",
       "  </thead>\n",
       "  <tbody>\n",
       "    <tr>\n",
       "      <th>19972</th>\n",
       "      <td>2</td>\n",
       "      <td>1</td>\n",
       "      <td>1</td>\n",
       "    </tr>\n",
       "    <tr>\n",
       "      <th>19974</th>\n",
       "      <td>2</td>\n",
       "      <td>1</td>\n",
       "      <td>1</td>\n",
       "    </tr>\n",
       "    <tr>\n",
       "      <th>19975</th>\n",
       "      <td>2</td>\n",
       "      <td>1</td>\n",
       "      <td>1</td>\n",
       "    </tr>\n",
       "    <tr>\n",
       "      <th>19977</th>\n",
       "      <td>2</td>\n",
       "      <td>1</td>\n",
       "      <td>1</td>\n",
       "    </tr>\n",
       "    <tr>\n",
       "      <th>19978</th>\n",
       "      <td>2</td>\n",
       "      <td>1</td>\n",
       "      <td>1</td>\n",
       "    </tr>\n",
       "    <tr>\n",
       "      <th>19979</th>\n",
       "      <td>2</td>\n",
       "      <td>1</td>\n",
       "      <td>1</td>\n",
       "    </tr>\n",
       "    <tr>\n",
       "      <th>19980</th>\n",
       "      <td>2</td>\n",
       "      <td>1</td>\n",
       "      <td>1</td>\n",
       "    </tr>\n",
       "    <tr>\n",
       "      <th>19983</th>\n",
       "      <td>2</td>\n",
       "      <td>1</td>\n",
       "      <td>1</td>\n",
       "    </tr>\n",
       "    <tr>\n",
       "      <th>19984</th>\n",
       "      <td>2</td>\n",
       "      <td>1</td>\n",
       "      <td>1</td>\n",
       "    </tr>\n",
       "    <tr>\n",
       "      <th>19987</th>\n",
       "      <td>2</td>\n",
       "      <td>1</td>\n",
       "      <td>1</td>\n",
       "    </tr>\n",
       "    <tr>\n",
       "      <th>19988</th>\n",
       "      <td>2</td>\n",
       "      <td>1</td>\n",
       "      <td>1</td>\n",
       "    </tr>\n",
       "    <tr>\n",
       "      <th>19990</th>\n",
       "      <td>2</td>\n",
       "      <td>1</td>\n",
       "      <td>1</td>\n",
       "    </tr>\n",
       "    <tr>\n",
       "      <th>19991</th>\n",
       "      <td>2</td>\n",
       "      <td>1</td>\n",
       "      <td>1</td>\n",
       "    </tr>\n",
       "    <tr>\n",
       "      <th>19993</th>\n",
       "      <td>2</td>\n",
       "      <td>1</td>\n",
       "      <td>1</td>\n",
       "    </tr>\n",
       "    <tr>\n",
       "      <th>19994</th>\n",
       "      <td>2</td>\n",
       "      <td>1</td>\n",
       "      <td>1</td>\n",
       "    </tr>\n",
       "    <tr>\n",
       "      <th>19995</th>\n",
       "      <td>2</td>\n",
       "      <td>1</td>\n",
       "      <td>1</td>\n",
       "    </tr>\n",
       "    <tr>\n",
       "      <th>19996</th>\n",
       "      <td>2</td>\n",
       "      <td>1</td>\n",
       "      <td>1</td>\n",
       "    </tr>\n",
       "    <tr>\n",
       "      <th>19997</th>\n",
       "      <td>2</td>\n",
       "      <td>1</td>\n",
       "      <td>1</td>\n",
       "    </tr>\n",
       "    <tr>\n",
       "      <th>19998</th>\n",
       "      <td>2</td>\n",
       "      <td>1</td>\n",
       "      <td>1</td>\n",
       "    </tr>\n",
       "    <tr>\n",
       "      <th>19999</th>\n",
       "      <td>2</td>\n",
       "      <td>1</td>\n",
       "      <td>1</td>\n",
       "    </tr>\n",
       "  </tbody>\n",
       "</table>\n",
       "</div>"
      ],
      "text/plain": [
       "       long_cat  2_A_label  other_cat\n",
       "19972         2          1          1\n",
       "19974         2          1          1\n",
       "19975         2          1          1\n",
       "19977         2          1          1\n",
       "19978         2          1          1\n",
       "19979         2          1          1\n",
       "19980         2          1          1\n",
       "19983         2          1          1\n",
       "19984         2          1          1\n",
       "19987         2          1          1\n",
       "19988         2          1          1\n",
       "19990         2          1          1\n",
       "19991         2          1          1\n",
       "19993         2          1          1\n",
       "19994         2          1          1\n",
       "19995         2          1          1\n",
       "19996         2          1          1\n",
       "19997         2          1          1\n",
       "19998         2          1          1\n",
       "19999         2          1          1"
      ]
     },
     "execution_count": 88,
     "metadata": {},
     "output_type": "execute_result"
    }
   ],
   "source": [
    "Final_test_2_B[[\"long_cat\",\"2_A_label\",\"other_cat\"]].tail(20)"
   ]
  },
  {
   "cell_type": "code",
   "execution_count": 89,
   "metadata": {},
   "outputs": [],
   "source": [
    "X_Final_test_2_B = Final_test_2_B.drop([\"other_cat\", \"long_cat\", \"2_A_label\"], axis=1)\n",
    "y_Final_test_2_B = Final_test_2_B[\"other_cat\"]"
   ]
  },
  {
   "cell_type": "code",
   "execution_count": 90,
   "metadata": {},
   "outputs": [
    {
     "name": "stdout",
     "output_type": "stream",
     "text": [
      "number of components:  14\n",
      "shape after transformation:  (13736, 14)\n"
     ]
    }
   ],
   "source": [
    "#Transform the X_test as the train set has been transformed\n",
    "X_Final_test_2_B_prep = full_pl_2_B.transform(X_Final_test_2_B)\n",
    "#print('shape before PCA: ', X_train_prep.shape)\n",
    "\n",
    "if use_PCA:\n",
    "    X_Final_test_2_B_prep = pca_2_B.transform(X_Final_test_2_B_prep)\n",
    "    print('number of components: ', pca_2_B.n_components_)\n",
    "\n",
    "print('shape after transformation: ', X_Final_test_2_B_prep.shape)"
   ]
  },
  {
   "cell_type": "code",
   "execution_count": 91,
   "metadata": {},
   "outputs": [
    {
     "name": "stdout",
     "output_type": "stream",
     "text": [
      "430/430 [==============================] - 1s 2ms/step\n"
     ]
    }
   ],
   "source": [
    "y_Final_test_2_B_pred = model_2_B.predict(X_Final_test_2_B_prep)"
   ]
  },
  {
   "cell_type": "code",
   "execution_count": 92,
   "metadata": {},
   "outputs": [
    {
     "data": {
      "text/plain": [
       "array([[1],\n",
       "       [1],\n",
       "       [1],\n",
       "       ...,\n",
       "       [1],\n",
       "       [1],\n",
       "       [1]], dtype=int64)"
      ]
     },
     "execution_count": 92,
     "metadata": {},
     "output_type": "execute_result"
    }
   ],
   "source": [
    "y_Final_test_2_B_pred"
   ]
  },
  {
   "cell_type": "code",
   "execution_count": 93,
   "metadata": {},
   "outputs": [
    {
     "data": {
      "text/plain": [
       "array([[2],\n",
       "       [2],\n",
       "       [2],\n",
       "       ...,\n",
       "       [2],\n",
       "       [2],\n",
       "       [2]], dtype=int64)"
      ]
     },
     "execution_count": 93,
     "metadata": {},
     "output_type": "execute_result"
    }
   ],
   "source": [
    "y_Final_test_2_B_pred_2 = y_Final_test_2_B_pred.copy()\n",
    "y_Final_test_2_B_pred_2[y_Final_test_2_B_pred_2 == 1] = 2\n",
    "y_Final_test_2_B_pred_2[y_Final_test_2_B_pred_2 == 0] = 1 \n",
    "y_Final_test_2_B_pred_2"
   ]
  },
  {
   "cell_type": "markdown",
   "metadata": {},
   "source": [
    "### 5. Integrate the prediction back to Final_test_set and evaluate"
   ]
  },
  {
   "cell_type": "code",
   "execution_count": 94,
   "metadata": {
    "scrolled": true
   },
   "outputs": [],
   "source": [
    "Final_test_set[[\"2_B_label\"]] = 0\n",
    "Final_test_set.iloc[labe_1_by_2_A_ind, -1] = y_Final_test_2_B_pred_2"
   ]
  },
  {
   "cell_type": "code",
   "execution_count": 95,
   "metadata": {},
   "outputs": [
    {
     "data": {
      "text/html": [
       "<div>\n",
       "<style scoped>\n",
       "    .dataframe tbody tr th:only-of-type {\n",
       "        vertical-align: middle;\n",
       "    }\n",
       "\n",
       "    .dataframe tbody tr th {\n",
       "        vertical-align: top;\n",
       "    }\n",
       "\n",
       "    .dataframe thead th {\n",
       "        text-align: right;\n",
       "    }\n",
       "</style>\n",
       "<table border=\"1\" class=\"dataframe\">\n",
       "  <thead>\n",
       "    <tr style=\"text-align: right;\">\n",
       "      <th></th>\n",
       "      <th>long_cat</th>\n",
       "      <th>2_A_label</th>\n",
       "      <th>2_B_label</th>\n",
       "    </tr>\n",
       "  </thead>\n",
       "  <tbody>\n",
       "    <tr>\n",
       "      <th>19980</th>\n",
       "      <td>2</td>\n",
       "      <td>1</td>\n",
       "      <td>2</td>\n",
       "    </tr>\n",
       "    <tr>\n",
       "      <th>19981</th>\n",
       "      <td>2</td>\n",
       "      <td>0</td>\n",
       "      <td>0</td>\n",
       "    </tr>\n",
       "    <tr>\n",
       "      <th>19982</th>\n",
       "      <td>2</td>\n",
       "      <td>0</td>\n",
       "      <td>0</td>\n",
       "    </tr>\n",
       "    <tr>\n",
       "      <th>19983</th>\n",
       "      <td>2</td>\n",
       "      <td>1</td>\n",
       "      <td>2</td>\n",
       "    </tr>\n",
       "    <tr>\n",
       "      <th>19984</th>\n",
       "      <td>2</td>\n",
       "      <td>1</td>\n",
       "      <td>2</td>\n",
       "    </tr>\n",
       "    <tr>\n",
       "      <th>19985</th>\n",
       "      <td>2</td>\n",
       "      <td>0</td>\n",
       "      <td>0</td>\n",
       "    </tr>\n",
       "    <tr>\n",
       "      <th>19986</th>\n",
       "      <td>2</td>\n",
       "      <td>0</td>\n",
       "      <td>0</td>\n",
       "    </tr>\n",
       "    <tr>\n",
       "      <th>19987</th>\n",
       "      <td>2</td>\n",
       "      <td>1</td>\n",
       "      <td>2</td>\n",
       "    </tr>\n",
       "    <tr>\n",
       "      <th>19988</th>\n",
       "      <td>2</td>\n",
       "      <td>1</td>\n",
       "      <td>2</td>\n",
       "    </tr>\n",
       "    <tr>\n",
       "      <th>19989</th>\n",
       "      <td>2</td>\n",
       "      <td>0</td>\n",
       "      <td>0</td>\n",
       "    </tr>\n",
       "    <tr>\n",
       "      <th>19990</th>\n",
       "      <td>2</td>\n",
       "      <td>1</td>\n",
       "      <td>2</td>\n",
       "    </tr>\n",
       "    <tr>\n",
       "      <th>19991</th>\n",
       "      <td>2</td>\n",
       "      <td>1</td>\n",
       "      <td>2</td>\n",
       "    </tr>\n",
       "    <tr>\n",
       "      <th>19992</th>\n",
       "      <td>2</td>\n",
       "      <td>0</td>\n",
       "      <td>0</td>\n",
       "    </tr>\n",
       "    <tr>\n",
       "      <th>19993</th>\n",
       "      <td>2</td>\n",
       "      <td>1</td>\n",
       "      <td>2</td>\n",
       "    </tr>\n",
       "    <tr>\n",
       "      <th>19994</th>\n",
       "      <td>2</td>\n",
       "      <td>1</td>\n",
       "      <td>2</td>\n",
       "    </tr>\n",
       "    <tr>\n",
       "      <th>19995</th>\n",
       "      <td>2</td>\n",
       "      <td>1</td>\n",
       "      <td>2</td>\n",
       "    </tr>\n",
       "    <tr>\n",
       "      <th>19996</th>\n",
       "      <td>2</td>\n",
       "      <td>1</td>\n",
       "      <td>1</td>\n",
       "    </tr>\n",
       "    <tr>\n",
       "      <th>19997</th>\n",
       "      <td>2</td>\n",
       "      <td>1</td>\n",
       "      <td>2</td>\n",
       "    </tr>\n",
       "    <tr>\n",
       "      <th>19998</th>\n",
       "      <td>2</td>\n",
       "      <td>1</td>\n",
       "      <td>2</td>\n",
       "    </tr>\n",
       "    <tr>\n",
       "      <th>19999</th>\n",
       "      <td>2</td>\n",
       "      <td>1</td>\n",
       "      <td>2</td>\n",
       "    </tr>\n",
       "  </tbody>\n",
       "</table>\n",
       "</div>"
      ],
      "text/plain": [
       "       long_cat  2_A_label  2_B_label\n",
       "19980         2          1          2\n",
       "19981         2          0          0\n",
       "19982         2          0          0\n",
       "19983         2          1          2\n",
       "19984         2          1          2\n",
       "19985         2          0          0\n",
       "19986         2          0          0\n",
       "19987         2          1          2\n",
       "19988         2          1          2\n",
       "19989         2          0          0\n",
       "19990         2          1          2\n",
       "19991         2          1          2\n",
       "19992         2          0          0\n",
       "19993         2          1          2\n",
       "19994         2          1          2\n",
       "19995         2          1          2\n",
       "19996         2          1          1\n",
       "19997         2          1          2\n",
       "19998         2          1          2\n",
       "19999         2          1          2"
      ]
     },
     "execution_count": 95,
     "metadata": {},
     "output_type": "execute_result"
    }
   ],
   "source": [
    "Final_test_set[[\"long_cat\", \"2_A_label\", \"2_B_label\"]].tail(20)"
   ]
  },
  {
   "cell_type": "code",
   "execution_count": 96,
   "metadata": {},
   "outputs": [],
   "source": [
    "from sklearn.model_selection import cross_val_predict\n",
    "from sklearn.metrics import confusion_matrix\n",
    "from sklearn.metrics import classification_report\n",
    "import sys"
   ]
  },
  {
   "cell_type": "code",
   "execution_count": 97,
   "metadata": {},
   "outputs": [],
   "source": [
    "def perf_evaluate_plot(y_test, y_pred, n_class = 2):\n",
    "    # Generate confusion matrix\n",
    "    cm = confusion_matrix(y_test, y_pred)\n",
    "    \n",
    "    # Define class names\n",
    "    if n_class == 2:\n",
    "        classes = ['Class 0', 'Class 1']\n",
    "    elif n_class == 3:\n",
    "        classes = ['Class 0', 'Class 1', 'Class 2']\n",
    "    else:\n",
    "        sys.exit(\"n_class can only be 2 or 3\")\n",
    "    \n",
    "    # Define plot parameters\n",
    "    fig, ax = plt.subplots()\n",
    "    sns.heatmap(cm, annot=True, cmap=\"YlGnBu\", fmt=\"d\", xticklabels=classes, yticklabels=classes, annot_kws={\"fontsize\":16})\n",
    "    \n",
    "    # Set plot labels\n",
    "    ax.set_xlabel('Predicted label')\n",
    "    ax.set_ylabel('True label')\n",
    "    ax.set_title('Confusion Matrix')\n",
    "    plt.show()\n",
    "    \n",
    "    # Create classification report\n",
    "    print(classification_report(y_test, y_pred))\n",
    "    print(\"====================================================================================\")"
   ]
  },
  {
   "cell_type": "code",
   "execution_count": 98,
   "metadata": {
    "scrolled": false
   },
   "outputs": [
    {
     "name": "stdout",
     "output_type": "stream",
     "text": [
      "2-A performance evaluation\n"
     ]
    },
    {
     "data": {
      "image/png": "[encoded data removed]",
      "text/plain": [
       "<Figure size 640x480 with 2 Axes>"
      ]
     },
     "metadata": {},
     "output_type": "display_data"
    },
    {
     "name": "stdout",
     "output_type": "stream",
     "text": [
      "              precision    recall  f1-score   support\n",
      "\n",
      "           0       0.06      0.30      0.10      1276\n",
      "           1       0.94      0.69      0.79     18724\n",
      "\n",
      "    accuracy                           0.66     20000\n",
      "   macro avg       0.50      0.49      0.45     20000\n",
      "weighted avg       0.88      0.66      0.75     20000\n",
      "\n",
      "====================================================================================\n",
      "2-B performance evaluation\n"
     ]
    },
    {
     "data": {
      "image/png": "[encoded data removed]",
      "text/plain": [
       "<Figure size 640x480 with 2 Axes>"
      ]
     },
     "metadata": {},
     "output_type": "display_data"
    },
    {
     "name": "stdout",
     "output_type": "stream",
     "text": [
      "              precision    recall  f1-score   support\n",
      "\n",
      "           0       0.08      0.06      0.07      1088\n",
      "           1       0.92      0.94      0.93     12648\n",
      "\n",
      "    accuracy                           0.87     13736\n",
      "   macro avg       0.50      0.50      0.50     13736\n",
      "weighted avg       0.85      0.87      0.86     13736\n",
      "\n",
      "====================================================================================\n",
      "Model net performance evaluation\n"
     ]
    },
    {
     "data": {
      "image/png": "[encoded data removed]",
      "text/plain": [
       "<Figure size 640x480 with 2 Axes>"
      ]
     },
     "metadata": {},
     "output_type": "display_data"
    },
    {
     "name": "stdout",
     "output_type": "stream",
     "text": [
      "              precision    recall  f1-score   support\n",
      "\n",
      "           0       0.06      0.30      0.10      1276\n",
      "           1       0.02      0.05      0.02       292\n",
      "           2       0.92      0.64      0.76     18432\n",
      "\n",
      "    accuracy                           0.61     20000\n",
      "   macro avg       0.33      0.33      0.30     20000\n",
      "weighted avg       0.85      0.61      0.71     20000\n",
      "\n",
      "====================================================================================\n"
     ]
    }
   ],
   "source": [
    "# classifier 2-A alone\n",
    "print(\"2-A performance evaluation\")\n",
    "perf_evaluate_plot(y_Final_test_2_A, y_Final_test_2_A_pred, n_class=2)\n",
    "\n",
    "# classifier 2-B alone\n",
    "print(\"2-B performance evaluation\")\n",
    "perf_evaluate_plot(y_Final_test_2_B, y_Final_test_2_B_pred, n_class=2)\n",
    "\n",
    "# Net performance\n",
    "print(\"Model net performance evaluation\")\n",
    "perf_evaluate_plot(Final_test_set[\"long_cat\"], Final_test_set[\"2_B_label\"], n_class=3)"
   ]
  },
  {
   "cell_type": "markdown",
   "metadata": {},
   "source": [
    "#### Final words\n",
    "\n",
    "The result is horrible to say the least. It was much better with the actual dataset for the problem that this model was built to solve. The main reason is the proportion of label 0 in both cases was very small. Although oversampling was used for counterbalancing, it was not effective. It says a lot about the importance of the quality of data for machine learning tasks.\n",
    "\n",
    "Anyways, the idea of this notebook is to demonstrate how to use deep learning neural network to perform classification problem when the model has two-level architecture. It is possible to compare the performance of the classifier of each level to the global performance to observe the performance drop caused by error propagation."
   ]
  },
  {
   "cell_type": "code",
   "execution_count": null,
   "metadata": {},
   "outputs": [],
   "source": []
  }
 ],
 "metadata": {
  "kernelspec": {
   "display_name": "Python 3 (ipykernel)",
   "language": "python",
   "name": "python3"
  },
  "language_info": {
   "codemirror_mode": {
    "name": "ipython",
    "version": 3
   },
   "file_extension": ".py",
   "mimetype": "text/x-python",
   "name": "python",
   "nbconvert_exporter": "python",
   "pygments_lexer": "ipython3",
   "version": "3.10.9"
  }
 },
 "nbformat": 4,
 "nbformat_minor": 4
}
